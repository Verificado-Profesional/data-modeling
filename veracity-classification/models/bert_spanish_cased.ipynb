{
  "cells": [
    {
      "cell_type": "markdown",
      "metadata": {
        "id": "6KHu5j3ymR69"
      },
      "source": [
        "### Importo Librerias"
      ]
    },
    {
      "cell_type": "code",
      "execution_count": 68,
      "metadata": {
        "id": "BMgDAfMckUT9"
      },
      "outputs": [],
      "source": [
        "import os\n",
        "import torch\n",
        "from torch import nn\n",
        "from torch.utils.data import DataLoader, Dataset\n",
        "from transformers import BertTokenizer, BertModel, AdamW, get_linear_schedule_with_warmup\n",
        "from sklearn.model_selection import train_test_split\n",
        "from sklearn.metrics import accuracy_score, classification_report\n",
        "import pandas as pd"
      ]
    },
    {
      "cell_type": "markdown",
      "metadata": {
        "id": "qwQPVJxCmX5L"
      },
      "source": [
        "### Cargo el Dataset"
      ]
    },
    {
      "cell_type": "code",
      "execution_count": 69,
      "metadata": {
        "id": "v0FBP6P-ldVw"
      },
      "outputs": [],
      "source": [
        "def load_imdb_data(data_file):\n",
        "    df = pd.read_csv(data_file)\n",
        "    texts = list(df['texto'])\n",
        "    labels = df['clasificacion'].tolist()\n",
        "    return texts, labels"
      ]
    },
    {
      "cell_type": "code",
      "execution_count": 70,
      "metadata": {
        "id": "vghpiE80lvz8"
      },
      "outputs": [],
      "source": [
        "arg_file = \"./data_arg.csv\"\n",
        "arg_texts, arg_labels = load_imdb_data(arg_file)"
      ]
    },
    {
      "cell_type": "code",
      "execution_count": 71,
      "metadata": {
        "id": "1tH9KqpaG8pY"
      },
      "outputs": [],
      "source": [
        "data_file = \"./data.csv\"\n",
        "texts, labels = load_imdb_data(data_file)"
      ]
    },
    {
      "cell_type": "code",
      "execution_count": 72,
      "metadata": {
        "id": "PoTZh88WmJeK"
      },
      "outputs": [],
      "source": [
        "class TextClassificationDataset(Dataset):\n",
        "  def __init__(self, texts, labels, tokenizer, max_length):\n",
        "          self.texts = texts\n",
        "          self.labels = labels\n",
        "          self.tokenizer = tokenizer\n",
        "          self.max_length = max_length\n",
        "  def __len__(self):\n",
        "      return len(self.texts)\n",
        "  def __getitem__(self, idx):\n",
        "      text = self.texts[idx]\n",
        "      label = self.labels[idx]\n",
        "      encoding = self.tokenizer(text, return_tensors='pt', max_length=self.max_length, padding='max_length', truncation=True)\n",
        "      return {'input_ids': encoding['input_ids'].flatten(), 'attention_mask': encoding['attention_mask'].flatten(), 'label': torch.tensor(label)}\n"
      ]
    },
    {
      "cell_type": "markdown",
      "metadata": {
        "id": "j9QnvYfbnDip"
      },
      "source": [
        "### Defino Modelo"
      ]
    },
    {
      "cell_type": "code",
      "execution_count": 73,
      "metadata": {
        "id": "O7XY8T2cmP1m"
      },
      "outputs": [],
      "source": [
        "class BERTClassifier(nn.Module):\n",
        "    def __init__(self, bert_model_name, num_classes):\n",
        "        super(BERTClassifier, self).__init__()\n",
        "        self.bert = BertModel.from_pretrained(bert_model_name)\n",
        "        self.dropout = nn.Dropout(0.1)\n",
        "        self.fc = nn.Linear(self.bert.config.hidden_size, num_classes)\n",
        "\n",
        "    def forward(self, input_ids, attention_mask):\n",
        "            outputs = self.bert(input_ids=input_ids, attention_mask=attention_mask)\n",
        "            pooled_output = outputs.pooler_output\n",
        "            x = self.dropout(pooled_output)\n",
        "            logits = self.fc(x)\n",
        "            return logits"
      ]
    },
    {
      "cell_type": "code",
      "execution_count": 74,
      "metadata": {
        "id": "eD_39siinW3R"
      },
      "outputs": [],
      "source": [
        "def train(model, data_loader, optimizer, scheduler, device):\n",
        "    model.train()\n",
        "    for batch in data_loader:\n",
        "        optimizer.zero_grad()\n",
        "        input_ids = batch['input_ids'].to(device)\n",
        "        attention_mask = batch['attention_mask'].to(device)\n",
        "        labels = batch['label'].to(device)\n",
        "        outputs = model(input_ids=input_ids, attention_mask=attention_mask)\n",
        "        loss = nn.CrossEntropyLoss()(outputs, labels)\n",
        "        loss.backward()\n",
        "        optimizer.step()\n",
        "        scheduler.step()"
      ]
    },
    {
      "cell_type": "code",
      "execution_count": 75,
      "metadata": {
        "id": "QnQjZboanafX"
      },
      "outputs": [],
      "source": [
        "def evaluate(model, data_loader, device):\n",
        "    model.eval()\n",
        "    predictions = []\n",
        "    actual_labels = []\n",
        "    with torch.no_grad():\n",
        "        for batch in data_loader:\n",
        "            input_ids = batch['input_ids'].to(device)\n",
        "            attention_mask = batch['attention_mask'].to(device)\n",
        "            labels = batch['label'].to(device)\n",
        "            outputs = model(input_ids=input_ids, attention_mask=attention_mask)\n",
        "            _, preds = torch.max(outputs, dim=1)\n",
        "            predictions.extend(preds.cpu().tolist())\n",
        "            actual_labels.extend(labels.cpu().tolist())\n",
        "    return accuracy_score(actual_labels, predictions), classification_report(actual_labels, predictions,digits=4)\n"
      ]
    },
    {
      "cell_type": "code",
      "execution_count": 76,
      "metadata": {
        "id": "O3dnEk7DnbvO"
      },
      "outputs": [],
      "source": [
        "def predict_veracity(text, model, tokenizer, device, max_length=128):\n",
        "    model.eval()\n",
        "    encoding = tokenizer(text, return_tensors='pt', max_length=max_length, padding='max_length', truncation=True)\n",
        "    input_ids = encoding['input_ids'].to(device)\n",
        "    attention_mask = encoding['attention_mask'].to(device)\n",
        "\n",
        "    with torch.no_grad():\n",
        "        outputs = model(input_ids=input_ids, attention_mask=attention_mask)\n",
        "        print(outputs)\n",
        "        _, preds = torch.max(outputs, dim=1)\n",
        "        print(torch.max(outputs, dim=1))\n",
        "        return \"True\" if preds.item() == 1 else \"False\""
      ]
    },
    {
      "cell_type": "markdown",
      "metadata": {
        "id": "Jf3bHe14nxbt"
      },
      "source": [
        "### Parametros\n"
      ]
    },
    {
      "cell_type": "code",
      "execution_count": 77,
      "metadata": {
        "id": "V0P5D59mnsA_"
      },
      "outputs": [],
      "source": [
        "# Set up parameters\n",
        "bert_model_name = 'dccuchile/bert-base-spanish-wwm-cased'\n",
        "num_classes = 2\n",
        "max_length = 128\n",
        "batch_size = 16\n",
        "num_epochs = 2\n",
        "learning_rate = 3e-5"
      ]
    },
    {
      "cell_type": "markdown",
      "metadata": {
        "id": "PTMkLRdepTXa"
      },
      "source": [
        "### Divido los Dataset en Train, Valid y Test"
      ]
    },
    {
      "cell_type": "code",
      "execution_count": 78,
      "metadata": {
        "colab": {
          "base_uri": "https://localhost:8080/"
        },
        "id": "PpM0xST7n5t6",
        "outputId": "71dbbda3-7cbe-4317-9aab-59d1a18cc6f0"
      },
      "outputs": [
        {
          "name": "stdout",
          "output_type": "stream",
          "text": [
            "Tamaño del conjunto de entrenamiento: 98220 98220\n",
            "Tamaño del conjunto de prueba: 12278 12278\n",
            "Tamaño del conjunto de validación: 12278 12278\n"
          ]
        }
      ],
      "source": [
        "data_train_texts, data_test_val_texts, data_train_labels, data_test_val_labels = train_test_split(texts, labels, test_size=0.2, random_state=42)\n",
        "data_test_texts, data_val_texts, data_test_labels, data_val_labels = train_test_split(data_test_val_texts, data_test_val_labels, test_size=0.5, random_state=42)\n",
        "\n",
        "# Imprime el tamaño de cada conjunto\n",
        "print(\"Tamaño del conjunto de entrenamiento:\", len(data_train_texts), len(data_train_labels) )\n",
        "print(\"Tamaño del conjunto de prueba:\", len(data_test_texts), len(data_test_labels))\n",
        "print(\"Tamaño del conjunto de validación:\", len(data_val_texts), len(data_val_labels))"
      ]
    },
    {
      "cell_type": "code",
      "execution_count": 79,
      "metadata": {
        "colab": {
          "base_uri": "https://localhost:8080/"
        },
        "id": "FlK5DbON-Z74",
        "outputId": "1199e367-235d-4ca6-a7f9-309f6144e190"
      },
      "outputs": [
        {
          "name": "stdout",
          "output_type": "stream",
          "text": [
            "Tamaño del conjunto de entrenamiento: 2101 2101\n",
            "Tamaño del conjunto de prueba: 263 263\n",
            "Tamaño del conjunto de validación: 263 263\n"
          ]
        }
      ],
      "source": [
        "arg_train_texts, arg_test_val_texts, arg_train_labels, arg_test_val_labels = train_test_split(arg_texts, arg_labels, test_size=0.2, random_state=42)\n",
        "arg_test_texts, arg_val_texts, arg_test_labels, arg_val_labels = train_test_split(arg_test_val_texts, arg_test_val_labels, test_size=0.5, random_state=42)\n",
        "\n",
        "# Imprime el tamaño de cada conjunto\n",
        "print(\"Tamaño del conjunto de entrenamiento:\", len(arg_train_texts), len(arg_train_labels) )\n",
        "print(\"Tamaño del conjunto de prueba:\", len(arg_test_texts), len(arg_test_labels))\n",
        "print(\"Tamaño del conjunto de validación:\", len(arg_val_texts), len(arg_val_labels))"
      ]
    },
    {
      "cell_type": "markdown",
      "metadata": {
        "id": "reVCuIzT-sZD"
      },
      "source": [
        "### Mergeo los Datasets"
      ]
    },
    {
      "cell_type": "code",
      "execution_count": 80,
      "metadata": {
        "colab": {
          "base_uri": "https://localhost:8080/"
        },
        "id": "pkUm9oEt-o_1",
        "outputId": "f24378fc-4a39-425b-9e17-5eeb90941615"
      },
      "outputs": [
        {
          "name": "stdout",
          "output_type": "stream",
          "text": [
            "Tamaño del conjunto de entrenamiento: 100321 100321\n",
            "Tamaño del conjunto de prueba: 12541 12541\n",
            "Tamaño del conjunto de validación: 12541 12541\n"
          ]
        }
      ],
      "source": [
        "train_texts = data_train_texts + arg_train_texts\n",
        "train_labels = data_train_labels + arg_train_labels\n",
        "\n",
        "test_texts = data_test_texts + arg_test_texts\n",
        "test_labels = data_test_labels + arg_test_labels\n",
        "\n",
        "val_texts = data_val_texts + arg_val_texts\n",
        "val_labels = data_val_labels + arg_val_labels\n",
        "\n",
        "\n",
        "# Imprime el tamaño de cada conjunto\n",
        "print(\"Tamaño del conjunto de entrenamiento:\", len(train_texts), len(train_labels) )\n",
        "print(\"Tamaño del conjunto de prueba:\", len(test_texts), len(test_labels))\n",
        "print(\"Tamaño del conjunto de validación:\", len(val_texts), len(val_labels))"
      ]
    },
    {
      "cell_type": "markdown",
      "metadata": {
        "id": "8DbzoX7zqOPv"
      },
      "source": [
        "### Tokenizer"
      ]
    },
    {
      "cell_type": "code",
      "execution_count": 81,
      "metadata": {
        "id": "wbfyyW04pCrY"
      },
      "outputs": [],
      "source": [
        "tokenizer = BertTokenizer.from_pretrained(bert_model_name)"
      ]
    },
    {
      "cell_type": "code",
      "execution_count": 82,
      "metadata": {
        "id": "B3JU49G9qKf1"
      },
      "outputs": [],
      "source": [
        "train_dataset = TextClassificationDataset(train_texts, train_labels, tokenizer, max_length)\n",
        "val_dataset = TextClassificationDataset(val_texts, val_labels, tokenizer, max_length)\n",
        "test_dataset = TextClassificationDataset(test_texts, test_labels, tokenizer, max_length)\n",
        "\n",
        "train_dataloader = DataLoader(train_dataset, batch_size=batch_size, shuffle=True)\n",
        "val_dataloader = DataLoader(val_dataset, batch_size=batch_size)\n",
        "test_dataloader = DataLoader(test_dataset, batch_size=batch_size)"
      ]
    },
    {
      "cell_type": "markdown",
      "metadata": {
        "id": "uU6qWY1uqWZ1"
      },
      "source": [
        "### Cargo Modelo"
      ]
    },
    {
      "cell_type": "code",
      "execution_count": 10,
      "metadata": {
        "colab": {
          "base_uri": "https://localhost:8080/"
        },
        "id": "eCkD1b1X_Uhf",
        "outputId": "01861d01-1c3d-463e-d07e-9078905444ec"
      },
      "outputs": [
        {
          "name": "stdout",
          "output_type": "stream",
          "text": [
            "True\n"
          ]
        }
      ],
      "source": [
        "print(torch.cuda.is_available())"
      ]
    },
    {
      "cell_type": "code",
      "execution_count": 83,
      "metadata": {
        "colab": {
          "base_uri": "https://localhost:8080/"
        },
        "id": "fpqv0bUkpyCf",
        "outputId": "d64d65b5-75fa-47fe-b39a-2dbbb5edc428"
      },
      "outputs": [
        {
          "name": "stderr",
          "output_type": "stream",
          "text": [
            "Some weights of BertModel were not initialized from the model checkpoint at dccuchile/bert-base-spanish-wwm-cased and are newly initialized: ['bert.pooler.dense.bias', 'bert.pooler.dense.weight']\n",
            "You should probably TRAIN this model on a down-stream task to be able to use it for predictions and inference.\n"
          ]
        }
      ],
      "source": [
        "device = torch.device(\"cuda\" if torch.cuda.is_available() else \"cpu\")\n",
        "model = BERTClassifier(bert_model_name, num_classes).to(device)"
      ]
    },
    {
      "cell_type": "code",
      "execution_count": 84,
      "metadata": {
        "colab": {
          "base_uri": "https://localhost:8080/"
        },
        "id": "5dCD33ywp3Jf",
        "outputId": "28dd6030-520b-46de-bc7e-bb4f8ecf8191"
      },
      "outputs": [
        {
          "name": "stderr",
          "output_type": "stream",
          "text": [
            "/usr/local/lib/python3.10/dist-packages/transformers/optimization.py:429: FutureWarning: This implementation of AdamW is deprecated and will be removed in a future version. Use the PyTorch implementation torch.optim.AdamW instead, or set `no_deprecation_warning=True` to disable this warning\n",
            "  warnings.warn(\n"
          ]
        }
      ],
      "source": [
        "optimizer = AdamW(model.parameters(), lr=learning_rate)\n",
        "total_steps = len(train_dataloader) * num_epochs\n",
        "scheduler = get_linear_schedule_with_warmup(optimizer, num_warmup_steps=0, num_training_steps=total_steps)"
      ]
    },
    {
      "cell_type": "markdown",
      "metadata": {
        "id": "dVef1q9_qgVv"
      },
      "source": [
        "### Entreno Modelo"
      ]
    },
    {
      "cell_type": "code",
      "execution_count": 85,
      "metadata": {
        "colab": {
          "base_uri": "https://localhost:8080/"
        },
        "id": "KAjuxA-sp_Un",
        "outputId": "636c7039-a7d9-4568-c93d-1b1330a77e48"
      },
      "outputs": [
        {
          "name": "stdout",
          "output_type": "stream",
          "text": [
            "Epoch 1/2\n",
            "Validation Accuracy: 0.8296\n",
            "              precision    recall  f1-score   support\n",
            "\n",
            "           0     0.9626    0.6290    0.7608      5404\n",
            "           1     0.7775    0.9815    0.8677      7137\n",
            "\n",
            "    accuracy                         0.8296     12541\n",
            "   macro avg     0.8700    0.8052    0.8142     12541\n",
            "weighted avg     0.8573    0.8296    0.8216     12541\n",
            "\n",
            "Epoch 2/2\n",
            "Validation Accuracy: 0.8361\n",
            "              precision    recall  f1-score   support\n",
            "\n",
            "           0     0.9273    0.6725    0.7796      5404\n",
            "           1     0.7947    0.9601    0.8696      7137\n",
            "\n",
            "    accuracy                         0.8361     12541\n",
            "   macro avg     0.8610    0.8163    0.8246     12541\n",
            "weighted avg     0.8518    0.8361    0.8308     12541\n",
            "\n"
          ]
        }
      ],
      "source": [
        "for epoch in range(num_epochs):\n",
        "        print(f\"Epoch {epoch + 1}/{num_epochs}\")\n",
        "        train(model, train_dataloader, optimizer, scheduler, device)\n",
        "        accuracy, report = evaluate(model, val_dataloader, device)\n",
        "        print(f\"Validation Accuracy: {accuracy:.4f}\")\n",
        "        print(report)"
      ]
    },
    {
      "cell_type": "markdown",
      "metadata": {
        "id": "HjmYcYgUA985"
      },
      "source": [
        "### Guardo el Modelo"
      ]
    },
    {
      "cell_type": "code",
      "execution_count": 39,
      "metadata": {
        "id": "an0IfBQEuNsn"
      },
      "outputs": [],
      "source": [
        "torch.save(model.state_dict(), \"bert_classifier.pth\")\n"
      ]
    },
    {
      "cell_type": "markdown",
      "metadata": {
        "id": "e0rdTPO6BAJP"
      },
      "source": [
        "### Evaluo el modelo"
      ]
    },
    {
      "cell_type": "code",
      "execution_count": 86,
      "metadata": {
        "id": "068gCUb3AOsC"
      },
      "outputs": [],
      "source": [
        "accuracy, report = evaluate(model, test_dataloader, device)\n"
      ]
    },
    {
      "cell_type": "code",
      "execution_count": 87,
      "metadata": {
        "colab": {
          "base_uri": "https://localhost:8080/"
        },
        "id": "9GLPKbGCBq4R",
        "outputId": "3a0bcaa1-ab6d-4c9c-ed11-27240bceb8f7"
      },
      "outputs": [
        {
          "name": "stdout",
          "output_type": "stream",
          "text": [
            "Test Accuracy: 0.8345\n",
            "              precision    recall  f1-score   support\n",
            "\n",
            "           0     0.9272    0.6669    0.7758      5383\n",
            "           1     0.7932    0.9606    0.8689      7158\n",
            "\n",
            "    accuracy                         0.8345     12541\n",
            "   macro avg     0.8602    0.8138    0.8223     12541\n",
            "weighted avg     0.8507    0.8345    0.8289     12541\n",
            "\n"
          ]
        }
      ],
      "source": [
        "print(f\"Test Accuracy: {accuracy:.4f}\")\n",
        "print(report)"
      ]
    },
    {
      "cell_type": "code",
      "execution_count": 92,
      "metadata": {
        "colab": {
          "base_uri": "https://localhost:8080/"
        },
        "id": "deoQQYzXuP2_",
        "outputId": "bf7520d1-2f2c-409c-ddc6-77c1548b21b5"
      },
      "outputs": [
        {
          "name": "stdout",
          "output_type": "stream",
          "text": [
            "tensor([[ 1.2558, -1.2653]], device='cuda:0')\n",
            "torch.return_types.max(\n",
            "values=tensor([1.2558], device='cuda:0'),\n",
            "indices=tensor([0], device='cuda:0'))\n",
            "Vacunas son buenas\n",
            "Predicted veracity: False\n"
          ]
        }
      ],
      "source": [
        "test_text = \"El presidente es un ladron\"\n",
        "sentiment = predict_veracity(test_text, model, tokenizer, device)\n",
        "print(test_text)\n",
        "print(f\"Predicted veracity: {sentiment}\")"
      ]
    }
  ],
  "metadata": {
    "accelerator": "GPU",
    "colab": {
      "gpuType": "T4",
      "provenance": []
    },
    "kernelspec": {
      "display_name": "Python 3",
      "name": "python3"
    },
    "language_info": {
      "name": "python"
    }
  },
  "nbformat": 4,
  "nbformat_minor": 0
}
