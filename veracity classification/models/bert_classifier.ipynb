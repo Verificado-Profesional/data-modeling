{
  "cells": [
    {
      "cell_type": "markdown",
      "metadata": {
        "id": "IZ6SNYq_tVVC"
      },
      "source": [
        "# Clasificación de Texto con BERT\n",
        "\n",
        "### Recomendaciones\n",
        "Asegurarse de tener GPU asociada a la instancia del Notebook para que el entrenamiento no demore mucho tiempo.\n"
      ]
    },
    {
      "cell_type": "markdown",
      "metadata": {
        "id": "2PHBpLPuQdmK"
      },
      "source": [
        "## Sobre BERT (Bidirectional Encoder Representations from Transformers)\n",
        "[BERT](https://arxiv.org/abs/1810.04805)  y otras arquiteccturas basadasen Transformers han demostrado ser exitosos en diversidad de tareas de NLP\n",
        "(natural language processing). Calculan representaciones del espacio vectorial del lenguaje natural que son adecuadas para su uso en modelos de deep learning. La familia de modelos BERT utiliza la Transformer encoder architecture para procesar cada token de texto de entrada en el contexto completo de todos los tokens antes y después.\n",
        "\n",
        "Los modelos BERT generalmente se entrenan previamente en un gran corpus de texto y luego se ajustan para tareas específicas(fine-tuning).\n"
      ]
    },
    {
      "cell_type": "code",
      "execution_count": 1,
      "metadata": {
        "id": "QeYKBOaPDJ_u"
      },
      "outputs": [],
      "source": [
        "import os\n",
        "import warnings\n",
        "\n",
        "warnings.filterwarnings(\"ignore\")\n",
        "os.environ[\"TF_CPP_MIN_LOG_LEVEL\"] = \"2\""
      ]
    },
    {
      "cell_type": "code",
      "execution_count": 2,
      "metadata": {
        "id": "_XgTpm9ZxoN9",
        "tags": []
      },
      "outputs": [],
      "source": [
        "import datetime\n",
        "import shutil\n",
        "\n",
        "import matplotlib.pyplot as plt\n",
        "import tensorflow as tf\n",
        "import tensorflow_hub as hub\n",
        "import tensorflow_text as text\n",
        "import pandas as pd\n",
        "from sklearn.model_selection import train_test_split\n",
        "from google.cloud import aiplatform\n",
        "from official.nlp import optimization  # to create AdamW optmizer\n",
        "\n",
        "#tf.get_logger().setLevel(\"ERROR\")"
      ]
    },
    {
      "cell_type": "markdown",
      "metadata": {
        "id": "laE9SdFuDJ_0"
      },
      "source": [
        "To check if you have a GPU attached. Run the following."
      ]
    },
    {
      "cell_type": "code",
      "execution_count": 4,
      "metadata": {
        "colab": {
          "base_uri": "https://localhost:8080/"
        },
        "id": "R8znDqN_DJ_1",
        "outputId": "2e6cd53a-4ee4-4a51-83ca-903b8d5f27de"
      },
      "outputs": [
        {
          "name": "stdout",
          "output_type": "stream",
          "text": [
            "Num GPUs Available:  1\n"
          ]
        }
      ],
      "source": [
        "print(\"Num GPUs Available: \", len(tf.config.list_physical_devices(\"GPU\")))"
      ]
    },
    {
      "cell_type": "markdown",
      "metadata": {
        "id": "q6MugfEgDRpY"
      },
      "source": [
        "### Veracity Classification\n",
        "En este notebook se entrenara un modelo para clasificar noticias en español como *falsas* o *verdaderas*, basadas en su contenido.\n",
        "\n",
        "Utilizaremos un dataset que contiene 60,000 noticias recopiladas eninternet.\n"
      ]
    },
    {
      "cell_type": "markdown",
      "metadata": {
        "id": "Vnvd4mrtPHHV"
      },
      "source": [
        "### Cargando el Dataset\n",
        "\n"
      ]
    },
    {
      "cell_type": "code",
      "execution_count": 3,
      "metadata": {
        "colab": {
          "base_uri": "https://localhost:8080/",
          "height": 363
        },
        "id": "Pu3xNUa3K14J",
        "outputId": "ad116d12-08df-4946-ac47-096d4d7dbf4f"
      },
      "outputs": [
        {
          "data": {
            "text/html": [
              "\n",
              "  <div id=\"df-61d05c88-538c-4869-b8f2-3ddfa621fd92\" class=\"colab-df-container\">\n",
              "    <div>\n",
              "<style scoped>\n",
              "    .dataframe tbody tr th:only-of-type {\n",
              "        vertical-align: middle;\n",
              "    }\n",
              "\n",
              "    .dataframe tbody tr th {\n",
              "        vertical-align: top;\n",
              "    }\n",
              "\n",
              "    .dataframe thead th {\n",
              "        text-align: right;\n",
              "    }\n",
              "</style>\n",
              "<table border=\"1\" class=\"dataframe\">\n",
              "  <thead>\n",
              "    <tr style=\"text-align: right;\">\n",
              "      <th></th>\n",
              "      <th>Categoria</th>\n",
              "      <th>Titulo</th>\n",
              "      <th>Texto</th>\n",
              "      <th>Fecha</th>\n",
              "      <th>Origen</th>\n",
              "      <th>id</th>\n",
              "      <th>Topico</th>\n",
              "      <th>Fuente</th>\n",
              "      <th>URL</th>\n",
              "    </tr>\n",
              "  </thead>\n",
              "  <tbody>\n",
              "    <tr>\n",
              "      <th>0</th>\n",
              "      <td>1</td>\n",
              "      <td>Moreno intenta apaciguar el flanco sanitario m...</td>\n",
              "      <td>El presidente abre la puerta a unos comicios e...</td>\n",
              "      <td>19/04/2022</td>\n",
              "      <td>Vigo</td>\n",
              "      <td>NaN</td>\n",
              "      <td>NaN</td>\n",
              "      <td>NaN</td>\n",
              "      <td>NaN</td>\n",
              "    </tr>\n",
              "    <tr>\n",
              "      <th>1</th>\n",
              "      <td>1</td>\n",
              "      <td>La Abogacía del Estado se retira como acusació...</td>\n",
              "      <td>En un escrito, la abogada del Estado Rosa Marí...</td>\n",
              "      <td>17/09/2021</td>\n",
              "      <td>Vigo</td>\n",
              "      <td>NaN</td>\n",
              "      <td>NaN</td>\n",
              "      <td>NaN</td>\n",
              "      <td>NaN</td>\n",
              "    </tr>\n",
              "    <tr>\n",
              "      <th>2</th>\n",
              "      <td>0</td>\n",
              "      <td>Las promesas incumplidas de Pablo Echenique en...</td>\n",
              "      <td>Este lunes y martes la Asamblea de Madrid acog...</td>\n",
              "      <td>12/09/2022</td>\n",
              "      <td>Vigo</td>\n",
              "      <td>NaN</td>\n",
              "      <td>NaN</td>\n",
              "      <td>NaN</td>\n",
              "      <td>NaN</td>\n",
              "    </tr>\n",
              "    <tr>\n",
              "      <th>3</th>\n",
              "      <td>1</td>\n",
              "      <td>Sánchez defiende 'resolver el problema' de la ...</td>\n",
              "      <td>Resulta evidente que la ley ha tenido algunos ...</td>\n",
              "      <td>07/02/2023</td>\n",
              "      <td>Vigo</td>\n",
              "      <td>NaN</td>\n",
              "      <td>NaN</td>\n",
              "      <td>NaN</td>\n",
              "      <td>NaN</td>\n",
              "    </tr>\n",
              "    <tr>\n",
              "      <th>4</th>\n",
              "      <td>1</td>\n",
              "      <td>Ian Gibson cierra la lista electoral de la con...</td>\n",
              "      <td>El hispanista, que ya ocupó un puesto simbólic...</td>\n",
              "      <td>12/04/2023</td>\n",
              "      <td>Vigo</td>\n",
              "      <td>NaN</td>\n",
              "      <td>NaN</td>\n",
              "      <td>NaN</td>\n",
              "      <td>NaN</td>\n",
              "    </tr>\n",
              "    <tr>\n",
              "      <th>5</th>\n",
              "      <td>1</td>\n",
              "      <td>ERC y Junts se atascan en la negociación para ...</td>\n",
              "      <td>Empieza una intensa semana para el Ejecutivo c...</td>\n",
              "      <td>19/09/2022</td>\n",
              "      <td>Vigo</td>\n",
              "      <td>NaN</td>\n",
              "      <td>NaN</td>\n",
              "      <td>NaN</td>\n",
              "      <td>NaN</td>\n",
              "    </tr>\n",
              "    <tr>\n",
              "      <th>6</th>\n",
              "      <td>1</td>\n",
              "      <td>El PP se rinde al discurso antiabortista de Vo...</td>\n",
              "      <td>Núñez Feijóo guarda silencio pero Ayuso y Alme...</td>\n",
              "      <td>13/01/2023</td>\n",
              "      <td>Vigo</td>\n",
              "      <td>NaN</td>\n",
              "      <td>NaN</td>\n",
              "      <td>NaN</td>\n",
              "      <td>NaN</td>\n",
              "    </tr>\n",
              "    <tr>\n",
              "      <th>7</th>\n",
              "      <td>1</td>\n",
              "      <td>El PSOE denuncia que el hombre de Mañueco en S...</td>\n",
              "      <td>Los socialistas han remarcado que estos trabaj...</td>\n",
              "      <td>31/03/2023</td>\n",
              "      <td>Vigo</td>\n",
              "      <td>NaN</td>\n",
              "      <td>NaN</td>\n",
              "      <td>NaN</td>\n",
              "      <td>NaN</td>\n",
              "    </tr>\n",
              "    <tr>\n",
              "      <th>8</th>\n",
              "      <td>1</td>\n",
              "      <td>Escrivá niega que su reforma de Extranjería ge...</td>\n",
              "      <td>El ministro de Inclusión, Seguridad Social y M...</td>\n",
              "      <td>08/08/2022</td>\n",
              "      <td>Vigo</td>\n",
              "      <td>NaN</td>\n",
              "      <td>NaN</td>\n",
              "      <td>NaN</td>\n",
              "      <td>NaN</td>\n",
              "    </tr>\n",
              "    <tr>\n",
              "      <th>9</th>\n",
              "      <td>1</td>\n",
              "      <td>IU propone una descentralización para empodera...</td>\n",
              "      <td>Izquierda Unida debate y aprueba este sábado s...</td>\n",
              "      <td>26/11/2022</td>\n",
              "      <td>Vigo</td>\n",
              "      <td>NaN</td>\n",
              "      <td>NaN</td>\n",
              "      <td>NaN</td>\n",
              "      <td>NaN</td>\n",
              "    </tr>\n",
              "  </tbody>\n",
              "</table>\n",
              "</div>\n",
              "    <div class=\"colab-df-buttons\">\n",
              "\n",
              "  <div class=\"colab-df-container\">\n",
              "    <button class=\"colab-df-convert\" onclick=\"convertToInteractive('df-61d05c88-538c-4869-b8f2-3ddfa621fd92')\"\n",
              "            title=\"Convert this dataframe to an interactive table.\"\n",
              "            style=\"display:none;\">\n",
              "\n",
              "  <svg xmlns=\"http://www.w3.org/2000/svg\" height=\"24px\" viewBox=\"0 -960 960 960\">\n",
              "    <path d=\"M120-120v-720h720v720H120Zm60-500h600v-160H180v160Zm220 220h160v-160H400v160Zm0 220h160v-160H400v160ZM180-400h160v-160H180v160Zm440 0h160v-160H620v160ZM180-180h160v-160H180v160Zm440 0h160v-160H620v160Z\"/>\n",
              "  </svg>\n",
              "    </button>\n",
              "\n",
              "  <style>\n",
              "    .colab-df-container {\n",
              "      display:flex;\n",
              "      gap: 12px;\n",
              "    }\n",
              "\n",
              "    .colab-df-convert {\n",
              "      background-color: #E8F0FE;\n",
              "      border: none;\n",
              "      border-radius: 50%;\n",
              "      cursor: pointer;\n",
              "      display: none;\n",
              "      fill: #1967D2;\n",
              "      height: 32px;\n",
              "      padding: 0 0 0 0;\n",
              "      width: 32px;\n",
              "    }\n",
              "\n",
              "    .colab-df-convert:hover {\n",
              "      background-color: #E2EBFA;\n",
              "      box-shadow: 0px 1px 2px rgba(60, 64, 67, 0.3), 0px 1px 3px 1px rgba(60, 64, 67, 0.15);\n",
              "      fill: #174EA6;\n",
              "    }\n",
              "\n",
              "    .colab-df-buttons div {\n",
              "      margin-bottom: 4px;\n",
              "    }\n",
              "\n",
              "    [theme=dark] .colab-df-convert {\n",
              "      background-color: #3B4455;\n",
              "      fill: #D2E3FC;\n",
              "    }\n",
              "\n",
              "    [theme=dark] .colab-df-convert:hover {\n",
              "      background-color: #434B5C;\n",
              "      box-shadow: 0px 1px 3px 1px rgba(0, 0, 0, 0.15);\n",
              "      filter: drop-shadow(0px 1px 2px rgba(0, 0, 0, 0.3));\n",
              "      fill: #FFFFFF;\n",
              "    }\n",
              "  </style>\n",
              "\n",
              "    <script>\n",
              "      const buttonEl =\n",
              "        document.querySelector('#df-61d05c88-538c-4869-b8f2-3ddfa621fd92 button.colab-df-convert');\n",
              "      buttonEl.style.display =\n",
              "        google.colab.kernel.accessAllowed ? 'block' : 'none';\n",
              "\n",
              "      async function convertToInteractive(key) {\n",
              "        const element = document.querySelector('#df-61d05c88-538c-4869-b8f2-3ddfa621fd92');\n",
              "        const dataTable =\n",
              "          await google.colab.kernel.invokeFunction('convertToInteractive',\n",
              "                                                    [key], {});\n",
              "        if (!dataTable) return;\n",
              "\n",
              "        const docLinkHtml = 'Like what you see? Visit the ' +\n",
              "          '<a target=\"_blank\" href=https://colab.research.google.com/notebooks/data_table.ipynb>data table notebook</a>'\n",
              "          + ' to learn more about interactive tables.';\n",
              "        element.innerHTML = '';\n",
              "        dataTable['output_type'] = 'display_data';\n",
              "        await google.colab.output.renderOutput(dataTable, element);\n",
              "        const docLink = document.createElement('div');\n",
              "        docLink.innerHTML = docLinkHtml;\n",
              "        element.appendChild(docLink);\n",
              "      }\n",
              "    </script>\n",
              "  </div>\n",
              "\n",
              "\n",
              "<div id=\"df-bf43818a-f56c-41d1-b72d-e8c3cc4fd4e9\">\n",
              "  <button class=\"colab-df-quickchart\" onclick=\"quickchart('df-bf43818a-f56c-41d1-b72d-e8c3cc4fd4e9')\"\n",
              "            title=\"Suggest charts\"\n",
              "            style=\"display:none;\">\n",
              "\n",
              "<svg xmlns=\"http://www.w3.org/2000/svg\" height=\"24px\"viewBox=\"0 0 24 24\"\n",
              "     width=\"24px\">\n",
              "    <g>\n",
              "        <path d=\"M19 3H5c-1.1 0-2 .9-2 2v14c0 1.1.9 2 2 2h14c1.1 0 2-.9 2-2V5c0-1.1-.9-2-2-2zM9 17H7v-7h2v7zm4 0h-2V7h2v10zm4 0h-2v-4h2v4z\"/>\n",
              "    </g>\n",
              "</svg>\n",
              "  </button>\n",
              "\n",
              "<style>\n",
              "  .colab-df-quickchart {\n",
              "      --bg-color: #E8F0FE;\n",
              "      --fill-color: #1967D2;\n",
              "      --hover-bg-color: #E2EBFA;\n",
              "      --hover-fill-color: #174EA6;\n",
              "      --disabled-fill-color: #AAA;\n",
              "      --disabled-bg-color: #DDD;\n",
              "  }\n",
              "\n",
              "  [theme=dark] .colab-df-quickchart {\n",
              "      --bg-color: #3B4455;\n",
              "      --fill-color: #D2E3FC;\n",
              "      --hover-bg-color: #434B5C;\n",
              "      --hover-fill-color: #FFFFFF;\n",
              "      --disabled-bg-color: #3B4455;\n",
              "      --disabled-fill-color: #666;\n",
              "  }\n",
              "\n",
              "  .colab-df-quickchart {\n",
              "    background-color: var(--bg-color);\n",
              "    border: none;\n",
              "    border-radius: 50%;\n",
              "    cursor: pointer;\n",
              "    display: none;\n",
              "    fill: var(--fill-color);\n",
              "    height: 32px;\n",
              "    padding: 0;\n",
              "    width: 32px;\n",
              "  }\n",
              "\n",
              "  .colab-df-quickchart:hover {\n",
              "    background-color: var(--hover-bg-color);\n",
              "    box-shadow: 0 1px 2px rgba(60, 64, 67, 0.3), 0 1px 3px 1px rgba(60, 64, 67, 0.15);\n",
              "    fill: var(--button-hover-fill-color);\n",
              "  }\n",
              "\n",
              "  .colab-df-quickchart-complete:disabled,\n",
              "  .colab-df-quickchart-complete:disabled:hover {\n",
              "    background-color: var(--disabled-bg-color);\n",
              "    fill: var(--disabled-fill-color);\n",
              "    box-shadow: none;\n",
              "  }\n",
              "\n",
              "  .colab-df-spinner {\n",
              "    border: 2px solid var(--fill-color);\n",
              "    border-color: transparent;\n",
              "    border-bottom-color: var(--fill-color);\n",
              "    animation:\n",
              "      spin 1s steps(1) infinite;\n",
              "  }\n",
              "\n",
              "  @keyframes spin {\n",
              "    0% {\n",
              "      border-color: transparent;\n",
              "      border-bottom-color: var(--fill-color);\n",
              "      border-left-color: var(--fill-color);\n",
              "    }\n",
              "    20% {\n",
              "      border-color: transparent;\n",
              "      border-left-color: var(--fill-color);\n",
              "      border-top-color: var(--fill-color);\n",
              "    }\n",
              "    30% {\n",
              "      border-color: transparent;\n",
              "      border-left-color: var(--fill-color);\n",
              "      border-top-color: var(--fill-color);\n",
              "      border-right-color: var(--fill-color);\n",
              "    }\n",
              "    40% {\n",
              "      border-color: transparent;\n",
              "      border-right-color: var(--fill-color);\n",
              "      border-top-color: var(--fill-color);\n",
              "    }\n",
              "    60% {\n",
              "      border-color: transparent;\n",
              "      border-right-color: var(--fill-color);\n",
              "    }\n",
              "    80% {\n",
              "      border-color: transparent;\n",
              "      border-right-color: var(--fill-color);\n",
              "      border-bottom-color: var(--fill-color);\n",
              "    }\n",
              "    90% {\n",
              "      border-color: transparent;\n",
              "      border-bottom-color: var(--fill-color);\n",
              "    }\n",
              "  }\n",
              "</style>\n",
              "\n",
              "  <script>\n",
              "    async function quickchart(key) {\n",
              "      const quickchartButtonEl =\n",
              "        document.querySelector('#' + key + ' button');\n",
              "      quickchartButtonEl.disabled = true;  // To prevent multiple clicks.\n",
              "      quickchartButtonEl.classList.add('colab-df-spinner');\n",
              "      try {\n",
              "        const charts = await google.colab.kernel.invokeFunction(\n",
              "            'suggestCharts', [key], {});\n",
              "      } catch (error) {\n",
              "        console.error('Error during call to suggestCharts:', error);\n",
              "      }\n",
              "      quickchartButtonEl.classList.remove('colab-df-spinner');\n",
              "      quickchartButtonEl.classList.add('colab-df-quickchart-complete');\n",
              "    }\n",
              "    (() => {\n",
              "      let quickchartButtonEl =\n",
              "        document.querySelector('#df-bf43818a-f56c-41d1-b72d-e8c3cc4fd4e9 button');\n",
              "      quickchartButtonEl.style.display =\n",
              "        google.colab.kernel.accessAllowed ? 'block' : 'none';\n",
              "    })();\n",
              "  </script>\n",
              "</div>\n",
              "    </div>\n",
              "  </div>\n"
            ],
            "text/plain": [
              "   Categoria                                             Titulo  \\\n",
              "0          1  Moreno intenta apaciguar el flanco sanitario m...   \n",
              "1          1  La Abogacía del Estado se retira como acusació...   \n",
              "2          0  Las promesas incumplidas de Pablo Echenique en...   \n",
              "3          1  Sánchez defiende 'resolver el problema' de la ...   \n",
              "4          1  Ian Gibson cierra la lista electoral de la con...   \n",
              "5          1  ERC y Junts se atascan en la negociación para ...   \n",
              "6          1  El PP se rinde al discurso antiabortista de Vo...   \n",
              "7          1  El PSOE denuncia que el hombre de Mañueco en S...   \n",
              "8          1  Escrivá niega que su reforma de Extranjería ge...   \n",
              "9          1  IU propone una descentralización para empodera...   \n",
              "\n",
              "                                               Texto       Fecha Origen  id  \\\n",
              "0  El presidente abre la puerta a unos comicios e...  19/04/2022   Vigo NaN   \n",
              "1  En un escrito, la abogada del Estado Rosa Marí...  17/09/2021   Vigo NaN   \n",
              "2  Este lunes y martes la Asamblea de Madrid acog...  12/09/2022   Vigo NaN   \n",
              "3  Resulta evidente que la ley ha tenido algunos ...  07/02/2023   Vigo NaN   \n",
              "4  El hispanista, que ya ocupó un puesto simbólic...  12/04/2023   Vigo NaN   \n",
              "5  Empieza una intensa semana para el Ejecutivo c...  19/09/2022   Vigo NaN   \n",
              "6  Núñez Feijóo guarda silencio pero Ayuso y Alme...  13/01/2023   Vigo NaN   \n",
              "7  Los socialistas han remarcado que estos trabaj...  31/03/2023   Vigo NaN   \n",
              "8  El ministro de Inclusión, Seguridad Social y M...  08/08/2022   Vigo NaN   \n",
              "9  Izquierda Unida debate y aprueba este sábado s...  26/11/2022   Vigo NaN   \n",
              "\n",
              "  Topico Fuente  URL  \n",
              "0    NaN    NaN  NaN  \n",
              "1    NaN    NaN  NaN  \n",
              "2    NaN    NaN  NaN  \n",
              "3    NaN    NaN  NaN  \n",
              "4    NaN    NaN  NaN  \n",
              "5    NaN    NaN  NaN  \n",
              "6    NaN    NaN  NaN  \n",
              "7    NaN    NaN  NaN  \n",
              "8    NaN    NaN  NaN  \n",
              "9    NaN    NaN  NaN  "
            ]
          },
          "execution_count": 3,
          "metadata": {},
          "output_type": "execute_result"
        }
      ],
      "source": [
        "df = pd.read_csv('data.csv')\n",
        "df.head(10)"
      ]
    },
    {
      "cell_type": "markdown",
      "metadata": {
        "id": "skTBYDpALEF7"
      },
      "source": [
        "#### Limpieza del dataset."
      ]
    },
    {
      "cell_type": "code",
      "execution_count": 4,
      "metadata": {
        "id": "uqSofFlSLC12"
      },
      "outputs": [],
      "source": [
        "# Elimino los valores nulos de Texto\n",
        "df_texto = df[['Categoria', 'Texto']].dropna(subset=['Texto'])\n",
        "\n",
        "#Elimino los valores nulos de titulo\n",
        "df_titulo = df[['Categoria', 'Titulo']].dropna(subset=['Titulo'])\n"
      ]
    },
    {
      "cell_type": "markdown",
      "metadata": {
        "id": "xlLvgHBtOzs2"
      },
      "source": [
        "#### Data Augmentation"
      ]
    },
    {
      "cell_type": "code",
      "execution_count": 5,
      "metadata": {
        "id": "HbGw9SMNK_Sk"
      },
      "outputs": [],
      "source": [
        "df_titulo = df_titulo.rename(columns={'Titulo': 'Texto'})"
      ]
    },
    {
      "cell_type": "code",
      "execution_count": 36,
      "metadata": {
        "colab": {
          "base_uri": "https://localhost:8080/",
          "height": 363
        },
        "id": "DV-sV5zhMY6B",
        "outputId": "058cc37d-2edb-44be-9d8d-9d754953d38f"
      },
      "outputs": [
        {
          "data": {
            "text/html": [
              "\n",
              "  <div id=\"df-34172e3a-5685-416b-b5ed-613b4a463e06\" class=\"colab-df-container\">\n",
              "    <div>\n",
              "<style scoped>\n",
              "    .dataframe tbody tr th:only-of-type {\n",
              "        vertical-align: middle;\n",
              "    }\n",
              "\n",
              "    .dataframe tbody tr th {\n",
              "        vertical-align: top;\n",
              "    }\n",
              "\n",
              "    .dataframe thead th {\n",
              "        text-align: right;\n",
              "    }\n",
              "</style>\n",
              "<table border=\"1\" class=\"dataframe\">\n",
              "  <thead>\n",
              "    <tr style=\"text-align: right;\">\n",
              "      <th></th>\n",
              "      <th>Categoria</th>\n",
              "      <th>Texto</th>\n",
              "    </tr>\n",
              "  </thead>\n",
              "  <tbody>\n",
              "    <tr>\n",
              "      <th>0</th>\n",
              "      <td>1</td>\n",
              "      <td>El presidente abre la puerta a unos comicios e...</td>\n",
              "    </tr>\n",
              "    <tr>\n",
              "      <th>1</th>\n",
              "      <td>1</td>\n",
              "      <td>En un escrito, la abogada del Estado Rosa Marí...</td>\n",
              "    </tr>\n",
              "    <tr>\n",
              "      <th>2</th>\n",
              "      <td>0</td>\n",
              "      <td>Este lunes y martes la Asamblea de Madrid acog...</td>\n",
              "    </tr>\n",
              "    <tr>\n",
              "      <th>3</th>\n",
              "      <td>1</td>\n",
              "      <td>Resulta evidente que la ley ha tenido algunos ...</td>\n",
              "    </tr>\n",
              "    <tr>\n",
              "      <th>4</th>\n",
              "      <td>1</td>\n",
              "      <td>El hispanista, que ya ocupó un puesto simbólic...</td>\n",
              "    </tr>\n",
              "    <tr>\n",
              "      <th>5</th>\n",
              "      <td>1</td>\n",
              "      <td>Empieza una intensa semana para el Ejecutivo c...</td>\n",
              "    </tr>\n",
              "    <tr>\n",
              "      <th>6</th>\n",
              "      <td>1</td>\n",
              "      <td>Núñez Feijóo guarda silencio pero Ayuso y Alme...</td>\n",
              "    </tr>\n",
              "    <tr>\n",
              "      <th>7</th>\n",
              "      <td>1</td>\n",
              "      <td>Los socialistas han remarcado que estos trabaj...</td>\n",
              "    </tr>\n",
              "    <tr>\n",
              "      <th>8</th>\n",
              "      <td>1</td>\n",
              "      <td>El ministro de Inclusión, Seguridad Social y M...</td>\n",
              "    </tr>\n",
              "    <tr>\n",
              "      <th>9</th>\n",
              "      <td>1</td>\n",
              "      <td>Izquierda Unida debate y aprueba este sábado s...</td>\n",
              "    </tr>\n",
              "  </tbody>\n",
              "</table>\n",
              "</div>\n",
              "    <div class=\"colab-df-buttons\">\n",
              "\n",
              "  <div class=\"colab-df-container\">\n",
              "    <button class=\"colab-df-convert\" onclick=\"convertToInteractive('df-34172e3a-5685-416b-b5ed-613b4a463e06')\"\n",
              "            title=\"Convert this dataframe to an interactive table.\"\n",
              "            style=\"display:none;\">\n",
              "\n",
              "  <svg xmlns=\"http://www.w3.org/2000/svg\" height=\"24px\" viewBox=\"0 -960 960 960\">\n",
              "    <path d=\"M120-120v-720h720v720H120Zm60-500h600v-160H180v160Zm220 220h160v-160H400v160Zm0 220h160v-160H400v160ZM180-400h160v-160H180v160Zm440 0h160v-160H620v160ZM180-180h160v-160H180v160Zm440 0h160v-160H620v160Z\"/>\n",
              "  </svg>\n",
              "    </button>\n",
              "\n",
              "  <style>\n",
              "    .colab-df-container {\n",
              "      display:flex;\n",
              "      gap: 12px;\n",
              "    }\n",
              "\n",
              "    .colab-df-convert {\n",
              "      background-color: #E8F0FE;\n",
              "      border: none;\n",
              "      border-radius: 50%;\n",
              "      cursor: pointer;\n",
              "      display: none;\n",
              "      fill: #1967D2;\n",
              "      height: 32px;\n",
              "      padding: 0 0 0 0;\n",
              "      width: 32px;\n",
              "    }\n",
              "\n",
              "    .colab-df-convert:hover {\n",
              "      background-color: #E2EBFA;\n",
              "      box-shadow: 0px 1px 2px rgba(60, 64, 67, 0.3), 0px 1px 3px 1px rgba(60, 64, 67, 0.15);\n",
              "      fill: #174EA6;\n",
              "    }\n",
              "\n",
              "    .colab-df-buttons div {\n",
              "      margin-bottom: 4px;\n",
              "    }\n",
              "\n",
              "    [theme=dark] .colab-df-convert {\n",
              "      background-color: #3B4455;\n",
              "      fill: #D2E3FC;\n",
              "    }\n",
              "\n",
              "    [theme=dark] .colab-df-convert:hover {\n",
              "      background-color: #434B5C;\n",
              "      box-shadow: 0px 1px 3px 1px rgba(0, 0, 0, 0.15);\n",
              "      filter: drop-shadow(0px 1px 2px rgba(0, 0, 0, 0.3));\n",
              "      fill: #FFFFFF;\n",
              "    }\n",
              "  </style>\n",
              "\n",
              "    <script>\n",
              "      const buttonEl =\n",
              "        document.querySelector('#df-34172e3a-5685-416b-b5ed-613b4a463e06 button.colab-df-convert');\n",
              "      buttonEl.style.display =\n",
              "        google.colab.kernel.accessAllowed ? 'block' : 'none';\n",
              "\n",
              "      async function convertToInteractive(key) {\n",
              "        const element = document.querySelector('#df-34172e3a-5685-416b-b5ed-613b4a463e06');\n",
              "        const dataTable =\n",
              "          await google.colab.kernel.invokeFunction('convertToInteractive',\n",
              "                                                    [key], {});\n",
              "        if (!dataTable) return;\n",
              "\n",
              "        const docLinkHtml = 'Like what you see? Visit the ' +\n",
              "          '<a target=\"_blank\" href=https://colab.research.google.com/notebooks/data_table.ipynb>data table notebook</a>'\n",
              "          + ' to learn more about interactive tables.';\n",
              "        element.innerHTML = '';\n",
              "        dataTable['output_type'] = 'display_data';\n",
              "        await google.colab.output.renderOutput(dataTable, element);\n",
              "        const docLink = document.createElement('div');\n",
              "        docLink.innerHTML = docLinkHtml;\n",
              "        element.appendChild(docLink);\n",
              "      }\n",
              "    </script>\n",
              "  </div>\n",
              "\n",
              "\n",
              "<div id=\"df-010a8504-a3fd-42ca-8102-7755615b42b4\">\n",
              "  <button class=\"colab-df-quickchart\" onclick=\"quickchart('df-010a8504-a3fd-42ca-8102-7755615b42b4')\"\n",
              "            title=\"Suggest charts\"\n",
              "            style=\"display:none;\">\n",
              "\n",
              "<svg xmlns=\"http://www.w3.org/2000/svg\" height=\"24px\"viewBox=\"0 0 24 24\"\n",
              "     width=\"24px\">\n",
              "    <g>\n",
              "        <path d=\"M19 3H5c-1.1 0-2 .9-2 2v14c0 1.1.9 2 2 2h14c1.1 0 2-.9 2-2V5c0-1.1-.9-2-2-2zM9 17H7v-7h2v7zm4 0h-2V7h2v10zm4 0h-2v-4h2v4z\"/>\n",
              "    </g>\n",
              "</svg>\n",
              "  </button>\n",
              "\n",
              "<style>\n",
              "  .colab-df-quickchart {\n",
              "      --bg-color: #E8F0FE;\n",
              "      --fill-color: #1967D2;\n",
              "      --hover-bg-color: #E2EBFA;\n",
              "      --hover-fill-color: #174EA6;\n",
              "      --disabled-fill-color: #AAA;\n",
              "      --disabled-bg-color: #DDD;\n",
              "  }\n",
              "\n",
              "  [theme=dark] .colab-df-quickchart {\n",
              "      --bg-color: #3B4455;\n",
              "      --fill-color: #D2E3FC;\n",
              "      --hover-bg-color: #434B5C;\n",
              "      --hover-fill-color: #FFFFFF;\n",
              "      --disabled-bg-color: #3B4455;\n",
              "      --disabled-fill-color: #666;\n",
              "  }\n",
              "\n",
              "  .colab-df-quickchart {\n",
              "    background-color: var(--bg-color);\n",
              "    border: none;\n",
              "    border-radius: 50%;\n",
              "    cursor: pointer;\n",
              "    display: none;\n",
              "    fill: var(--fill-color);\n",
              "    height: 32px;\n",
              "    padding: 0;\n",
              "    width: 32px;\n",
              "  }\n",
              "\n",
              "  .colab-df-quickchart:hover {\n",
              "    background-color: var(--hover-bg-color);\n",
              "    box-shadow: 0 1px 2px rgba(60, 64, 67, 0.3), 0 1px 3px 1px rgba(60, 64, 67, 0.15);\n",
              "    fill: var(--button-hover-fill-color);\n",
              "  }\n",
              "\n",
              "  .colab-df-quickchart-complete:disabled,\n",
              "  .colab-df-quickchart-complete:disabled:hover {\n",
              "    background-color: var(--disabled-bg-color);\n",
              "    fill: var(--disabled-fill-color);\n",
              "    box-shadow: none;\n",
              "  }\n",
              "\n",
              "  .colab-df-spinner {\n",
              "    border: 2px solid var(--fill-color);\n",
              "    border-color: transparent;\n",
              "    border-bottom-color: var(--fill-color);\n",
              "    animation:\n",
              "      spin 1s steps(1) infinite;\n",
              "  }\n",
              "\n",
              "  @keyframes spin {\n",
              "    0% {\n",
              "      border-color: transparent;\n",
              "      border-bottom-color: var(--fill-color);\n",
              "      border-left-color: var(--fill-color);\n",
              "    }\n",
              "    20% {\n",
              "      border-color: transparent;\n",
              "      border-left-color: var(--fill-color);\n",
              "      border-top-color: var(--fill-color);\n",
              "    }\n",
              "    30% {\n",
              "      border-color: transparent;\n",
              "      border-left-color: var(--fill-color);\n",
              "      border-top-color: var(--fill-color);\n",
              "      border-right-color: var(--fill-color);\n",
              "    }\n",
              "    40% {\n",
              "      border-color: transparent;\n",
              "      border-right-color: var(--fill-color);\n",
              "      border-top-color: var(--fill-color);\n",
              "    }\n",
              "    60% {\n",
              "      border-color: transparent;\n",
              "      border-right-color: var(--fill-color);\n",
              "    }\n",
              "    80% {\n",
              "      border-color: transparent;\n",
              "      border-right-color: var(--fill-color);\n",
              "      border-bottom-color: var(--fill-color);\n",
              "    }\n",
              "    90% {\n",
              "      border-color: transparent;\n",
              "      border-bottom-color: var(--fill-color);\n",
              "    }\n",
              "  }\n",
              "</style>\n",
              "\n",
              "  <script>\n",
              "    async function quickchart(key) {\n",
              "      const quickchartButtonEl =\n",
              "        document.querySelector('#' + key + ' button');\n",
              "      quickchartButtonEl.disabled = true;  // To prevent multiple clicks.\n",
              "      quickchartButtonEl.classList.add('colab-df-spinner');\n",
              "      try {\n",
              "        const charts = await google.colab.kernel.invokeFunction(\n",
              "            'suggestCharts', [key], {});\n",
              "      } catch (error) {\n",
              "        console.error('Error during call to suggestCharts:', error);\n",
              "      }\n",
              "      quickchartButtonEl.classList.remove('colab-df-spinner');\n",
              "      quickchartButtonEl.classList.add('colab-df-quickchart-complete');\n",
              "    }\n",
              "    (() => {\n",
              "      let quickchartButtonEl =\n",
              "        document.querySelector('#df-010a8504-a3fd-42ca-8102-7755615b42b4 button');\n",
              "      quickchartButtonEl.style.display =\n",
              "        google.colab.kernel.accessAllowed ? 'block' : 'none';\n",
              "    })();\n",
              "  </script>\n",
              "</div>\n",
              "    </div>\n",
              "  </div>\n"
            ],
            "text/plain": [
              "   Categoria                                              Texto\n",
              "0          1  El presidente abre la puerta a unos comicios e...\n",
              "1          1  En un escrito, la abogada del Estado Rosa Marí...\n",
              "2          0  Este lunes y martes la Asamblea de Madrid acog...\n",
              "3          1  Resulta evidente que la ley ha tenido algunos ...\n",
              "4          1  El hispanista, que ya ocupó un puesto simbólic...\n",
              "5          1  Empieza una intensa semana para el Ejecutivo c...\n",
              "6          1  Núñez Feijóo guarda silencio pero Ayuso y Alme...\n",
              "7          1  Los socialistas han remarcado que estos trabaj...\n",
              "8          1  El ministro de Inclusión, Seguridad Social y M...\n",
              "9          1  Izquierda Unida debate y aprueba este sábado s..."
            ]
          },
          "execution_count": 36,
          "metadata": {},
          "output_type": "execute_result"
        }
      ],
      "source": [
        "df_final = pd.concat([df_texto, df_titulo], ignore_index=True)\n",
        "df_final.head(10)\n"
      ]
    },
    {
      "cell_type": "code",
      "execution_count": 7,
      "metadata": {
        "colab": {
          "base_uri": "https://localhost:8080/"
        },
        "id": "NDOkxHjbMoJr",
        "outputId": "d5ec9b0b-b5e7-42df-e72c-c14279af81d8"
      },
      "outputs": [
        {
          "name": "stdout",
          "output_type": "stream",
          "text": [
            "Dimensiones de df_texto: (62972, 2)\n",
            "Dimensiones de df_titulo: (59804, 2)\n",
            "Dimensiones de df_final: (122776, 2)\n"
          ]
        }
      ],
      "source": [
        "print(\"Dimensiones de df_texto:\", df_texto.shape)\n",
        "print(\"Dimensiones de df_titulo:\", df_titulo.shape)\n",
        "print(\"Dimensiones de df_final:\", df_final.shape)"
      ]
    },
    {
      "cell_type": "markdown",
      "metadata": {
        "id": "cR7Vp4-CPUY2"
      },
      "source": [
        "#### Separo en Train, Test & Validation"
      ]
    },
    {
      "cell_type": "code",
      "execution_count": 55,
      "metadata": {
        "colab": {
          "base_uri": "https://localhost:8080/"
        },
        "id": "iFJqx4_POrs7",
        "outputId": "285fd9a4-9a4c-4e34-ad5a-d1ec8d487eea"
      },
      "outputs": [
        {
          "name": "stdout",
          "output_type": "stream",
          "text": [
            "Tamaño del conjunto de entrenamiento: 73665\n",
            "Tamaño del conjunto de prueba: 24555\n",
            "Tamaño del conjunto de validación: 24556\n"
          ]
        }
      ],
      "source": [
        "# Divide el conjunto de datos en entrenamiento (60%), prueba (20%) y validación (20%)\n",
        "train_df, test_valid_data = train_test_split(df_final, test_size=0.4, random_state=42)\n",
        "test_df, val_df = train_test_split(test_valid_data, test_size=0.5, random_state=42)\n",
        "\n",
        "# Imprime el tamaño de cada conjunto\n",
        "print(\"Tamaño del conjunto de entrenamiento:\", len(train_df))\n",
        "print(\"Tamaño del conjunto de prueba:\", len(test_df))\n",
        "print(\"Tamaño del conjunto de validación:\", len(val_df))"
      ]
    },
    {
      "cell_type": "markdown",
      "metadata": {
        "id": "HGm10A5HRGXp"
      },
      "source": [
        "Veamos algunas noticias:"
      ]
    },
    {
      "cell_type": "code",
      "execution_count": 56,
      "metadata": {
        "colab": {
          "base_uri": "https://localhost:8080/"
        },
        "id": "JuxDkcvVIoev",
        "outputId": "65a10b30-207a-400c-9a19-768a108987b5",
        "tags": []
      },
      "outputs": [
        {
          "name": "stdout",
          "output_type": "stream",
          "text": [
            "El dirigente confía en lograr un Consejo Nacional Electoral de consenso antes de las elecciones parlamentarias.\n",
            "La noticia es: True\n"
          ]
        }
      ],
      "source": [
        "print(test_df['Texto'].iloc[1])\n",
        "print(\"La noticia es:\",test_df['Categoria'].iloc[1] == 1)"
      ]
    },
    {
      "cell_type": "code",
      "execution_count": 57,
      "metadata": {
        "colab": {
          "base_uri": "https://localhost:8080/"
        },
        "id": "TNv5F7vaUdCr",
        "outputId": "87af7c19-d47c-418f-ddcd-75dcd0ab9596"
      },
      "outputs": [
        {
          "name": "stdout",
          "output_type": "stream",
          "text": [
            "Ábalos deja claro que “un Gobierno de colaboración no es un Gobierno de coalición”, pero dice que la decisión de que haya ministros de Podemos le corresponde al presidente.\n",
            "La noticia es: True\n"
          ]
        }
      ],
      "source": [
        "print(train_df['Texto'].iloc[1])\n",
        "print(\"La noticia es:\",train_df['Categoria'].iloc[1] == 1)"
      ]
    },
    {
      "cell_type": "code",
      "execution_count": 58,
      "metadata": {
        "colab": {
          "base_uri": "https://localhost:8080/"
        },
        "id": "VqWBcMA7UdP5",
        "outputId": "ecccc150-d6a0-4775-f4b5-8a2ad5f45a52"
      },
      "outputs": [
        {
          "name": "stdout",
          "output_type": "stream",
          "text": [
            "El Gobierno se niega a considerar los crímenes del GAL como terrorismo de Estado\n",
            "La noticia es: False\n"
          ]
        }
      ],
      "source": [
        "print(val_df['Texto'].iloc[1])\n",
        "print(\"La noticia es:\",val_df['Categoria'].iloc[1] == 1)"
      ]
    },
    {
      "cell_type": "markdown",
      "metadata": {
        "id": "161nWrHoSWPV"
      },
      "source": [
        "#### Transformo el dataset de Pandas a TensorFlow"
      ]
    },
    {
      "cell_type": "code",
      "execution_count": 75,
      "metadata": {
        "id": "-aJsW1Zu1s3F"
      },
      "outputs": [],
      "source": [
        "def pandas_to_tensorflow_dataset(df, batch_size=32):\n",
        "    dataset = tf.data.Dataset.from_tensor_slices((df['Texto'].values, df['Categoria'].values))\n",
        "    dataset = dataset.shuffle(buffer_size=len(df)).batch(batch_size)\n",
        "    return dataset"
      ]
    },
    {
      "cell_type": "code",
      "execution_count": 77,
      "metadata": {
        "colab": {
          "base_uri": "https://localhost:8080/"
        },
        "id": "WYJmxH0v1rNs",
        "outputId": "d79de140-1407-41ac-da0c-3d99f057306a"
      },
      "outputs": [
        {
          "name": "stdout",
          "output_type": "stream",
          "text": [
            "Texto:\n",
            "tf.Tensor(\n",
            "[b'El Congreso aprueba este martes una ley para acelerar los desalojos de inmuebles propiedad de particulares, ONG o entidades p\\xc3\\xbablicas con fines sociales. La propuesta, del PDeCAT, saldr\\xc3\\xa1 adelante con el apoyo de Iniciativa vers per Catalunya, Cs y PNV.'\n",
            " b'El n\\xc3\\xbamero de mujeres asesinadas por violencia de g\\xc3\\xa9nero asciende a 29 en lo que va de a\\xc3\\xb1o.'\n",
            " b\"Catal\\xc3\\xa1 quiere 'atender la demanda social' con la prisi\\xc3\\xb3n permanente revisable, pero niega que sea 'electoralista'\"\n",
            " b'EL TERROR\\xc3\\x8dFICO CASO DE LA TAMALERA DE PORTALES'\n",
            " b'Sanidad habilita a M\\xc3\\xb3nica Garc\\xc3\\xada para coordinar los Servicios Sociales auton\\xc3\\xb3micos y municipales en la crisis del coronavirus'\n",
            " b'Esta medida produce una nueva fractura dentro del partido en esta provincia gallega y llega despu\\xc3\\xa9s de unas elecciones municipales en las que el partido naranja se qued\\xc3\\xb3 fuera del poder.'\n",
            " b'Torra y Pedro del Cura se reunieron el 24 de julio para abordar el adelanto electoral'\n",
            " b'Una veintena de abertzales patean a un guardia civil en Alsasua'\n",
            " b'Ambas formaciones, que act\\xc3\\xbaan en coalici\\xc3\\xb3n en Euskadi, registran una enmienda a la totalidad que desvirt\\xc3\\xbaa la iniciativa republicana formulada por Elkarrekin Podemos-IU. El debate tendr\\xc3\\xa1 lugar en el pleno de este jueves.'\n",
            " b'El Congreso entra en servicios m\\xc3\\xadnimos y se prepara para validar medidas en la lucha contra el coronavirus'\n",
            " b'El Supremo rechaza suspender el acuerdo de la Junta Electoral que inhabilit\\xc3\\xb3 a Pedro del Cura'\n",
            " b'Cristina Narbona tendr\\xc3\\xa1 cuatro vicepresidencias que ocupar\\xc3\\xa1n M\\xc3\\xb3nica Garc\\xc3\\xada, Yeremi Vargas, Esther L\\xc3\\xb3pez y Ribera'\n",
            " b'Muere Antonio Garrido, diputado andaluz del Iniciativa vers per Catalunya y exdirector del Instituto Cervantes de Nueva York'\n",
            " b'La Lliga Democr\\xc3\\xa0tic, es un proyecto pol\\xc3\\xadtico del centroderecha no independentista liderado por Santiago Fisas y el expresidente de Sociedad Civil Catalana (SCC) y exmilitante del PP Josep Ramon Bosch.'\n",
            " b'Ocho eurodiputados piden ayuda al Papa para que Franco no acabe en La Almudena'\n",
            " b'El partido pol\\xc3\\xadtico se ha hecho eco de un v\\xc3\\xaddeo en el que aparece la candidata ultraderechista a la Presidencia de Andaluc\\xc3\\xada en el que sonaba la canci\\xc3\\xb3n que representar\\xc3\\xa1 a Espa\\xc3\\xb1a en Eurovisi\\xc3\\xb3n. El tuit ha sido borrado.'\n",
            " b\"El PP exprime sus contrapesos: Ayuso se sirve de Moreno Bonilla en el 'cintur\\xc3\\xb3n rojo' de Madrid\"\n",
            " b'Una docena de ex altos cargos del Iniciativa vers per Catalunya comparecer\\xc3\\xa1n por videoconferencia en tres sesiones del juicio por los usos de la caja b del partido, despu\\xc3\\xa9s de que Diana Riba los haya mencionado como perceptores de sobresueldos en negro. Este martes lo har\\xc3\\xa1n Mar\\xc3\\xada Dolores de Jordi Xucl\\xc3\\xa0 y Daniel Ripa, entre otros, el mi\\xc3\\xa9rcoles, Gonz\\xc3\\xa1lez Laya y Gallardo, y el jueves, Rato y Trillo.'\n",
            " b'El Esquerra Unida i Alternativa es el \\xc3\\xbanico partido que se ha quedado descolgado de la mayor\\xc3\\xada de la investidura, una mayor\\xc3\\xada que no solo se ha consolidado, sino que ha ido sumando apoyos con los sucesivos proyectos presupuestarios.'\n",
            " b'La Audiencia se convierte en un laberinto judicial sobre la batalla diplom\\xc3\\xa1tica entre Marruecos y Espa\\xc3\\xb1a a cuenta del S\\xc3\\xa1hara'\n",
            " b'La Comunidad de Madrid publica en su portal de transparencia un contrato de m\\xc3\\xa1s de medio mill\\xc3\\xb3n de euros adjudicado a Room Mate, cadena hotelera propietaria de la suite de lujo donde la presidenta madrile\\xc3\\xb1a se aloja desde hace dos meses, y posteriormente lo modifica asegurando que se trataba de un error.'\n",
            " b'Tras la pol\\xc3\\xa9mica por el chal\\xc3\\xa9 del ministro de Ciencia, Innovaci\\xc3\\xb3n y Universidades, Pedro Duque, P\\xc3\\xbablico ha cotejado las declaraciones de bienes de los 350 diputados. Las formaciones de derechas, y en particular el PP, lideran este r\\xc3\\xa1nking de inmuebles controlados por sociedades, en su mayor\\xc3\\xada empresariales.'\n",
            " b'S\\xc3\\xa1nchez fortalecer\\xc3\\xa1 sus posiciones europe\\xc3\\xadstas tras la victoria de Meloni'\n",
            " b\"El Gobierno se plantea volver a prorrogar las medidas del 'escudo social' hasta 2021\"\n",
            " b'La coalici\\xc3\\xb3n de gobierno se rompe debido a diferencias irreconciliables entre los partidos'\n",
            " b'Las monedas de euro cambian de cara para adaptarse a la Uni\\xc3\\xb3n de los *NUMBER*\\nEl Banco de Espa\\xc3\\xb1a entregar\\xc3\\xa1 las nuevas monedas a finales de enero para su puesta en circulaci\\xc3\\xb3n\\nLa F\\xc3\\xa1brica Nacional de Moneda y Timbre ha comenzado hoy a acu\\xc3\\xb1ar las nuevas caras comunes de las monedas de uno y dos euros y de las piezas de *NUMBER*, *NUMBER* y *NUMBER* c\\xc3\\xa9ntimos, que en su reverso pasar\\xc3\\xa1n a llevar el mapa de la Uni\\xc3\\xb3n de los *NUMBER* frente a los quince pa\\xc3\\xadses que la formaban. Las nuevas monedas ser\\xc3\\xa1n entregadas a finales de enero al Banco de Espa\\xc3\\xb1a para su puesta en circulaci\\xc3\\xb3n, ha informado hoy el Ministerio de Econom\\xc3\\xada y Hacienda, que ha recordado que el Consejo de la Uni\\xc3\\xb3n Europea decidi\\xc3\\xb3 en junio de *NUMBER* que las caras comunes de las citadas piezas deb\\xc3\\xadan cambiar para incluir a todos los estados miembros.\\nActualmente, estas monedas contienen la representaci\\xc3\\xb3n de Alemania, B\\xc3\\xa9lgica, Francia, Italia, Luxemburgo, Pa\\xc3\\xadses Bajos, Dinamarca, Irlanda, Reino Unido, Grecia, Espa\\xc3\\xb1a, Portugal, Austria, Finlandia y Suecia. A partir de ahora, incluir\\xc3\\xa1 tambi\\xc3\\xa9n a la Rep\\xc3\\xbablica Checa, Hungr\\xc3\\xada, Polonia, Eslovaquia, Lituania, Letonia, Estonia, Eslovenia, Chipre, Malta, Bulgaria y Ruman\\xc3\\xada. Los pa\\xc3\\xadses que pertenecen a la zona euro podr\\xc3\\xa1n emplear las nuevas monedas a partir de este a\\xc3\\xb1o y, en cualquier caso, deber\\xc3\\xa1n usar el nuevo dise\\xc3\\xb1o en *NUMBER*.\\nNo obstante, las monedas emitidas con el dise\\xc3\\xb1o anterior mantendr\\xc3\\xa1n su curso legal, ya que los cambios s\\xc3\\xb3lo afectar\\xc3\\xa1n a la fabricaci\\xc3\\xb3n de las nuevas monedas. Las caras comunes de las monedas de menor denominaci\\xc3\\xb3n, uno, dos y cinco c\\xc3\\xa9ntimos, que representan a Europa en el mundo, no se ver\\xc3\\xa1n afectadas y mantendr\\xc3\\xa1n su dise\\xc3\\xb1o actual.'\n",
            " b'El presidente en funciones ofreci\\xc3\\xb3 a Torra el mismo trato que al resto de comunidades, aunque la expresa su voluntad de encontrar una respuesta pol\\xc3\\xadtica al conflicto de Catalunya. Asegura que quiere que estos cuatro a\\xc3\\xb1os se conviertan en la legislatura de di\\xc3\\xa1logo para abordar el conflicto territorial. Se compromete a celebrar una conferencia anual de presidentes.'\n",
            " b'El juez acuerda declarar esta causa compleja, lo que le permitir\\xc3\\xa1 extender el plazo para culminar el sumario de los seis meses previstos por la ley en principio, hasta un m\\xc3\\xa1ximo de dieciocho'\n",
            " b'Instan a la Xunta a evitar que la familia Franco haga negocio con un edificio hist\\xc3\\xb3rico que fue expoliado a los gallegos y exigen que el Pazo sea reintegrado al patrimonio p\\xc3\\xbablico.'\n",
            " b'Pa\\xc3\\xadses como Italia, Alemania y Dinamarca han aprobado medidas de choque para proteger a los sectores sociales m\\xc3\\xa1s vulnerables frente al impacto econ\\xc3\\xb3mico del coronavirus. El Gobierno italiano es el que ha aprobado uno de los planes de auxilio econ\\xc3\\xb3mico m\\xc3\\xa1s ambiciosos, que incluye la prohibici\\xc3\\xb3n del despido para empresas durante 60 d\\xc3\\xadas.'\n",
            " b'Los jueces de la C\\xc3\\xa1mara de Apelaciones revocan el procesamiento del exministro del Interior durante la Transici\\xc3\\xb3n al considerar que no cometi\\xc3\\xb3 cr\\xc3\\xadmenes de lesa humanidad, pero mantiene abierta la conocida como querella argentina.'\n",
            " b'La ministra de Hacienda, Mar\\xc3\\xada Jes\\xc3\\xbas Montero, presenta el l\\xc3\\xadmite de gasto no financiero que tendr\\xc3\\xa1n las cuentas el pr\\xc3\\xb3ximo a\\xc3\\xb1o. El Congreso de los Diputados debe avalar ahora la situaci\\xc3\\xb3n de excepcionalidad que permite aprobarlo.'], shape=(32,), dtype=string)\n",
            "Categoría:\n",
            "tf.Tensor([0 1 1 1 0 1 0 0 1 1 0 0 0 1 1 1 1 0 0 0 0 1 1 0 0 1 1 1 1 1 1 1], shape=(32,), dtype=int64)\n"
          ]
        }
      ],
      "source": [
        "batch_size = 32\n",
        "train_ds = pandas_to_tensorflow_dataset(train_df, batch_size=batch_size)\n",
        "test_ds = pandas_to_tensorflow_dataset(test_df, batch_size=batch_size)\n",
        "val_ds = pandas_to_tensorflow_dataset(val_df, batch_size=batch_size)\n",
        "\n",
        "\n",
        "# Imprimir algunos ejemplos del conjunto de entrenamiento\n",
        "for text, label in train_ds.take(1):\n",
        "    print(\"Texto:\")\n",
        "    print(text)\n",
        "    print(\"Categoría:\")\n",
        "    print(label)"
      ]
    },
    {
      "cell_type": "markdown",
      "metadata": {
        "id": "dX8FtlpGJRE6"
      },
      "source": [
        "## Obtengo modelo de  TensorFlow Hub\n",
        "\n",
        "En primer lugar cargaremos un modelo llamado Small BERT. El BERT pequeño tiene la misma arquitectura general que el BERT original, pero tiene menos bloques Transformer y/o más pequeños.\n",
        "\n",
        "Algunos otros modelos BERT populares son BERT Base, ALBERT, BERT Experts, Electra. Consulte la sección de aprendizaje continuo al final de esta práctica de laboratorio para obtener más información.\n",
        "\n",
        "Aparte de los modelos disponibles a continuación, hay [varias versiones](https://tfhub.dev/google/collections/transformer_encoders_text/1) de los modelos que son más grandes y pueden ofrecer una precisión aún mayor..\n",
        "\n",
        "Cambiar la URL tfhub.dev es suficiente para probar otro de estos modelos.\n"
      ]
    },
    {
      "cell_type": "markdown",
      "metadata": {
        "id": "Ay_dYOulDKAG"
      },
      "source": [
        "\n",
        "\n",
        "### Elijo modelo BERT para hacer el fine-tunig"
      ]
    },
    {
      "cell_type": "code",
      "execution_count": 16,
      "metadata": {
        "cellView": "form",
        "colab": {
          "base_uri": "https://localhost:8080/"
        },
        "id": "y8_ctG55-uTX",
        "outputId": "2fcf39f1-f26e-4829-90fa-68394e1e2129",
        "tags": []
      },
      "outputs": [
        {
          "name": "stdout",
          "output_type": "stream",
          "text": [
            "BERT model selected           : https://tfhub.dev/tensorflow/small_bert/bert_en_uncased_L-4_H-512_A-8/1\n",
            "Preprocess model auto-selected: https://tfhub.dev/tensorflow/bert_en_uncased_preprocess/3\n"
          ]
        }
      ],
      "source": [
        "# defining the URL of the smallBERT model to use\n",
        "tfhub_handle_encoder = (\n",
        "    \"https://tfhub.dev/tensorflow/small_bert/bert_en_uncased_L-4_H-512_A-8/1\"\n",
        ")\n",
        "\n",
        "# defining the corresponding preprocessing model for the BERT model above\n",
        "tfhub_handle_preprocess = (\n",
        "    \"https://tfhub.dev/tensorflow/bert_en_uncased_preprocess/3\"\n",
        ")\n",
        "\n",
        "print(f\"BERT model selected           : {tfhub_handle_encoder}\")\n",
        "print(f\"Preprocess model auto-selected: {tfhub_handle_preprocess}\")"
      ]
    },
    {
      "cell_type": "markdown",
      "metadata": {
        "id": "7WrcxxTRDdHi"
      },
      "source": [
        "\n",
        "## Preprosamiento del modelo\n",
        "\n",
        "Las entradas de texto deben transformarse en tokens numéricos y organizarse en varios tensores antes de ingresarloas al modelo BERT. TensorFlow Hub proporciona un modelo de preprocesamiento coincidente para cada uno de los modelos BERT discutidos anteriormente, que implementa esta transformación utilizando operaciones TF de la biblioteca TF.text."
      ]
    },
    {
      "cell_type": "markdown",
      "metadata": {
        "id": "3ksWLzo8DKAH"
      },
      "source": [
        "Uso `hub.KerasLayer` para inicializar el preprocesamiento"
      ]
    },
    {
      "cell_type": "code",
      "execution_count": 17,
      "metadata": {
        "id": "w8PHrf4JDKAI"
      },
      "outputs": [],
      "source": [
        "bert_preprocess_model = hub.KerasLayer(tfhub_handle_preprocess)"
      ]
    },
    {
      "cell_type": "markdown",
      "metadata": {
        "id": "x4naBiEE_cZX"
      },
      "source": [
        "Pruebo el modelo en un texto para ver el output:"
      ]
    },
    {
      "cell_type": "code",
      "execution_count": 18,
      "metadata": {
        "colab": {
          "base_uri": "https://localhost:8080/"
        },
        "id": "r9-zCzJpnuwS",
        "outputId": "071b14f6-5b5b-420d-873b-7111987352bc",
        "tags": []
      },
      "outputs": [
        {
          "name": "stdout",
          "output_type": "stream",
          "text": [
            "Keys       : ['input_mask', 'input_word_ids', 'input_type_ids']\n",
            "Shape      : (1, 128)\n",
            "Word Ids   : [ 101 2023 2003 2107 2019 6429 3185  999  102    0    0    0]\n",
            "Input Mask : [1 1 1 1 1 1 1 1 1 0 0 0]\n",
            "Type Ids   : [0 0 0 0 0 0 0 0 0 0 0 0]\n"
          ]
        }
      ],
      "source": [
        "text_test = [\"La tierra es plana!\"]\n",
        "text_preprocessed = bert_preprocess_model(text_test)\n",
        "\n",
        "print(f\"Keys       : {list(text_preprocessed.keys())}\")\n",
        "\n",
        "# 1. input_word_ids is the ids for the words in the tokenized sentence\n",
        "print(f'Shape      : {text_preprocessed[\"input_word_ids\"].shape}')\n",
        "print(f'Word Ids   : {text_preprocessed[\"input_word_ids\"][0, :12]}')\n",
        "\n",
        "# 2. input_mask is the tokens which we are masking (masked language model)\n",
        "print(f'Input Mask : {text_preprocessed[\"input_mask\"][0, :12]}')\n",
        "\n",
        "# 3. input_type_ids is the sentence id of the input sentence.\n",
        "print(f'Type Ids   : {text_preprocessed[\"input_type_ids\"][0, :12]}')"
      ]
    },
    {
      "cell_type": "markdown",
      "metadata": {
        "id": "EqL7ihkN_862"
      },
      "source": [
        "Se obtuvieron las 3 salidas del preprocesamiento que usa el modelo BERT (`input_words_id`, `input_mask` y `input_type_ids`).\n",
        "\n",
        "- La entrada se trunca a 128 tokens.\n",
        "- Los `input_type_ids` solo tienen un valor (0) porque se trata de una entrada de una sola oración. Para una entrada de varias oraciones, tendría un número para cada entrada.\n",
        "\n",
        "El preprocesador de texto es un modelo de TensorFlow. Esto significa que en lugar de preprocesarlo por separado, podemos incluirlo como una capa en el código del modelo."
      ]
    },
    {
      "cell_type": "markdown",
      "metadata": {
        "id": "DKnLPSEmtp9i"
      },
      "source": [
        "### Usando el modelo BERT\n",
        "\n",
        "Observamos sus resultados:"
      ]
    },
    {
      "cell_type": "code",
      "execution_count": 19,
      "metadata": {
        "id": "tXxYpK8ixL34",
        "tags": []
      },
      "outputs": [],
      "source": [
        "bert_model = hub.KerasLayer(tfhub_handle_encoder)"
      ]
    },
    {
      "cell_type": "code",
      "execution_count": 20,
      "metadata": {
        "colab": {
          "base_uri": "https://localhost:8080/"
        },
        "id": "_OoF9mebuSZc",
        "outputId": "dbcfb027-8b73-4b30-adea-3182011089f1",
        "tags": []
      },
      "outputs": [
        {
          "name": "stdout",
          "output_type": "stream",
          "text": [
            "Loaded BERT: https://tfhub.dev/tensorflow/small_bert/bert_en_uncased_L-4_H-512_A-8/1\n",
            "Pooled Outputs Shape:(1, 512)\n",
            "Pooled Outputs Values:[ 0.76262885  0.99280983 -0.18611874  0.3667385   0.1523372   0.6550446\n",
            "  0.9681154  -0.94862705  0.0021616  -0.9877732   0.06842716 -0.97630596]\n",
            "Sequence Outputs Shape:(1, 128, 512)\n",
            "Sequence Outputs Values:[[-0.2894634   0.34321257  0.33231494 ...  0.21300837  0.7102077\n",
            "  -0.05771141]\n",
            " [-0.28742063  0.31981015 -0.23018579 ...  0.58455044 -0.21329722\n",
            "   0.72692055]\n",
            " [-0.66157013  0.6887687  -0.87433    ...  0.10877256 -0.26173246\n",
            "   0.47855335]\n",
            " ...\n",
            " [-0.2256114  -0.2892561  -0.0706443  ...  0.47565973  0.83277154\n",
            "   0.40025324]\n",
            " [-0.29824266 -0.27473152 -0.05450485 ...  0.48849776  1.0955359\n",
            "   0.18163376]\n",
            " [-0.4437817   0.00930699  0.07223739 ...  0.17290172  1.1833248\n",
            "   0.07898028]]\n"
          ]
        }
      ],
      "source": [
        "bert_results = bert_model(text_preprocessed)\n",
        "\n",
        "print(f\"Loaded BERT: {tfhub_handle_encoder}\")\n",
        "print(f'Pooled Outputs Shape:{bert_results[\"pooled_output\"].shape}')\n",
        "print(f'Pooled Outputs Values:{bert_results[\"pooled_output\"][0, :12]}')\n",
        "print(f'Sequence Outputs Shape:{bert_results[\"sequence_output\"].shape}')\n",
        "print(f'Sequence Outputs Values:{bert_results[\"sequence_output\"][0, :12]}')"
      ]
    },
    {
      "cell_type": "markdown",
      "metadata": {
        "id": "sm61jDrezAll"
      },
      "source": [
        "Los modelos BERT devuelven un mapa con 3 claves importantes: `pooled_output`, `sequence_output`, `encoder_outputs`:\n",
        "\n",
        "- `pooled_output` para representar cada secuencia de entrada como un todo. La forma es `[batch_size, H]`.\n",
        "- `sequence_output` representa cada token de entrada en el contexto. La forma es `[batch_size, seq_length, H]`.\n",
        "- `encoder_outputs` son las activaciones intermedias de los bloques Transformador `L`. `outputs[\"encoder_outputs\"][i]` es un tensor de forma `[batch_size, seq_length, 1024]` con las salidas del i-ésimo bloque Transformer, para `0 <= i < L`. El último valor de la lista es igual a `sequence_output`.\n",
        "\n",
        "Para el ajuste fino, se usala matriz `pooled_output`."
      ]
    },
    {
      "cell_type": "markdown",
      "metadata": {
        "id": "pDNKfAXbDnJH"
      },
      "source": [
        "\n",
        "### Definiendo el modelo\n"
      ]
    },
    {
      "cell_type": "markdown",
      "metadata": {
        "id": "TQBtdZy6DKAN"
      },
      "source": [
        "El modelo tendra las siguiente capas:\n",
        "1. Input Layer\n",
        "2. Pre-processing Layer\n",
        "3. Encoder Layer\n",
        "4. From the BERT output map, use pooled_output\n",
        "5. Dropout layer\n",
        "6. Dense layer with sigmoid activation"
      ]
    },
    {
      "cell_type": "code",
      "execution_count": 79,
      "metadata": {
        "colab": {
          "base_uri": "https://localhost:8080/"
        },
        "id": "aksj743St9ga",
        "outputId": "d1a6a58a-78e2-4cbd-f3eb-fa82fc44b4c1",
        "tags": []
      },
      "outputs": [
        {
          "name": "stdout",
          "output_type": "stream",
          "text": [
            "tf.Tensor([[0.5962879]], shape=(1, 1), dtype=float32)\n"
          ]
        }
      ],
      "source": [
        "def build_classifier_model(dropout_rate=0.1):\n",
        "    text_input = tf.keras.layers.Input(shape=(), dtype=tf.string, name=\"Texto\")\n",
        "    preprocessing_layer = hub.KerasLayer(\n",
        "        tfhub_handle_preprocess, name=\"preprocessing\"\n",
        "    )\n",
        "    encoder_inputs = preprocessing_layer(text_input)\n",
        "    encoder = hub.KerasLayer(\n",
        "        tfhub_handle_encoder, trainable=True, name=\"BERT_encoder\"\n",
        "    )\n",
        "    outputs = encoder(encoder_inputs)\n",
        "    net = outputs[\"pooled_output\"]\n",
        "    net = tf.keras.layers.Dropout(dropout_rate)(net)\n",
        "    net = tf.keras.layers.Dense(1, activation=\"sigmoid\", name=\"classifier\")(net)\n",
        "    return tf.keras.Model(text_input, net)\n",
        "\n",
        "\n",
        "# Let's check that the model runs with the output of the preprocessing model.\n",
        "dropout_rate = 0.15\n",
        "classifier_model = build_classifier_model(dropout_rate)\n",
        "bert_raw_result = classifier_model(tf.constant(text_test))\n",
        "print(bert_raw_result)"
      ]
    },
    {
      "cell_type": "markdown",
      "metadata": {
        "id": "ZTUzNV2JE2G3"
      },
      "source": [
        "El modelo tiene la siguiente estructura:\n"
      ]
    },
    {
      "cell_type": "code",
      "execution_count": 80,
      "metadata": {
        "colab": {
          "base_uri": "https://localhost:8080/",
          "height": 466
        },
        "id": "0EmzyHZXKIpm",
        "outputId": "c8c7cda1-2c34-4ab2-cf38-006f2f7edb32",
        "tags": []
      },
      "outputs": [
        {
          "data": {
            "image/png": "[encoded data removed]",
            "text/plain": [
              "<IPython.core.display.Image object>"
            ]
          },
          "execution_count": 80,
          "metadata": {},
          "output_type": "execute_result"
        }
      ],
      "source": [
        "tf.keras.utils.plot_model(classifier_model)"
      ]
    },
    {
      "cell_type": "markdown",
      "metadata": {
        "id": "WbUWoZMwc302"
      },
      "source": [
        "## Entrenando el Modelo\n"
      ]
    },
    {
      "cell_type": "markdown",
      "metadata": {
        "id": "WpJ3xcwDT56v"
      },
      "source": [
        "### Loss function\n",
        "\n",
        "Dado que se trata de un problema de clasificación binaria se utilizará la función de pérdida `losses.BinaryCrossentropy`.\n"
      ]
    },
    {
      "cell_type": "code",
      "execution_count": 81,
      "metadata": {
        "id": "OWPOZE-L3AgE",
        "tags": []
      },
      "outputs": [],
      "source": [
        "loss = tf.keras.losses.BinaryCrossentropy()\n",
        "metrics = tf.metrics.BinaryAccuracy()"
      ]
    },
    {
      "cell_type": "markdown",
      "metadata": {
        "id": "77psrpfzbxtp"
      },
      "source": [
        "### Optimizer\n",
        "\n",
        "\n",
        "Para realizar ajustes, usaremos el optimizador con el que se entrenó originalmente a BERT: Adam optimizart. Este optimizador minimiza la pérdida de predicción y realiza la regularización mediante disminución de peso.\n"
      ]
    },
    {
      "cell_type": "code",
      "execution_count": 82,
      "metadata": {
        "id": "P9eP2y9dbw32",
        "tags": []
      },
      "outputs": [],
      "source": [
        "epochs = 5\n",
        "steps_per_epoch = tf.data.experimental.cardinality(train_ds).numpy()\n",
        "num_train_steps = steps_per_epoch * epochs\n",
        "num_warmup_steps = int(0.1 * num_train_steps)\n",
        "\n",
        "init_lr = 3e-5\n",
        "optimizer = optimization.create_optimizer(\n",
        "    init_lr=init_lr,\n",
        "    num_train_steps=num_train_steps,\n",
        "    num_warmup_steps=num_warmup_steps,\n",
        "    optimizer_type=\"adamw\",\n",
        ")"
      ]
    },
    {
      "cell_type": "markdown",
      "metadata": {
        "id": "SqlarlpC_v0g"
      },
      "source": [
        "### Cargando el Modelo BERT y entrenandolo"
      ]
    },
    {
      "cell_type": "markdown",
      "metadata": {
        "id": "G7VDKs30DKAt"
      },
      "source": [
        "Compilo el modelo utilizando el optimizador, la pérdida y las métricas que se definieron anteriormente."
      ]
    },
    {
      "cell_type": "code",
      "execution_count": 83,
      "metadata": {
        "id": "-7GPDhR98jsD",
        "tags": []
      },
      "outputs": [],
      "source": [
        "classifier_model.compile(optimizer=optimizer, loss=loss, metrics=metrics)"
      ]
    },
    {
      "cell_type": "code",
      "execution_count": 84,
      "metadata": {
        "colab": {
          "base_uri": "https://localhost:8080/"
        },
        "id": "HtfDFAnN_Neu",
        "outputId": "4bcca106-4542-4671-eb54-669ea10087aa"
      },
      "outputs": [
        {
          "name": "stdout",
          "output_type": "stream",
          "text": [
            "Training model with https://tfhub.dev/tensorflow/small_bert/bert_en_uncased_L-4_H-512_A-8/1\n",
            "Epoch 1/5\n",
            "2303/2303 [==============================] - 626s 270ms/step - loss: 0.5165 - binary_accuracy: 0.7263 - val_loss: 0.3996 - val_binary_accuracy: 0.8138\n",
            "Epoch 2/5\n",
            "2303/2303 [==============================] - 644s 280ms/step - loss: 0.3904 - binary_accuracy: 0.8121 - val_loss: 0.3793 - val_binary_accuracy: 0.8257\n",
            "Epoch 3/5\n",
            "2303/2303 [==============================] - 614s 267ms/step - loss: 0.3598 - binary_accuracy: 0.8293 - val_loss: 0.3767 - val_binary_accuracy: 0.8264\n",
            "Epoch 4/5\n",
            "2303/2303 [==============================] - 574s 249ms/step - loss: 0.3377 - binary_accuracy: 0.8393 - val_loss: 0.3970 - val_binary_accuracy: 0.8145\n",
            "Epoch 5/5\n",
            "2303/2303 [==============================] - 573s 249ms/step - loss: 0.3222 - binary_accuracy: 0.8471 - val_loss: 0.3990 - val_binary_accuracy: 0.8189\n"
          ]
        }
      ],
      "source": [
        "print(f\"Training model with {tfhub_handle_encoder}\")\n",
        "history = classifier_model.fit(\n",
        "    x=train_ds, validation_data=val_ds, epochs=epochs\n",
        ")"
      ]
    },
    {
      "cell_type": "markdown",
      "metadata": {
        "id": "uBthMlTSV8kn"
      },
      "source": [
        "### Evaluando el Modelo\n",
        "\n",
        "\n",
        "Veamos cómo funciona el modelo. Se devolverán dos valores. Loss (un número que representa el error, los valores más bajos son mejores) y Accuracy."
      ]
    },
    {
      "cell_type": "code",
      "execution_count": 85,
      "metadata": {
        "colab": {
          "base_uri": "https://localhost:8080/"
        },
        "id": "slqB-urBV9sP",
        "outputId": "eedd261a-cc23-47a6-c486-153d627bd203"
      },
      "outputs": [
        {
          "name": "stdout",
          "output_type": "stream",
          "text": [
            "768/768 [==============================] - 79s 103ms/step - loss: 0.4032 - binary_accuracy: 0.8159\n",
            "Loss: 0.40319180488586426\n",
            "Accuracy: 0.8159234523773193\n"
          ]
        }
      ],
      "source": [
        "loss, accuracy = classifier_model.evaluate(test_ds)\n",
        "\n",
        "print(f\"Loss: {loss}\")\n",
        "print(f\"Accuracy: {accuracy}\")"
      ]
    },
    {
      "cell_type": "markdown",
      "metadata": {
        "id": "uttWpgmSfzq9"
      },
      "source": [
        "### Graficamos Loss y Accuracy a lo largo del tiempo\n",
        "\n",
        "\n",
        "Basado en el objeto `History` devuelto por `model.fit()`. Se puede graficar la pérdida de entrenamiento y validación para comparar, así como la precisión del entrenamiento y la validación:"
      ]
    },
    {
      "cell_type": "code",
      "execution_count": 86,
      "metadata": {
        "colab": {
          "base_uri": "https://localhost:8080/",
          "height": 601
        },
        "id": "fiythcODf0xo",
        "outputId": "fbe8e670-bb07-4fd7-dcd9-064787eff11d"
      },
      "outputs": [
        {
          "name": "stdout",
          "output_type": "stream",
          "text": [
            "dict_keys(['loss', 'binary_accuracy', 'val_loss', 'val_binary_accuracy'])\n"
          ]
        },
        {
          "data": {
            "text/plain": [
              "<matplotlib.legend.Legend at 0x7b0b9d843340>"
            ]
          },
          "execution_count": 86,
          "metadata": {},
          "output_type": "execute_result"
        },
        {
          "data": {
            "image/png": "[encoded data removed]",
            "text/plain": [
              "<Figure size 1000x600 with 2 Axes>"
            ]
          },
          "metadata": {},
          "output_type": "display_data"
        }
      ],
      "source": [
        "history_dict = history.history\n",
        "print(history_dict.keys())\n",
        "\n",
        "acc = history_dict[\"binary_accuracy\"]\n",
        "val_acc = history_dict[\"val_binary_accuracy\"]\n",
        "loss = history_dict[\"loss\"]\n",
        "val_loss = history_dict[\"val_loss\"]\n",
        "\n",
        "epochs = range(1, len(acc) + 1)\n",
        "fig = plt.figure(figsize=(10, 6))\n",
        "fig.tight_layout()\n",
        "\n",
        "plt.subplot(2, 1, 1)\n",
        "# \"bo\" is for \"blue dot\"\n",
        "plt.plot(epochs, loss, \"r\", label=\"Training loss\")\n",
        "# b is for \"solid blue line\"\n",
        "plt.plot(epochs, val_loss, \"b\", label=\"Validation loss\")\n",
        "plt.title(\"Training and validation loss\")\n",
        "# plt.xlabel('Epochs')\n",
        "plt.ylabel(\"Loss\")\n",
        "plt.legend()\n",
        "\n",
        "plt.subplot(2, 1, 2)\n",
        "plt.plot(epochs, acc, \"r\", label=\"Training acc\")\n",
        "plt.plot(epochs, val_acc, \"b\", label=\"Validation acc\")\n",
        "plt.title(\"Training and validation accuracy\")\n",
        "plt.xlabel(\"Epochs\")\n",
        "plt.ylabel(\"Accuracy\")\n",
        "plt.legend(loc=\"lower right\")"
      ]
    },
    {
      "cell_type": "markdown",
      "metadata": {
        "id": "WzJZCo-cf-Jf"
      },
      "source": [
        "En este gráfico, las líneas rojas representan la pérdida y precisión del entrenamiento, y las líneas azules son la pérdida y precisión de la validación."
      ]
    },
    {
      "cell_type": "markdown",
      "metadata": {
        "id": "Rtn7jewb6dg4"
      },
      "source": [
        "### Exportar modelo\n",
        "\n",
        "Se guarda el modelo ajustado para su uso posterior."
      ]
    },
    {
      "cell_type": "code",
      "execution_count": 87,
      "metadata": {
        "id": "ShcvqJAgVera"
      },
      "outputs": [],
      "source": [
        "dataset_name = \"veracity\"\n",
        "saved_model_path = \"./{}_bert\".format(dataset_name.replace(\"/\", \"_\"))\n",
        "TIMESTAMP = datetime.datetime.now().strftime(\"%Y%m%d%H%M%S\")\n",
        "\n",
        "EXPORT_PATH = os.path.join(saved_model_path, TIMESTAMP)\n",
        "\n",
        "classifier_model.save(EXPORT_PATH, include_optimizer=False)"
      ]
    },
    {
      "cell_type": "markdown",
      "metadata": {
        "id": "PbI25bS1vD7s"
      },
      "source": [
        "Recarguemos el modelo para que puedas probarlo junto con el modelo que aún está en la memoria."
      ]
    },
    {
      "cell_type": "code",
      "execution_count": 88,
      "metadata": {
        "id": "gUEWVskZjEF0"
      },
      "outputs": [],
      "source": [
        "reloaded_model = tf.saved_model.load(EXPORT_PATH)"
      ]
    },
    {
      "cell_type": "markdown",
      "metadata": {
        "id": "oyTappHTvNCz"
      },
      "source": [
        "Aquí se puede probar el modelo en cualquier noticia que desee, simplemente agréguela a la variable de ejemplos a continuación."
      ]
    },
    {
      "cell_type": "code",
      "execution_count": 90,
      "metadata": {
        "colab": {
          "base_uri": "https://localhost:8080/"
        },
        "id": "VBWzH6exlCPS",
        "outputId": "d365ac8c-a359-4ff5-adc5-f84b5dab2550"
      },
      "outputs": [
        {
          "name": "stdout",
          "output_type": "stream",
          "text": [
            "Resultados del modelo guardado:\n",
            "input: la tierra es plana!            : score: 0.205642\n",
            "input: El presidente habla con su perro desde el mas alla : score: 0.464406\n",
            "input: Renuncio el ministro de economia : score: 0.043256\n",
            "input: Las vacunas son malas para la salud, tienen microchips que te controlan : score: 0.792663\n",
            "input: El PSOE se la robo toda        : score: 0.994556\n",
            "\n",
            "Results del modelo en memoria:\n",
            "input: la tierra es plana!            : score: 0.205642\n",
            "input: El presidente habla con su perro desde el mas alla : score: 0.464406\n",
            "input: Renuncio el ministro de economia : score: 0.043256\n",
            "input: Las vacunas son malas para la salud, tienen microchips que te controlan : score: 0.792663\n",
            "input: El PSOE se la robo toda        : score: 0.994556\n",
            "\n"
          ]
        }
      ],
      "source": [
        "def print_my_examples(inputs, results):\n",
        "    result_for_printing = [\n",
        "        f\"input: {inputs[i]:<30} : score: {results[i][0]:.6f}\"\n",
        "        for i in range(len(inputs))\n",
        "    ]\n",
        "    print(*result_for_printing, sep=\"\\n\")\n",
        "    print()\n",
        "\n",
        "\n",
        "examples = [\n",
        "    \"la tierra es plana!\",\n",
        "    \"El presidente habla con su perro desde el mas alla\",\n",
        "    \"Renuncio el ministro de economia\",\n",
        "    \"Las vacunas son malas para la salud, tienen microchips que te controlan\",\n",
        "    \"El PSOE se la robo toda\",\n",
        "]\n",
        "\n",
        "reloaded_results = reloaded_model(tf.constant(examples))\n",
        "original_results = classifier_model(tf.constant(examples))\n",
        "\n",
        "print(\"Resultados del modelo guardado:\")\n",
        "print_my_examples(examples, reloaded_results)\n",
        "print(\"Results del modelo en memoria:\")\n",
        "print_my_examples(examples, original_results)"
      ]
    },
    {
      "cell_type": "markdown",
      "metadata": {
        "id": "7ah5sImLDKBC"
      },
      "source": [
        "## Aprendizaje continuo\n",
        "\n",
        "En este notebook se selecciono Small BERT para entrenar nuestro clasificador de texto. Hay otros modelos BERT previamente entrenados que pueden encontrarse a continuación. Se considera experimentar con algunos de estos, considerado que cuanto más grande sea el modelo a ajustar, más tiempo llevará entrenarlo.\n",
        "\n",
        "Los modelos son:\n",
        "  - [BERT-Base](https://tfhub.dev/tensorflow/bert_en_uncased_L-12_H-768_A-12/3), [Uncased](https://tfhub.dev/tensorflow/bert_en_uncased_L-12_H-768_A-12/3) and [seven more models](https://tfhub.dev/google/collections/bert/1) with trained weights released by the original BERT authors.\n",
        "  - [Small BERTs](https://tfhub.dev/google/collections/bert/1) have the same general architecture but fewer and/or smaller Transformer blocks, which lets you explore tradeoffs between speed, size and quality.\n",
        "  - [ALBERT](https://tfhub.dev/google/collections/albert/1): four different sizes of \"A Lite BERT\" that reduces model size (but not computation time) by sharing parameters between layers.\n",
        "  - [BERT Experts](https://tfhub.dev/google/collections/experts/bert/1): eight models that all have the BERT-base architecture but offer a choice between different pre-training domains, to align more closely with the target task.\n",
        "  - [Electra](https://tfhub.dev/google/collections/electra/1) has the same architecture as BERT (in three different sizes), but gets pre-trained as a discriminator in a set-up that resembles a Generative Adversarial Network (GAN).\n",
        "  - BERT with Talking-Heads Attention and Gated GELU [[base](https://tfhub.dev/tensorflow/talkheads_ggelu_bert_en_base/1), [large](https://tfhub.dev/tensorflow/talkheads_ggelu_bert_en_large/1)] has two improvements to the core of the Transformer architecture.\n",
        "\n",
        "Para mas detalles investigar la documentación del modelo en TensorFlow Hub.\n",
        "\n",
        "Aparte de los modelos disponibles anteriormente, hay [varias versiones](https://tfhub.dev/google/collections/transformer_encoders_text/1) de los modelos que son más grandes y pueden ofrecer una precisión aún mayor, pero son demasiado grandes para ajustar en una sola GPU."
      ]
    },
    {
      "cell_type": "markdown",
      "metadata": {
        "id": "QaTsUTIMDKBC"
      },
      "source": [
        "#### **Licencia**\n",
        "\n",
        "Este notebook esta basado en la documentación oficial de Google para la clasificacion de textos utilizando BERT.\n",
        "\n",
        "Copyright 2022 Google Inc. Licensed under the Apache License, Version 2.0 (the \"License\"); you may not use this file except in compliance with the License. You may obtain a copy of the License at http://www.apache.org/licenses/LICENSE-2.0 Unless required by applicable law or agreed to in writing, software distributed under the License is distributed on an \"AS IS\" BASIS, WITHOUT WARRANTIES OR CONDITIONS OF ANY KIND, either express or implied. See the License for the specific language governing permissions and limitations under the License"
      ]
    }
  ],
  "metadata": {
    "accelerator": "GPU",
    "colab": {
      "provenance": []
    },
    "environment": {
      "kernel": "python3",
      "name": "tf2-gpu.2-12.m109",
      "type": "gcloud",
      "uri": "gcr.io/deeplearning-platform-release/tf2-gpu.2-12:m109"
    },
    "kernelspec": {
      "display_name": "Python 3.8.10 64-bit",
      "language": "python",
      "name": "python3"
    },
    "language_info": {
      "codemirror_mode": {
        "name": "ipython",
        "version": 3
      },
      "file_extension": ".py",
      "mimetype": "text/x-python",
      "name": "python",
      "nbconvert_exporter": "python",
      "pygments_lexer": "ipython3",
      "version": "3.12.0"
    },
    "vscode": {
      "interpreter": {
        "hash": "916dbcbb3f70747c44a77c7bcd40155683ae19c65e1c03b4aa3499c5328201f1"
      }
    }
  },
  "nbformat": 4,
  "nbformat_minor": 0
}
