{
  "cells": [
    {
      "cell_type": "markdown",
      "metadata": {
        "id": "IZ6SNYq_tVVC"
      },
      "source": [
        "# Clasificación de Texto con BERT\n",
        "\n",
        "### Recomendaciones\n",
        "Asegurarse de tener GPU asociada a la instancia del Notebook para que el entrenamiento no demore mucho tiempo.\n"
      ]
    },
    {
      "cell_type": "markdown",
      "metadata": {
        "id": "2PHBpLPuQdmK"
      },
      "source": [
        "## Sobre BERT (Bidirectional Encoder Representations from Transformers)\n",
        "[BERT](https://arxiv.org/abs/1810.04805)  y otras arquiteccturas basadasen Transformers han demostrado ser exitosos en diversidad de tareas de NLP\n",
        "(natural language processing). Calculan representaciones del espacio vectorial del lenguaje natural que son adecuadas para su uso en modelos de deep learning. La familia de modelos BERT utiliza la Transformer encoder architecture para procesar cada token de texto de entrada en el contexto completo de todos los tokens antes y después.\n",
        "\n",
        "Los modelos BERT generalmente se entrenan previamente en un gran corpus de texto y luego se ajustan para tareas específicas(fine-tuning).\n"
      ]
    },
    {
      "cell_type": "markdown",
      "metadata": {
        "id": "QpQxYc_F_yX4"
      },
      "source": [
        "#### Instalaciones Colab"
      ]
    },
    {
      "cell_type": "code",
      "execution_count": 1,
      "metadata": {
        "colab": {
          "base_uri": "https://localhost:8080/"
        },
        "id": "X7oHHo7I_uJA",
        "outputId": "428b6c9e-bb78-4021-9915-10364d517352"
      },
      "outputs": [
        {
          "name": "stdout",
          "output_type": "stream",
          "text": [
            "Collecting tensorflow-text\n",
            "  Downloading tensorflow_text-2.15.0-cp310-cp310-manylinux_2_17_x86_64.manylinux2014_x86_64.whl (5.2 MB)\n",
            "\u001b[2K     \u001b[90m━━━━━━━━━━━━━━━━━━━━━━━━━━━━━━━━━━━━━━━━\u001b[0m \u001b[32m5.2/5.2 MB\u001b[0m \u001b[31m27.6 MB/s\u001b[0m eta \u001b[36m0:00:00\u001b[0m\n",
            "\u001b[?25hRequirement already satisfied: tensorflow-hub>=0.13.0 in /usr/local/lib/python3.10/dist-packages (from tensorflow-text) (0.16.1)\n",
            "Requirement already satisfied: tensorflow<2.16,>=2.15.0 in /usr/local/lib/python3.10/dist-packages (from tensorflow-text) (2.15.0)\n",
            "Requirement already satisfied: absl-py>=1.0.0 in /usr/local/lib/python3.10/dist-packages (from tensorflow<2.16,>=2.15.0->tensorflow-text) (1.4.0)\n",
            "Requirement already satisfied: astunparse>=1.6.0 in /usr/local/lib/python3.10/dist-packages (from tensorflow<2.16,>=2.15.0->tensorflow-text) (1.6.3)\n",
            "Requirement already satisfied: flatbuffers>=23.5.26 in /usr/local/lib/python3.10/dist-packages (from tensorflow<2.16,>=2.15.0->tensorflow-text) (23.5.26)\n",
            "Requirement already satisfied: gast!=0.5.0,!=0.5.1,!=0.5.2,>=0.2.1 in /usr/local/lib/python3.10/dist-packages (from tensorflow<2.16,>=2.15.0->tensorflow-text) (0.5.4)\n",
            "Requirement already satisfied: google-pasta>=0.1.1 in /usr/local/lib/python3.10/dist-packages (from tensorflow<2.16,>=2.15.0->tensorflow-text) (0.2.0)\n",
            "Requirement already satisfied: h5py>=2.9.0 in /usr/local/lib/python3.10/dist-packages (from tensorflow<2.16,>=2.15.0->tensorflow-text) (3.9.0)\n",
            "Requirement already satisfied: libclang>=13.0.0 in /usr/local/lib/python3.10/dist-packages (from tensorflow<2.16,>=2.15.0->tensorflow-text) (16.0.6)\n",
            "Requirement already satisfied: ml-dtypes~=0.2.0 in /usr/local/lib/python3.10/dist-packages (from tensorflow<2.16,>=2.15.0->tensorflow-text) (0.2.0)\n",
            "Requirement already satisfied: numpy<2.0.0,>=1.23.5 in /usr/local/lib/python3.10/dist-packages (from tensorflow<2.16,>=2.15.0->tensorflow-text) (1.25.2)\n",
            "Requirement already satisfied: opt-einsum>=2.3.2 in /usr/local/lib/python3.10/dist-packages (from tensorflow<2.16,>=2.15.0->tensorflow-text) (3.3.0)\n",
            "Requirement already satisfied: packaging in /usr/local/lib/python3.10/dist-packages (from tensorflow<2.16,>=2.15.0->tensorflow-text) (23.2)\n",
            "Requirement already satisfied: protobuf!=4.21.0,!=4.21.1,!=4.21.2,!=4.21.3,!=4.21.4,!=4.21.5,<5.0.0dev,>=3.20.3 in /usr/local/lib/python3.10/dist-packages (from tensorflow<2.16,>=2.15.0->tensorflow-text) (3.20.3)\n",
            "Requirement already satisfied: setuptools in /usr/local/lib/python3.10/dist-packages (from tensorflow<2.16,>=2.15.0->tensorflow-text) (67.7.2)\n",
            "Requirement already satisfied: six>=1.12.0 in /usr/local/lib/python3.10/dist-packages (from tensorflow<2.16,>=2.15.0->tensorflow-text) (1.16.0)\n",
            "Requirement already satisfied: termcolor>=1.1.0 in /usr/local/lib/python3.10/dist-packages (from tensorflow<2.16,>=2.15.0->tensorflow-text) (2.4.0)\n",
            "Requirement already satisfied: typing-extensions>=3.6.6 in /usr/local/lib/python3.10/dist-packages (from tensorflow<2.16,>=2.15.0->tensorflow-text) (4.10.0)\n",
            "Requirement already satisfied: wrapt<1.15,>=1.11.0 in /usr/local/lib/python3.10/dist-packages (from tensorflow<2.16,>=2.15.0->tensorflow-text) (1.14.1)\n",
            "Requirement already satisfied: tensorflow-io-gcs-filesystem>=0.23.1 in /usr/local/lib/python3.10/dist-packages (from tensorflow<2.16,>=2.15.0->tensorflow-text) (0.36.0)\n",
            "Requirement already satisfied: grpcio<2.0,>=1.24.3 in /usr/local/lib/python3.10/dist-packages (from tensorflow<2.16,>=2.15.0->tensorflow-text) (1.62.0)\n",
            "Requirement already satisfied: tensorboard<2.16,>=2.15 in /usr/local/lib/python3.10/dist-packages (from tensorflow<2.16,>=2.15.0->tensorflow-text) (2.15.2)\n",
            "Requirement already satisfied: tensorflow-estimator<2.16,>=2.15.0 in /usr/local/lib/python3.10/dist-packages (from tensorflow<2.16,>=2.15.0->tensorflow-text) (2.15.0)\n",
            "Requirement already satisfied: keras<2.16,>=2.15.0 in /usr/local/lib/python3.10/dist-packages (from tensorflow<2.16,>=2.15.0->tensorflow-text) (2.15.0)\n",
            "Requirement already satisfied: tf-keras>=2.14.1 in /usr/local/lib/python3.10/dist-packages (from tensorflow-hub>=0.13.0->tensorflow-text) (2.15.0)\n",
            "Requirement already satisfied: wheel<1.0,>=0.23.0 in /usr/local/lib/python3.10/dist-packages (from astunparse>=1.6.0->tensorflow<2.16,>=2.15.0->tensorflow-text) (0.42.0)\n",
            "Requirement already satisfied: google-auth<3,>=1.6.3 in /usr/local/lib/python3.10/dist-packages (from tensorboard<2.16,>=2.15->tensorflow<2.16,>=2.15.0->tensorflow-text) (2.27.0)\n",
            "Requirement already satisfied: google-auth-oauthlib<2,>=0.5 in /usr/local/lib/python3.10/dist-packages (from tensorboard<2.16,>=2.15->tensorflow<2.16,>=2.15.0->tensorflow-text) (1.2.0)\n",
            "Requirement already satisfied: markdown>=2.6.8 in /usr/local/lib/python3.10/dist-packages (from tensorboard<2.16,>=2.15->tensorflow<2.16,>=2.15.0->tensorflow-text) (3.5.2)\n",
            "Requirement already satisfied: requests<3,>=2.21.0 in /usr/local/lib/python3.10/dist-packages (from tensorboard<2.16,>=2.15->tensorflow<2.16,>=2.15.0->tensorflow-text) (2.31.0)\n",
            "Requirement already satisfied: tensorboard-data-server<0.8.0,>=0.7.0 in /usr/local/lib/python3.10/dist-packages (from tensorboard<2.16,>=2.15->tensorflow<2.16,>=2.15.0->tensorflow-text) (0.7.2)\n",
            "Requirement already satisfied: werkzeug>=1.0.1 in /usr/local/lib/python3.10/dist-packages (from tensorboard<2.16,>=2.15->tensorflow<2.16,>=2.15.0->tensorflow-text) (3.0.1)\n",
            "Requirement already satisfied: cachetools<6.0,>=2.0.0 in /usr/local/lib/python3.10/dist-packages (from google-auth<3,>=1.6.3->tensorboard<2.16,>=2.15->tensorflow<2.16,>=2.15.0->tensorflow-text) (5.3.3)\n",
            "Requirement already satisfied: pyasn1-modules>=0.2.1 in /usr/local/lib/python3.10/dist-packages (from google-auth<3,>=1.6.3->tensorboard<2.16,>=2.15->tensorflow<2.16,>=2.15.0->tensorflow-text) (0.3.0)\n",
            "Requirement already satisfied: rsa<5,>=3.1.4 in /usr/local/lib/python3.10/dist-packages (from google-auth<3,>=1.6.3->tensorboard<2.16,>=2.15->tensorflow<2.16,>=2.15.0->tensorflow-text) (4.9)\n",
            "Requirement already satisfied: requests-oauthlib>=0.7.0 in /usr/local/lib/python3.10/dist-packages (from google-auth-oauthlib<2,>=0.5->tensorboard<2.16,>=2.15->tensorflow<2.16,>=2.15.0->tensorflow-text) (1.3.1)\n",
            "Requirement already satisfied: charset-normalizer<4,>=2 in /usr/local/lib/python3.10/dist-packages (from requests<3,>=2.21.0->tensorboard<2.16,>=2.15->tensorflow<2.16,>=2.15.0->tensorflow-text) (3.3.2)\n",
            "Requirement already satisfied: idna<4,>=2.5 in /usr/local/lib/python3.10/dist-packages (from requests<3,>=2.21.0->tensorboard<2.16,>=2.15->tensorflow<2.16,>=2.15.0->tensorflow-text) (3.6)\n",
            "Requirement already satisfied: urllib3<3,>=1.21.1 in /usr/local/lib/python3.10/dist-packages (from requests<3,>=2.21.0->tensorboard<2.16,>=2.15->tensorflow<2.16,>=2.15.0->tensorflow-text) (2.0.7)\n",
            "Requirement already satisfied: certifi>=2017.4.17 in /usr/local/lib/python3.10/dist-packages (from requests<3,>=2.21.0->tensorboard<2.16,>=2.15->tensorflow<2.16,>=2.15.0->tensorflow-text) (2024.2.2)\n",
            "Requirement already satisfied: MarkupSafe>=2.1.1 in /usr/local/lib/python3.10/dist-packages (from werkzeug>=1.0.1->tensorboard<2.16,>=2.15->tensorflow<2.16,>=2.15.0->tensorflow-text) (2.1.5)\n",
            "Requirement already satisfied: pyasn1<0.6.0,>=0.4.6 in /usr/local/lib/python3.10/dist-packages (from pyasn1-modules>=0.2.1->google-auth<3,>=1.6.3->tensorboard<2.16,>=2.15->tensorflow<2.16,>=2.15.0->tensorflow-text) (0.5.1)\n",
            "Requirement already satisfied: oauthlib>=3.0.0 in /usr/local/lib/python3.10/dist-packages (from requests-oauthlib>=0.7.0->google-auth-oauthlib<2,>=0.5->tensorboard<2.16,>=2.15->tensorflow<2.16,>=2.15.0->tensorflow-text) (3.2.2)\n",
            "Installing collected packages: tensorflow-text\n",
            "Successfully installed tensorflow-text-2.15.0\n"
          ]
        }
      ],
      "source": [
        "pip install tensorflow-text"
      ]
    },
    {
      "cell_type": "code",
      "execution_count": 2,
      "metadata": {
        "colab": {
          "base_uri": "https://localhost:8080/"
        },
        "id": "FlSAxncdAAXu",
        "outputId": "47132d20-f468-4f35-b1b1-55c5c6328040"
      },
      "outputs": [
        {
          "name": "stdout",
          "output_type": "stream",
          "text": [
            "Collecting tf-models-official\n",
            "  Downloading tf_models_official-2.15.0-py2.py3-none-any.whl (2.7 MB)\n",
            "\u001b[2K     \u001b[90m━━━━━━━━━━━━━━━━━━━━━━━━━━━━━━━━━━━━━━━━\u001b[0m \u001b[32m2.7/2.7 MB\u001b[0m \u001b[31m14.0 MB/s\u001b[0m eta \u001b[36m0:00:00\u001b[0m\n",
            "\u001b[?25hRequirement already satisfied: Cython in /usr/local/lib/python3.10/dist-packages (from tf-models-official) (3.0.8)\n",
            "Requirement already satisfied: Pillow in /usr/local/lib/python3.10/dist-packages (from tf-models-official) (9.4.0)\n",
            "Requirement already satisfied: gin-config in /usr/local/lib/python3.10/dist-packages (from tf-models-official) (0.5.0)\n",
            "Requirement already satisfied: google-api-python-client>=1.6.7 in /usr/local/lib/python3.10/dist-packages (from tf-models-official) (2.84.0)\n",
            "Collecting immutabledict (from tf-models-official)\n",
            "  Downloading immutabledict-4.2.0-py3-none-any.whl (4.7 kB)\n",
            "Requirement already satisfied: kaggle>=1.3.9 in /usr/local/lib/python3.10/dist-packages (from tf-models-official) (1.5.16)\n",
            "Requirement already satisfied: matplotlib in /usr/local/lib/python3.10/dist-packages (from tf-models-official) (3.7.1)\n",
            "Requirement already satisfied: numpy>=1.20 in /usr/local/lib/python3.10/dist-packages (from tf-models-official) (1.25.2)\n",
            "Requirement already satisfied: oauth2client in /usr/local/lib/python3.10/dist-packages (from tf-models-official) (4.1.3)\n",
            "Requirement already satisfied: opencv-python-headless in /usr/local/lib/python3.10/dist-packages (from tf-models-official) (4.9.0.80)\n",
            "Requirement already satisfied: pandas>=0.22.0 in /usr/local/lib/python3.10/dist-packages (from tf-models-official) (1.5.3)\n",
            "Requirement already satisfied: psutil>=5.4.3 in /usr/local/lib/python3.10/dist-packages (from tf-models-official) (5.9.5)\n",
            "Requirement already satisfied: py-cpuinfo>=3.3.0 in /usr/local/lib/python3.10/dist-packages (from tf-models-official) (9.0.0)\n",
            "Requirement already satisfied: pycocotools in /usr/local/lib/python3.10/dist-packages (from tf-models-official) (2.0.7)\n",
            "Requirement already satisfied: pyyaml>=6.0.0 in /usr/local/lib/python3.10/dist-packages (from tf-models-official) (6.0.1)\n",
            "Collecting sacrebleu (from tf-models-official)\n",
            "  Downloading sacrebleu-2.4.0-py3-none-any.whl (106 kB)\n",
            "\u001b[2K     \u001b[90m━━━━━━━━━━━━━━━━━━━━━━━━━━━━━━━━━━━━━━━━\u001b[0m \u001b[32m106.3/106.3 kB\u001b[0m \u001b[31m13.2 MB/s\u001b[0m eta \u001b[36m0:00:00\u001b[0m\n",
            "\u001b[?25hRequirement already satisfied: scipy>=0.19.1 in /usr/local/lib/python3.10/dist-packages (from tf-models-official) (1.11.4)\n",
            "Requirement already satisfied: sentencepiece in /usr/local/lib/python3.10/dist-packages (from tf-models-official) (0.1.99)\n",
            "Collecting seqeval (from tf-models-official)\n",
            "  Downloading seqeval-1.2.2.tar.gz (43 kB)\n",
            "\u001b[2K     \u001b[90m━━━━━━━━━━━━━━━━━━━━━━━━━━━━━━━━━━━━━━━━\u001b[0m \u001b[32m43.6/43.6 kB\u001b[0m \u001b[31m6.4 MB/s\u001b[0m eta \u001b[36m0:00:00\u001b[0m\n",
            "\u001b[?25h  Preparing metadata (setup.py) ... \u001b[?25l\u001b[?25hdone\n",
            "Requirement already satisfied: six in /usr/local/lib/python3.10/dist-packages (from tf-models-official) (1.16.0)\n",
            "Requirement already satisfied: tensorflow-datasets in /usr/local/lib/python3.10/dist-packages (from tf-models-official) (4.9.4)\n",
            "Requirement already satisfied: tensorflow-hub>=0.6.0 in /usr/local/lib/python3.10/dist-packages (from tf-models-official) (0.16.1)\n",
            "Collecting tensorflow-model-optimization>=0.4.1 (from tf-models-official)\n",
            "  Downloading tensorflow_model_optimization-0.8.0-py2.py3-none-any.whl (242 kB)\n",
            "\u001b[2K     \u001b[90m━━━━━━━━━━━━━━━━━━━━━━━━━━━━━━━━━━━━━━━━\u001b[0m \u001b[32m242.5/242.5 kB\u001b[0m \u001b[31m20.2 MB/s\u001b[0m eta \u001b[36m0:00:00\u001b[0m\n",
            "\u001b[?25hRequirement already satisfied: tensorflow-text~=2.15.0 in /usr/local/lib/python3.10/dist-packages (from tf-models-official) (2.15.0)\n",
            "Requirement already satisfied: tensorflow~=2.15.0 in /usr/local/lib/python3.10/dist-packages (from tf-models-official) (2.15.0)\n",
            "Requirement already satisfied: tf-slim>=1.1.0 in /usr/local/lib/python3.10/dist-packages (from tf-models-official) (1.1.0)\n",
            "Requirement already satisfied: httplib2<1dev,>=0.15.0 in /usr/local/lib/python3.10/dist-packages (from google-api-python-client>=1.6.7->tf-models-official) (0.22.0)\n",
            "Requirement already satisfied: google-auth<3.0.0dev,>=1.19.0 in /usr/local/lib/python3.10/dist-packages (from google-api-python-client>=1.6.7->tf-models-official) (2.27.0)\n",
            "Requirement already satisfied: google-auth-httplib2>=0.1.0 in /usr/local/lib/python3.10/dist-packages (from google-api-python-client>=1.6.7->tf-models-official) (0.1.1)\n",
            "Requirement already satisfied: google-api-core!=2.0.*,!=2.1.*,!=2.2.*,!=2.3.0,<3.0.0dev,>=1.31.5 in /usr/local/lib/python3.10/dist-packages (from google-api-python-client>=1.6.7->tf-models-official) (2.11.1)\n",
            "Requirement already satisfied: uritemplate<5,>=3.0.1 in /usr/local/lib/python3.10/dist-packages (from google-api-python-client>=1.6.7->tf-models-official) (4.1.1)\n",
            "Requirement already satisfied: certifi in /usr/local/lib/python3.10/dist-packages (from kaggle>=1.3.9->tf-models-official) (2024.2.2)\n",
            "Requirement already satisfied: python-dateutil in /usr/local/lib/python3.10/dist-packages (from kaggle>=1.3.9->tf-models-official) (2.8.2)\n",
            "Requirement already satisfied: requests in /usr/local/lib/python3.10/dist-packages (from kaggle>=1.3.9->tf-models-official) (2.31.0)\n",
            "Requirement already satisfied: tqdm in /usr/local/lib/python3.10/dist-packages (from kaggle>=1.3.9->tf-models-official) (4.66.2)\n",
            "Requirement already satisfied: python-slugify in /usr/local/lib/python3.10/dist-packages (from kaggle>=1.3.9->tf-models-official) (8.0.4)\n",
            "Requirement already satisfied: urllib3 in /usr/local/lib/python3.10/dist-packages (from kaggle>=1.3.9->tf-models-official) (2.0.7)\n",
            "Requirement already satisfied: bleach in /usr/local/lib/python3.10/dist-packages (from kaggle>=1.3.9->tf-models-official) (6.1.0)\n",
            "Requirement already satisfied: pytz>=2020.1 in /usr/local/lib/python3.10/dist-packages (from pandas>=0.22.0->tf-models-official) (2023.4)\n",
            "Requirement already satisfied: absl-py>=1.0.0 in /usr/local/lib/python3.10/dist-packages (from tensorflow~=2.15.0->tf-models-official) (1.4.0)\n",
            "Requirement already satisfied: astunparse>=1.6.0 in /usr/local/lib/python3.10/dist-packages (from tensorflow~=2.15.0->tf-models-official) (1.6.3)\n",
            "Requirement already satisfied: flatbuffers>=23.5.26 in /usr/local/lib/python3.10/dist-packages (from tensorflow~=2.15.0->tf-models-official) (23.5.26)\n",
            "Requirement already satisfied: gast!=0.5.0,!=0.5.1,!=0.5.2,>=0.2.1 in /usr/local/lib/python3.10/dist-packages (from tensorflow~=2.15.0->tf-models-official) (0.5.4)\n",
            "Requirement already satisfied: google-pasta>=0.1.1 in /usr/local/lib/python3.10/dist-packages (from tensorflow~=2.15.0->tf-models-official) (0.2.0)\n",
            "Requirement already satisfied: h5py>=2.9.0 in /usr/local/lib/python3.10/dist-packages (from tensorflow~=2.15.0->tf-models-official) (3.9.0)\n",
            "Requirement already satisfied: libclang>=13.0.0 in /usr/local/lib/python3.10/dist-packages (from tensorflow~=2.15.0->tf-models-official) (16.0.6)\n",
            "Requirement already satisfied: ml-dtypes~=0.2.0 in /usr/local/lib/python3.10/dist-packages (from tensorflow~=2.15.0->tf-models-official) (0.2.0)\n",
            "Requirement already satisfied: opt-einsum>=2.3.2 in /usr/local/lib/python3.10/dist-packages (from tensorflow~=2.15.0->tf-models-official) (3.3.0)\n",
            "Requirement already satisfied: packaging in /usr/local/lib/python3.10/dist-packages (from tensorflow~=2.15.0->tf-models-official) (23.2)\n",
            "Requirement already satisfied: protobuf!=4.21.0,!=4.21.1,!=4.21.2,!=4.21.3,!=4.21.4,!=4.21.5,<5.0.0dev,>=3.20.3 in /usr/local/lib/python3.10/dist-packages (from tensorflow~=2.15.0->tf-models-official) (3.20.3)\n",
            "Requirement already satisfied: setuptools in /usr/local/lib/python3.10/dist-packages (from tensorflow~=2.15.0->tf-models-official) (67.7.2)\n",
            "Requirement already satisfied: termcolor>=1.1.0 in /usr/local/lib/python3.10/dist-packages (from tensorflow~=2.15.0->tf-models-official) (2.4.0)\n",
            "Requirement already satisfied: typing-extensions>=3.6.6 in /usr/local/lib/python3.10/dist-packages (from tensorflow~=2.15.0->tf-models-official) (4.10.0)\n",
            "Requirement already satisfied: wrapt<1.15,>=1.11.0 in /usr/local/lib/python3.10/dist-packages (from tensorflow~=2.15.0->tf-models-official) (1.14.1)\n",
            "Requirement already satisfied: tensorflow-io-gcs-filesystem>=0.23.1 in /usr/local/lib/python3.10/dist-packages (from tensorflow~=2.15.0->tf-models-official) (0.36.0)\n",
            "Requirement already satisfied: grpcio<2.0,>=1.24.3 in /usr/local/lib/python3.10/dist-packages (from tensorflow~=2.15.0->tf-models-official) (1.62.0)\n",
            "Requirement already satisfied: tensorboard<2.16,>=2.15 in /usr/local/lib/python3.10/dist-packages (from tensorflow~=2.15.0->tf-models-official) (2.15.2)\n",
            "Requirement already satisfied: tensorflow-estimator<2.16,>=2.15.0 in /usr/local/lib/python3.10/dist-packages (from tensorflow~=2.15.0->tf-models-official) (2.15.0)\n",
            "Requirement already satisfied: keras<2.16,>=2.15.0 in /usr/local/lib/python3.10/dist-packages (from tensorflow~=2.15.0->tf-models-official) (2.15.0)\n",
            "Requirement already satisfied: tf-keras>=2.14.1 in /usr/local/lib/python3.10/dist-packages (from tensorflow-hub>=0.6.0->tf-models-official) (2.15.0)\n",
            "Requirement already satisfied: dm-tree~=0.1.1 in /usr/local/lib/python3.10/dist-packages (from tensorflow-model-optimization>=0.4.1->tf-models-official) (0.1.8)\n",
            "Requirement already satisfied: contourpy>=1.0.1 in /usr/local/lib/python3.10/dist-packages (from matplotlib->tf-models-official) (1.2.0)\n",
            "Requirement already satisfied: cycler>=0.10 in /usr/local/lib/python3.10/dist-packages (from matplotlib->tf-models-official) (0.12.1)\n",
            "Requirement already satisfied: fonttools>=4.22.0 in /usr/local/lib/python3.10/dist-packages (from matplotlib->tf-models-official) (4.49.0)\n",
            "Requirement already satisfied: kiwisolver>=1.0.1 in /usr/local/lib/python3.10/dist-packages (from matplotlib->tf-models-official) (1.4.5)\n",
            "Requirement already satisfied: pyparsing>=2.3.1 in /usr/local/lib/python3.10/dist-packages (from matplotlib->tf-models-official) (3.1.1)\n",
            "Requirement already satisfied: pyasn1>=0.1.7 in /usr/local/lib/python3.10/dist-packages (from oauth2client->tf-models-official) (0.5.1)\n",
            "Requirement already satisfied: pyasn1-modules>=0.0.5 in /usr/local/lib/python3.10/dist-packages (from oauth2client->tf-models-official) (0.3.0)\n",
            "Requirement already satisfied: rsa>=3.1.4 in /usr/local/lib/python3.10/dist-packages (from oauth2client->tf-models-official) (4.9)\n",
            "Collecting portalocker (from sacrebleu->tf-models-official)\n",
            "  Downloading portalocker-2.8.2-py3-none-any.whl (17 kB)\n",
            "Requirement already satisfied: regex in /usr/local/lib/python3.10/dist-packages (from sacrebleu->tf-models-official) (2023.12.25)\n",
            "Requirement already satisfied: tabulate>=0.8.9 in /usr/local/lib/python3.10/dist-packages (from sacrebleu->tf-models-official) (0.9.0)\n",
            "Collecting colorama (from sacrebleu->tf-models-official)\n",
            "  Downloading colorama-0.4.6-py2.py3-none-any.whl (25 kB)\n",
            "Requirement already satisfied: lxml in /usr/local/lib/python3.10/dist-packages (from sacrebleu->tf-models-official) (4.9.4)\n",
            "Requirement already satisfied: scikit-learn>=0.21.3 in /usr/local/lib/python3.10/dist-packages (from seqeval->tf-models-official) (1.2.2)\n",
            "Requirement already satisfied: click in /usr/local/lib/python3.10/dist-packages (from tensorflow-datasets->tf-models-official) (8.1.7)\n",
            "Requirement already satisfied: etils[enp,epath,etree]>=0.9.0 in /usr/local/lib/python3.10/dist-packages (from tensorflow-datasets->tf-models-official) (1.7.0)\n",
            "Requirement already satisfied: promise in /usr/local/lib/python3.10/dist-packages (from tensorflow-datasets->tf-models-official) (2.3)\n",
            "Requirement already satisfied: tensorflow-metadata in /usr/local/lib/python3.10/dist-packages (from tensorflow-datasets->tf-models-official) (1.14.0)\n",
            "Requirement already satisfied: toml in /usr/local/lib/python3.10/dist-packages (from tensorflow-datasets->tf-models-official) (0.10.2)\n",
            "Requirement already satisfied: array-record>=0.5.0 in /usr/local/lib/python3.10/dist-packages (from tensorflow-datasets->tf-models-official) (0.5.0)\n",
            "Requirement already satisfied: wheel<1.0,>=0.23.0 in /usr/local/lib/python3.10/dist-packages (from astunparse>=1.6.0->tensorflow~=2.15.0->tf-models-official) (0.42.0)\n",
            "Requirement already satisfied: fsspec in /usr/local/lib/python3.10/dist-packages (from etils[enp,epath,etree]>=0.9.0->tensorflow-datasets->tf-models-official) (2023.6.0)\n",
            "Requirement already satisfied: importlib_resources in /usr/local/lib/python3.10/dist-packages (from etils[enp,epath,etree]>=0.9.0->tensorflow-datasets->tf-models-official) (6.1.2)\n",
            "Requirement already satisfied: zipp in /usr/local/lib/python3.10/dist-packages (from etils[enp,epath,etree]>=0.9.0->tensorflow-datasets->tf-models-official) (3.17.0)\n",
            "Requirement already satisfied: googleapis-common-protos<2.0.dev0,>=1.56.2 in /usr/local/lib/python3.10/dist-packages (from google-api-core!=2.0.*,!=2.1.*,!=2.2.*,!=2.3.0,<3.0.0dev,>=1.31.5->google-api-python-client>=1.6.7->tf-models-official) (1.62.0)\n",
            "Requirement already satisfied: cachetools<6.0,>=2.0.0 in /usr/local/lib/python3.10/dist-packages (from google-auth<3.0.0dev,>=1.19.0->google-api-python-client>=1.6.7->tf-models-official) (5.3.3)\n",
            "Requirement already satisfied: charset-normalizer<4,>=2 in /usr/local/lib/python3.10/dist-packages (from requests->kaggle>=1.3.9->tf-models-official) (3.3.2)\n",
            "Requirement already satisfied: idna<4,>=2.5 in /usr/local/lib/python3.10/dist-packages (from requests->kaggle>=1.3.9->tf-models-official) (3.6)\n",
            "Requirement already satisfied: joblib>=1.1.1 in /usr/local/lib/python3.10/dist-packages (from scikit-learn>=0.21.3->seqeval->tf-models-official) (1.3.2)\n",
            "Requirement already satisfied: threadpoolctl>=2.0.0 in /usr/local/lib/python3.10/dist-packages (from scikit-learn>=0.21.3->seqeval->tf-models-official) (3.3.0)\n",
            "Requirement already satisfied: google-auth-oauthlib<2,>=0.5 in /usr/local/lib/python3.10/dist-packages (from tensorboard<2.16,>=2.15->tensorflow~=2.15.0->tf-models-official) (1.2.0)\n",
            "Requirement already satisfied: markdown>=2.6.8 in /usr/local/lib/python3.10/dist-packages (from tensorboard<2.16,>=2.15->tensorflow~=2.15.0->tf-models-official) (3.5.2)\n",
            "Requirement already satisfied: tensorboard-data-server<0.8.0,>=0.7.0 in /usr/local/lib/python3.10/dist-packages (from tensorboard<2.16,>=2.15->tensorflow~=2.15.0->tf-models-official) (0.7.2)\n",
            "Requirement already satisfied: werkzeug>=1.0.1 in /usr/local/lib/python3.10/dist-packages (from tensorboard<2.16,>=2.15->tensorflow~=2.15.0->tf-models-official) (3.0.1)\n",
            "Requirement already satisfied: webencodings in /usr/local/lib/python3.10/dist-packages (from bleach->kaggle>=1.3.9->tf-models-official) (0.5.1)\n",
            "Requirement already satisfied: text-unidecode>=1.3 in /usr/local/lib/python3.10/dist-packages (from python-slugify->kaggle>=1.3.9->tf-models-official) (1.3)\n",
            "Requirement already satisfied: requests-oauthlib>=0.7.0 in /usr/local/lib/python3.10/dist-packages (from google-auth-oauthlib<2,>=0.5->tensorboard<2.16,>=2.15->tensorflow~=2.15.0->tf-models-official) (1.3.1)\n",
            "Requirement already satisfied: MarkupSafe>=2.1.1 in /usr/local/lib/python3.10/dist-packages (from werkzeug>=1.0.1->tensorboard<2.16,>=2.15->tensorflow~=2.15.0->tf-models-official) (2.1.5)\n",
            "Requirement already satisfied: oauthlib>=3.0.0 in /usr/local/lib/python3.10/dist-packages (from requests-oauthlib>=0.7.0->google-auth-oauthlib<2,>=0.5->tensorboard<2.16,>=2.15->tensorflow~=2.15.0->tf-models-official) (3.2.2)\n",
            "Building wheels for collected packages: seqeval\n",
            "  Building wheel for seqeval (setup.py) ... \u001b[?25l\u001b[?25hdone\n",
            "  Created wheel for seqeval: filename=seqeval-1.2.2-py3-none-any.whl size=16162 sha256=44c02ec7355b9c9ce90288e7dd85ae0243c47de8a89d02d2f3776bfc6f1018e6\n",
            "  Stored in directory: /root/.cache/pip/wheels/1a/67/4a/ad4082dd7dfc30f2abfe4d80a2ed5926a506eb8a972b4767fa\n",
            "Successfully built seqeval\n",
            "Installing collected packages: tensorflow-model-optimization, portalocker, immutabledict, colorama, sacrebleu, seqeval, tf-models-official\n",
            "Successfully installed colorama-0.4.6 immutabledict-4.2.0 portalocker-2.8.2 sacrebleu-2.4.0 seqeval-1.2.2 tensorflow-model-optimization-0.8.0 tf-models-official-2.15.0\n"
          ]
        }
      ],
      "source": [
        "pip install tf-models-official"
      ]
    },
    {
      "cell_type": "markdown",
      "metadata": {
        "id": "4G9F7I0bALaB"
      },
      "source": [
        "#### Realizo imports\n",
        "\n"
      ]
    },
    {
      "cell_type": "code",
      "execution_count": 3,
      "metadata": {
        "id": "QeYKBOaPDJ_u"
      },
      "outputs": [],
      "source": [
        "import os\n",
        "import warnings\n",
        "\n",
        "warnings.filterwarnings(\"ignore\")\n",
        "os.environ[\"TF_CPP_MIN_LOG_LEVEL\"] = \"2\""
      ]
    },
    {
      "cell_type": "code",
      "execution_count": 5,
      "metadata": {
        "id": "_XgTpm9ZxoN9",
        "tags": []
      },
      "outputs": [],
      "source": [
        "import datetime\n",
        "import shutil\n",
        "\n",
        "import matplotlib.pyplot as plt\n",
        "import tensorflow as tf\n",
        "import tensorflow_hub as hub\n",
        "import tensorflow_text as text\n",
        "import pandas as pd\n",
        "from sklearn.model_selection import train_test_split\n",
        "from google.cloud import aiplatform\n",
        "from official.nlp import optimization  # to create AdamW optmizer\n",
        "import random\n",
        "from sklearn.utils import resample\n",
        "\n",
        "tf.get_logger().setLevel(\"ERROR\")"
      ]
    },
    {
      "cell_type": "markdown",
      "metadata": {
        "id": "laE9SdFuDJ_0"
      },
      "source": [
        "To check if you have a GPU attached. Run the following."
      ]
    },
    {
      "cell_type": "code",
      "execution_count": 6,
      "metadata": {
        "colab": {
          "base_uri": "https://localhost:8080/"
        },
        "id": "R8znDqN_DJ_1",
        "outputId": "3257ac37-70d6-4f08-e1b3-da6d60470395"
      },
      "outputs": [
        {
          "name": "stdout",
          "output_type": "stream",
          "text": [
            "Num GPUs Available:  1\n"
          ]
        }
      ],
      "source": [
        "print(\"Num GPUs Available: \", len(tf.config.list_physical_devices(\"GPU\")))"
      ]
    },
    {
      "cell_type": "markdown",
      "metadata": {
        "id": "q6MugfEgDRpY"
      },
      "source": [
        "### Veracity Classification\n",
        "En este notebook se entrenara un modelo para clasificar noticias en español como *falsas* o *verdaderas*, basadas en su contenido.\n",
        "\n",
        "Utilizaremos un dataset que contiene 60,000 noticias recopiladas eninternet.\n"
      ]
    },
    {
      "cell_type": "markdown",
      "metadata": {
        "id": "Vnvd4mrtPHHV"
      },
      "source": [
        "### Cargando el Dataset\n",
        "\n"
      ]
    },
    {
      "cell_type": "code",
      "execution_count": 8,
      "metadata": {
        "colab": {
          "base_uri": "https://localhost:8080/",
          "height": 363
        },
        "id": "Pu3xNUa3K14J",
        "outputId": "0f627b08-f359-4793-bf20-0288071fd8cf"
      },
      "outputs": [
        {
          "data": {
            "application/vnd.google.colaboratory.intrinsic+json": {
              "summary": "{\n  \"name\": \"df_chequeado\",\n  \"rows\": 2627,\n  \"fields\": [\n    {\n      \"column\": \"clasificacion\",\n      \"properties\": {\n        \"dtype\": \"number\",\n        \"std\": 0,\n        \"min\": 0,\n        \"max\": 1,\n        \"num_unique_values\": 2,\n        \"samples\": [\n          0,\n          1\n        ],\n        \"semantic_type\": \"\",\n        \"description\": \"\"\n      }\n    },\n    {\n      \"column\": \"texto\",\n      \"properties\": {\n        \"dtype\": \"string\",\n        \"num_unique_values\": 2614,\n        \"samples\": [\n          \"Los programas sociales  son los m\\u00e1s importantes de Latinoam\\u00e9rica\",\n          \"La C\\u00e1mara Electoral anunci\\u00f3 que se van a eliminar las elecciones legislativas de 2021\"\n        ],\n        \"semantic_type\": \"\",\n        \"description\": \"\"\n      }\n    }\n  ]\n}",
              "type": "dataframe",
              "variable_name": "df_chequeado"
            },
            "text/html": [
              "\n",
              "  <div id=\"df-addcd832-822d-4f95-b418-8a392102efa3\" class=\"colab-df-container\">\n",
              "    <div>\n",
              "<style scoped>\n",
              "    .dataframe tbody tr th:only-of-type {\n",
              "        vertical-align: middle;\n",
              "    }\n",
              "\n",
              "    .dataframe tbody tr th {\n",
              "        vertical-align: top;\n",
              "    }\n",
              "\n",
              "    .dataframe thead th {\n",
              "        text-align: right;\n",
              "    }\n",
              "</style>\n",
              "<table border=\"1\" class=\"dataframe\">\n",
              "  <thead>\n",
              "    <tr style=\"text-align: right;\">\n",
              "      <th></th>\n",
              "      <th>clasificacion</th>\n",
              "      <th>texto</th>\n",
              "    </tr>\n",
              "  </thead>\n",
              "  <tbody>\n",
              "    <tr>\n",
              "      <th>0</th>\n",
              "      <td>1</td>\n",
              "      <td>No se divulgaron resultados oficiales previos ...</td>\n",
              "    </tr>\n",
              "    <tr>\n",
              "      <th>1</th>\n",
              "      <td>0</td>\n",
              "      <td>Se difundieron en redes sociales supuestos pri...</td>\n",
              "    </tr>\n",
              "    <tr>\n",
              "      <th>2</th>\n",
              "      <td>1</td>\n",
              "      <td>En el balotaje 2023, las boletas con el número...</td>\n",
              "    </tr>\n",
              "    <tr>\n",
              "      <th>3</th>\n",
              "      <td>0</td>\n",
              "      <td>En el balotaje 2023, las boletas con el número...</td>\n",
              "    </tr>\n",
              "    <tr>\n",
              "      <th>4</th>\n",
              "      <td>0</td>\n",
              "      <td>Miles de usuarios denuncian que, durante la jo...</td>\n",
              "    </tr>\n",
              "    <tr>\n",
              "      <th>5</th>\n",
              "      <td>1</td>\n",
              "      <td>Miles de usuarios denuncian que, durante la jo...</td>\n",
              "    </tr>\n",
              "    <tr>\n",
              "      <th>6</th>\n",
              "      <td>0</td>\n",
              "      <td>Sergio Massa pronunció la frase “voy a poder c...</td>\n",
              "    </tr>\n",
              "    <tr>\n",
              "      <th>7</th>\n",
              "      <td>0</td>\n",
              "      <td>Decenas de miles de usuarios comparten una pla...</td>\n",
              "    </tr>\n",
              "    <tr>\n",
              "      <th>8</th>\n",
              "      <td>0</td>\n",
              "      <td>Mural de Lionel Messi lleva escrito “Aguante M...</td>\n",
              "    </tr>\n",
              "    <tr>\n",
              "      <th>9</th>\n",
              "      <td>0</td>\n",
              "      <td>Aparece Mural de Lionel Messi en Rosario con l...</td>\n",
              "    </tr>\n",
              "  </tbody>\n",
              "</table>\n",
              "</div>\n",
              "    <div class=\"colab-df-buttons\">\n",
              "\n",
              "  <div class=\"colab-df-container\">\n",
              "    <button class=\"colab-df-convert\" onclick=\"convertToInteractive('df-addcd832-822d-4f95-b418-8a392102efa3')\"\n",
              "            title=\"Convert this dataframe to an interactive table.\"\n",
              "            style=\"display:none;\">\n",
              "\n",
              "  <svg xmlns=\"http://www.w3.org/2000/svg\" height=\"24px\" viewBox=\"0 -960 960 960\">\n",
              "    <path d=\"M120-120v-720h720v720H120Zm60-500h600v-160H180v160Zm220 220h160v-160H400v160Zm0 220h160v-160H400v160ZM180-400h160v-160H180v160Zm440 0h160v-160H620v160ZM180-180h160v-160H180v160Zm440 0h160v-160H620v160Z\"/>\n",
              "  </svg>\n",
              "    </button>\n",
              "\n",
              "  <style>\n",
              "    .colab-df-container {\n",
              "      display:flex;\n",
              "      gap: 12px;\n",
              "    }\n",
              "\n",
              "    .colab-df-convert {\n",
              "      background-color: #E8F0FE;\n",
              "      border: none;\n",
              "      border-radius: 50%;\n",
              "      cursor: pointer;\n",
              "      display: none;\n",
              "      fill: #1967D2;\n",
              "      height: 32px;\n",
              "      padding: 0 0 0 0;\n",
              "      width: 32px;\n",
              "    }\n",
              "\n",
              "    .colab-df-convert:hover {\n",
              "      background-color: #E2EBFA;\n",
              "      box-shadow: 0px 1px 2px rgba(60, 64, 67, 0.3), 0px 1px 3px 1px rgba(60, 64, 67, 0.15);\n",
              "      fill: #174EA6;\n",
              "    }\n",
              "\n",
              "    .colab-df-buttons div {\n",
              "      margin-bottom: 4px;\n",
              "    }\n",
              "\n",
              "    [theme=dark] .colab-df-convert {\n",
              "      background-color: #3B4455;\n",
              "      fill: #D2E3FC;\n",
              "    }\n",
              "\n",
              "    [theme=dark] .colab-df-convert:hover {\n",
              "      background-color: #434B5C;\n",
              "      box-shadow: 0px 1px 3px 1px rgba(0, 0, 0, 0.15);\n",
              "      filter: drop-shadow(0px 1px 2px rgba(0, 0, 0, 0.3));\n",
              "      fill: #FFFFFF;\n",
              "    }\n",
              "  </style>\n",
              "\n",
              "    <script>\n",
              "      const buttonEl =\n",
              "        document.querySelector('#df-addcd832-822d-4f95-b418-8a392102efa3 button.colab-df-convert');\n",
              "      buttonEl.style.display =\n",
              "        google.colab.kernel.accessAllowed ? 'block' : 'none';\n",
              "\n",
              "      async function convertToInteractive(key) {\n",
              "        const element = document.querySelector('#df-addcd832-822d-4f95-b418-8a392102efa3');\n",
              "        const dataTable =\n",
              "          await google.colab.kernel.invokeFunction('convertToInteractive',\n",
              "                                                    [key], {});\n",
              "        if (!dataTable) return;\n",
              "\n",
              "        const docLinkHtml = 'Like what you see? Visit the ' +\n",
              "          '<a target=\"_blank\" href=https://colab.research.google.com/notebooks/data_table.ipynb>data table notebook</a>'\n",
              "          + ' to learn more about interactive tables.';\n",
              "        element.innerHTML = '';\n",
              "        dataTable['output_type'] = 'display_data';\n",
              "        await google.colab.output.renderOutput(dataTable, element);\n",
              "        const docLink = document.createElement('div');\n",
              "        docLink.innerHTML = docLinkHtml;\n",
              "        element.appendChild(docLink);\n",
              "      }\n",
              "    </script>\n",
              "  </div>\n",
              "\n",
              "\n",
              "<div id=\"df-7b9ca9e4-7efd-4518-b718-3cecc4a4116e\">\n",
              "  <button class=\"colab-df-quickchart\" onclick=\"quickchart('df-7b9ca9e4-7efd-4518-b718-3cecc4a4116e')\"\n",
              "            title=\"Suggest charts\"\n",
              "            style=\"display:none;\">\n",
              "\n",
              "<svg xmlns=\"http://www.w3.org/2000/svg\" height=\"24px\"viewBox=\"0 0 24 24\"\n",
              "     width=\"24px\">\n",
              "    <g>\n",
              "        <path d=\"M19 3H5c-1.1 0-2 .9-2 2v14c0 1.1.9 2 2 2h14c1.1 0 2-.9 2-2V5c0-1.1-.9-2-2-2zM9 17H7v-7h2v7zm4 0h-2V7h2v10zm4 0h-2v-4h2v4z\"/>\n",
              "    </g>\n",
              "</svg>\n",
              "  </button>\n",
              "\n",
              "<style>\n",
              "  .colab-df-quickchart {\n",
              "      --bg-color: #E8F0FE;\n",
              "      --fill-color: #1967D2;\n",
              "      --hover-bg-color: #E2EBFA;\n",
              "      --hover-fill-color: #174EA6;\n",
              "      --disabled-fill-color: #AAA;\n",
              "      --disabled-bg-color: #DDD;\n",
              "  }\n",
              "\n",
              "  [theme=dark] .colab-df-quickchart {\n",
              "      --bg-color: #3B4455;\n",
              "      --fill-color: #D2E3FC;\n",
              "      --hover-bg-color: #434B5C;\n",
              "      --hover-fill-color: #FFFFFF;\n",
              "      --disabled-bg-color: #3B4455;\n",
              "      --disabled-fill-color: #666;\n",
              "  }\n",
              "\n",
              "  .colab-df-quickchart {\n",
              "    background-color: var(--bg-color);\n",
              "    border: none;\n",
              "    border-radius: 50%;\n",
              "    cursor: pointer;\n",
              "    display: none;\n",
              "    fill: var(--fill-color);\n",
              "    height: 32px;\n",
              "    padding: 0;\n",
              "    width: 32px;\n",
              "  }\n",
              "\n",
              "  .colab-df-quickchart:hover {\n",
              "    background-color: var(--hover-bg-color);\n",
              "    box-shadow: 0 1px 2px rgba(60, 64, 67, 0.3), 0 1px 3px 1px rgba(60, 64, 67, 0.15);\n",
              "    fill: var(--button-hover-fill-color);\n",
              "  }\n",
              "\n",
              "  .colab-df-quickchart-complete:disabled,\n",
              "  .colab-df-quickchart-complete:disabled:hover {\n",
              "    background-color: var(--disabled-bg-color);\n",
              "    fill: var(--disabled-fill-color);\n",
              "    box-shadow: none;\n",
              "  }\n",
              "\n",
              "  .colab-df-spinner {\n",
              "    border: 2px solid var(--fill-color);\n",
              "    border-color: transparent;\n",
              "    border-bottom-color: var(--fill-color);\n",
              "    animation:\n",
              "      spin 1s steps(1) infinite;\n",
              "  }\n",
              "\n",
              "  @keyframes spin {\n",
              "    0% {\n",
              "      border-color: transparent;\n",
              "      border-bottom-color: var(--fill-color);\n",
              "      border-left-color: var(--fill-color);\n",
              "    }\n",
              "    20% {\n",
              "      border-color: transparent;\n",
              "      border-left-color: var(--fill-color);\n",
              "      border-top-color: var(--fill-color);\n",
              "    }\n",
              "    30% {\n",
              "      border-color: transparent;\n",
              "      border-left-color: var(--fill-color);\n",
              "      border-top-color: var(--fill-color);\n",
              "      border-right-color: var(--fill-color);\n",
              "    }\n",
              "    40% {\n",
              "      border-color: transparent;\n",
              "      border-right-color: var(--fill-color);\n",
              "      border-top-color: var(--fill-color);\n",
              "    }\n",
              "    60% {\n",
              "      border-color: transparent;\n",
              "      border-right-color: var(--fill-color);\n",
              "    }\n",
              "    80% {\n",
              "      border-color: transparent;\n",
              "      border-right-color: var(--fill-color);\n",
              "      border-bottom-color: var(--fill-color);\n",
              "    }\n",
              "    90% {\n",
              "      border-color: transparent;\n",
              "      border-bottom-color: var(--fill-color);\n",
              "    }\n",
              "  }\n",
              "</style>\n",
              "\n",
              "  <script>\n",
              "    async function quickchart(key) {\n",
              "      const quickchartButtonEl =\n",
              "        document.querySelector('#' + key + ' button');\n",
              "      quickchartButtonEl.disabled = true;  // To prevent multiple clicks.\n",
              "      quickchartButtonEl.classList.add('colab-df-spinner');\n",
              "      try {\n",
              "        const charts = await google.colab.kernel.invokeFunction(\n",
              "            'suggestCharts', [key], {});\n",
              "      } catch (error) {\n",
              "        console.error('Error during call to suggestCharts:', error);\n",
              "      }\n",
              "      quickchartButtonEl.classList.remove('colab-df-spinner');\n",
              "      quickchartButtonEl.classList.add('colab-df-quickchart-complete');\n",
              "    }\n",
              "    (() => {\n",
              "      let quickchartButtonEl =\n",
              "        document.querySelector('#df-7b9ca9e4-7efd-4518-b718-3cecc4a4116e button');\n",
              "      quickchartButtonEl.style.display =\n",
              "        google.colab.kernel.accessAllowed ? 'block' : 'none';\n",
              "    })();\n",
              "  </script>\n",
              "</div>\n",
              "    </div>\n",
              "  </div>\n"
            ],
            "text/plain": [
              "   clasificacion                                              texto\n",
              "0              1  No se divulgaron resultados oficiales previos ...\n",
              "1              0  Se difundieron en redes sociales supuestos pri...\n",
              "2              1  En el balotaje 2023, las boletas con el número...\n",
              "3              0  En el balotaje 2023, las boletas con el número...\n",
              "4              0  Miles de usuarios denuncian que, durante la jo...\n",
              "5              1  Miles de usuarios denuncian que, durante la jo...\n",
              "6              0  Sergio Massa pronunció la frase “voy a poder c...\n",
              "7              0  Decenas de miles de usuarios comparten una pla...\n",
              "8              0  Mural de Lionel Messi lleva escrito “Aguante M...\n",
              "9              0  Aparece Mural de Lionel Messi en Rosario con l..."
            ]
          },
          "execution_count": 8,
          "metadata": {},
          "output_type": "execute_result"
        }
      ],
      "source": [
        "df_chequeado = pd.read_csv('chequeado.csv')\n",
        "df_chequeado.head(10)"
      ]
    },
    {
      "cell_type": "code",
      "execution_count": 9,
      "metadata": {
        "colab": {
          "base_uri": "https://localhost:8080/"
        },
        "id": "o2C26V2x_OEz",
        "outputId": "66bd95c3-7e6c-4492-a7f4-ddaeb9d7fb76"
      },
      "outputs": [
        {
          "data": {
            "text/plain": [
              "clasificacion\n",
              "0    1770\n",
              "1     857\n",
              "dtype: int64"
            ]
          },
          "execution_count": 9,
          "metadata": {},
          "output_type": "execute_result"
        }
      ],
      "source": [
        "df_chequeado.value_counts(\"clasificacion\")"
      ]
    },
    {
      "cell_type": "code",
      "execution_count": 10,
      "metadata": {
        "colab": {
          "base_uri": "https://localhost:8080/",
          "height": 363
        },
        "id": "eRTAxyzY_WRM",
        "outputId": "db716eca-acf2-46d4-89c2-c13be4ea899e"
      },
      "outputs": [
        {
          "data": {
            "application/vnd.google.colaboratory.intrinsic+json": {
              "type": "dataframe",
              "variable_name": "df_data"
            },
            "text/html": [
              "\n",
              "  <div id=\"df-7e1dfb4c-ccc2-4335-8890-20bf818b5908\" class=\"colab-df-container\">\n",
              "    <div>\n",
              "<style scoped>\n",
              "    .dataframe tbody tr th:only-of-type {\n",
              "        vertical-align: middle;\n",
              "    }\n",
              "\n",
              "    .dataframe tbody tr th {\n",
              "        vertical-align: top;\n",
              "    }\n",
              "\n",
              "    .dataframe thead th {\n",
              "        text-align: right;\n",
              "    }\n",
              "</style>\n",
              "<table border=\"1\" class=\"dataframe\">\n",
              "  <thead>\n",
              "    <tr style=\"text-align: right;\">\n",
              "      <th></th>\n",
              "      <th>clasificacion</th>\n",
              "      <th>texto</th>\n",
              "    </tr>\n",
              "  </thead>\n",
              "  <tbody>\n",
              "    <tr>\n",
              "      <th>0</th>\n",
              "      <td>1</td>\n",
              "      <td>El presidente abre la puerta a unos comicios e...</td>\n",
              "    </tr>\n",
              "    <tr>\n",
              "      <th>1</th>\n",
              "      <td>1</td>\n",
              "      <td>En un escrito, la abogada del Estado Rosa Marí...</td>\n",
              "    </tr>\n",
              "    <tr>\n",
              "      <th>2</th>\n",
              "      <td>0</td>\n",
              "      <td>Este lunes y martes la Asamblea de Madrid acog...</td>\n",
              "    </tr>\n",
              "    <tr>\n",
              "      <th>3</th>\n",
              "      <td>1</td>\n",
              "      <td>Resulta evidente que la ley ha tenido algunos ...</td>\n",
              "    </tr>\n",
              "    <tr>\n",
              "      <th>4</th>\n",
              "      <td>1</td>\n",
              "      <td>El hispanista, que ya ocupó un puesto simbólic...</td>\n",
              "    </tr>\n",
              "    <tr>\n",
              "      <th>5</th>\n",
              "      <td>1</td>\n",
              "      <td>Empieza una intensa semana para el Ejecutivo c...</td>\n",
              "    </tr>\n",
              "    <tr>\n",
              "      <th>6</th>\n",
              "      <td>1</td>\n",
              "      <td>Núñez Feijóo guarda silencio pero Ayuso y Alme...</td>\n",
              "    </tr>\n",
              "    <tr>\n",
              "      <th>7</th>\n",
              "      <td>1</td>\n",
              "      <td>Los socialistas han remarcado que estos trabaj...</td>\n",
              "    </tr>\n",
              "    <tr>\n",
              "      <th>8</th>\n",
              "      <td>1</td>\n",
              "      <td>El ministro de Inclusión, Seguridad Social y M...</td>\n",
              "    </tr>\n",
              "    <tr>\n",
              "      <th>9</th>\n",
              "      <td>1</td>\n",
              "      <td>Izquierda Unida debate y aprueba este sábado s...</td>\n",
              "    </tr>\n",
              "  </tbody>\n",
              "</table>\n",
              "</div>\n",
              "    <div class=\"colab-df-buttons\">\n",
              "\n",
              "  <div class=\"colab-df-container\">\n",
              "    <button class=\"colab-df-convert\" onclick=\"convertToInteractive('df-7e1dfb4c-ccc2-4335-8890-20bf818b5908')\"\n",
              "            title=\"Convert this dataframe to an interactive table.\"\n",
              "            style=\"display:none;\">\n",
              "\n",
              "  <svg xmlns=\"http://www.w3.org/2000/svg\" height=\"24px\" viewBox=\"0 -960 960 960\">\n",
              "    <path d=\"M120-120v-720h720v720H120Zm60-500h600v-160H180v160Zm220 220h160v-160H400v160Zm0 220h160v-160H400v160ZM180-400h160v-160H180v160Zm440 0h160v-160H620v160ZM180-180h160v-160H180v160Zm440 0h160v-160H620v160Z\"/>\n",
              "  </svg>\n",
              "    </button>\n",
              "\n",
              "  <style>\n",
              "    .colab-df-container {\n",
              "      display:flex;\n",
              "      gap: 12px;\n",
              "    }\n",
              "\n",
              "    .colab-df-convert {\n",
              "      background-color: #E8F0FE;\n",
              "      border: none;\n",
              "      border-radius: 50%;\n",
              "      cursor: pointer;\n",
              "      display: none;\n",
              "      fill: #1967D2;\n",
              "      height: 32px;\n",
              "      padding: 0 0 0 0;\n",
              "      width: 32px;\n",
              "    }\n",
              "\n",
              "    .colab-df-convert:hover {\n",
              "      background-color: #E2EBFA;\n",
              "      box-shadow: 0px 1px 2px rgba(60, 64, 67, 0.3), 0px 1px 3px 1px rgba(60, 64, 67, 0.15);\n",
              "      fill: #174EA6;\n",
              "    }\n",
              "\n",
              "    .colab-df-buttons div {\n",
              "      margin-bottom: 4px;\n",
              "    }\n",
              "\n",
              "    [theme=dark] .colab-df-convert {\n",
              "      background-color: #3B4455;\n",
              "      fill: #D2E3FC;\n",
              "    }\n",
              "\n",
              "    [theme=dark] .colab-df-convert:hover {\n",
              "      background-color: #434B5C;\n",
              "      box-shadow: 0px 1px 3px 1px rgba(0, 0, 0, 0.15);\n",
              "      filter: drop-shadow(0px 1px 2px rgba(0, 0, 0, 0.3));\n",
              "      fill: #FFFFFF;\n",
              "    }\n",
              "  </style>\n",
              "\n",
              "    <script>\n",
              "      const buttonEl =\n",
              "        document.querySelector('#df-7e1dfb4c-ccc2-4335-8890-20bf818b5908 button.colab-df-convert');\n",
              "      buttonEl.style.display =\n",
              "        google.colab.kernel.accessAllowed ? 'block' : 'none';\n",
              "\n",
              "      async function convertToInteractive(key) {\n",
              "        const element = document.querySelector('#df-7e1dfb4c-ccc2-4335-8890-20bf818b5908');\n",
              "        const dataTable =\n",
              "          await google.colab.kernel.invokeFunction('convertToInteractive',\n",
              "                                                    [key], {});\n",
              "        if (!dataTable) return;\n",
              "\n",
              "        const docLinkHtml = 'Like what you see? Visit the ' +\n",
              "          '<a target=\"_blank\" href=https://colab.research.google.com/notebooks/data_table.ipynb>data table notebook</a>'\n",
              "          + ' to learn more about interactive tables.';\n",
              "        element.innerHTML = '';\n",
              "        dataTable['output_type'] = 'display_data';\n",
              "        await google.colab.output.renderOutput(dataTable, element);\n",
              "        const docLink = document.createElement('div');\n",
              "        docLink.innerHTML = docLinkHtml;\n",
              "        element.appendChild(docLink);\n",
              "      }\n",
              "    </script>\n",
              "  </div>\n",
              "\n",
              "\n",
              "<div id=\"df-c37bccc9-942e-48d9-951c-a85da7f0b7c7\">\n",
              "  <button class=\"colab-df-quickchart\" onclick=\"quickchart('df-c37bccc9-942e-48d9-951c-a85da7f0b7c7')\"\n",
              "            title=\"Suggest charts\"\n",
              "            style=\"display:none;\">\n",
              "\n",
              "<svg xmlns=\"http://www.w3.org/2000/svg\" height=\"24px\"viewBox=\"0 0 24 24\"\n",
              "     width=\"24px\">\n",
              "    <g>\n",
              "        <path d=\"M19 3H5c-1.1 0-2 .9-2 2v14c0 1.1.9 2 2 2h14c1.1 0 2-.9 2-2V5c0-1.1-.9-2-2-2zM9 17H7v-7h2v7zm4 0h-2V7h2v10zm4 0h-2v-4h2v4z\"/>\n",
              "    </g>\n",
              "</svg>\n",
              "  </button>\n",
              "\n",
              "<style>\n",
              "  .colab-df-quickchart {\n",
              "      --bg-color: #E8F0FE;\n",
              "      --fill-color: #1967D2;\n",
              "      --hover-bg-color: #E2EBFA;\n",
              "      --hover-fill-color: #174EA6;\n",
              "      --disabled-fill-color: #AAA;\n",
              "      --disabled-bg-color: #DDD;\n",
              "  }\n",
              "\n",
              "  [theme=dark] .colab-df-quickchart {\n",
              "      --bg-color: #3B4455;\n",
              "      --fill-color: #D2E3FC;\n",
              "      --hover-bg-color: #434B5C;\n",
              "      --hover-fill-color: #FFFFFF;\n",
              "      --disabled-bg-color: #3B4455;\n",
              "      --disabled-fill-color: #666;\n",
              "  }\n",
              "\n",
              "  .colab-df-quickchart {\n",
              "    background-color: var(--bg-color);\n",
              "    border: none;\n",
              "    border-radius: 50%;\n",
              "    cursor: pointer;\n",
              "    display: none;\n",
              "    fill: var(--fill-color);\n",
              "    height: 32px;\n",
              "    padding: 0;\n",
              "    width: 32px;\n",
              "  }\n",
              "\n",
              "  .colab-df-quickchart:hover {\n",
              "    background-color: var(--hover-bg-color);\n",
              "    box-shadow: 0 1px 2px rgba(60, 64, 67, 0.3), 0 1px 3px 1px rgba(60, 64, 67, 0.15);\n",
              "    fill: var(--button-hover-fill-color);\n",
              "  }\n",
              "\n",
              "  .colab-df-quickchart-complete:disabled,\n",
              "  .colab-df-quickchart-complete:disabled:hover {\n",
              "    background-color: var(--disabled-bg-color);\n",
              "    fill: var(--disabled-fill-color);\n",
              "    box-shadow: none;\n",
              "  }\n",
              "\n",
              "  .colab-df-spinner {\n",
              "    border: 2px solid var(--fill-color);\n",
              "    border-color: transparent;\n",
              "    border-bottom-color: var(--fill-color);\n",
              "    animation:\n",
              "      spin 1s steps(1) infinite;\n",
              "  }\n",
              "\n",
              "  @keyframes spin {\n",
              "    0% {\n",
              "      border-color: transparent;\n",
              "      border-bottom-color: var(--fill-color);\n",
              "      border-left-color: var(--fill-color);\n",
              "    }\n",
              "    20% {\n",
              "      border-color: transparent;\n",
              "      border-left-color: var(--fill-color);\n",
              "      border-top-color: var(--fill-color);\n",
              "    }\n",
              "    30% {\n",
              "      border-color: transparent;\n",
              "      border-left-color: var(--fill-color);\n",
              "      border-top-color: var(--fill-color);\n",
              "      border-right-color: var(--fill-color);\n",
              "    }\n",
              "    40% {\n",
              "      border-color: transparent;\n",
              "      border-right-color: var(--fill-color);\n",
              "      border-top-color: var(--fill-color);\n",
              "    }\n",
              "    60% {\n",
              "      border-color: transparent;\n",
              "      border-right-color: var(--fill-color);\n",
              "    }\n",
              "    80% {\n",
              "      border-color: transparent;\n",
              "      border-right-color: var(--fill-color);\n",
              "      border-bottom-color: var(--fill-color);\n",
              "    }\n",
              "    90% {\n",
              "      border-color: transparent;\n",
              "      border-bottom-color: var(--fill-color);\n",
              "    }\n",
              "  }\n",
              "</style>\n",
              "\n",
              "  <script>\n",
              "    async function quickchart(key) {\n",
              "      const quickchartButtonEl =\n",
              "        document.querySelector('#' + key + ' button');\n",
              "      quickchartButtonEl.disabled = true;  // To prevent multiple clicks.\n",
              "      quickchartButtonEl.classList.add('colab-df-spinner');\n",
              "      try {\n",
              "        const charts = await google.colab.kernel.invokeFunction(\n",
              "            'suggestCharts', [key], {});\n",
              "      } catch (error) {\n",
              "        console.error('Error during call to suggestCharts:', error);\n",
              "      }\n",
              "      quickchartButtonEl.classList.remove('colab-df-spinner');\n",
              "      quickchartButtonEl.classList.add('colab-df-quickchart-complete');\n",
              "    }\n",
              "    (() => {\n",
              "      let quickchartButtonEl =\n",
              "        document.querySelector('#df-c37bccc9-942e-48d9-951c-a85da7f0b7c7 button');\n",
              "      quickchartButtonEl.style.display =\n",
              "        google.colab.kernel.accessAllowed ? 'block' : 'none';\n",
              "    })();\n",
              "  </script>\n",
              "</div>\n",
              "    </div>\n",
              "  </div>\n"
            ],
            "text/plain": [
              "   clasificacion                                              texto\n",
              "0              1  El presidente abre la puerta a unos comicios e...\n",
              "1              1  En un escrito, la abogada del Estado Rosa Marí...\n",
              "2              0  Este lunes y martes la Asamblea de Madrid acog...\n",
              "3              1  Resulta evidente que la ley ha tenido algunos ...\n",
              "4              1  El hispanista, que ya ocupó un puesto simbólic...\n",
              "5              1  Empieza una intensa semana para el Ejecutivo c...\n",
              "6              1  Núñez Feijóo guarda silencio pero Ayuso y Alme...\n",
              "7              1  Los socialistas han remarcado que estos trabaj...\n",
              "8              1  El ministro de Inclusión, Seguridad Social y M...\n",
              "9              1  Izquierda Unida debate y aprueba este sábado s..."
            ]
          },
          "execution_count": 10,
          "metadata": {},
          "output_type": "execute_result"
        }
      ],
      "source": [
        "df_data= pd.read_csv('data.csv')\n",
        "df_data.head(10)"
      ]
    },
    {
      "cell_type": "code",
      "execution_count": 11,
      "metadata": {
        "colab": {
          "base_uri": "https://localhost:8080/"
        },
        "id": "dVKxvLd5YMZM",
        "outputId": "da94a5c9-e0ad-410c-bf7f-72d24055188e"
      },
      "outputs": [
        {
          "data": {
            "text/plain": [
              "clasificacion\n",
              "1    70908\n",
              "0    51868\n",
              "dtype: int64"
            ]
          },
          "execution_count": 11,
          "metadata": {},
          "output_type": "execute_result"
        }
      ],
      "source": [
        "df_data.value_counts(\"clasificacion\")"
      ]
    },
    {
      "cell_type": "markdown",
      "metadata": {
        "id": "cR7Vp4-CPUY2"
      },
      "source": [
        "#### Separo en Train, Test & Validation"
      ]
    },
    {
      "cell_type": "code",
      "execution_count": 12,
      "metadata": {
        "colab": {
          "base_uri": "https://localhost:8080/"
        },
        "id": "iFJqx4_POrs7",
        "outputId": "53c056d0-49ae-40cc-f911-04baa9a92957"
      },
      "outputs": [
        {
          "name": "stdout",
          "output_type": "stream",
          "text": [
            "Tamaño del conjunto de entrenamiento: 1576\n",
            "Tamaño del conjunto de prueba: 525\n",
            "Tamaño del conjunto de validación: 526\n"
          ]
        }
      ],
      "source": [
        "# Divide el conjunto de datos en entrenamiento (60%), prueba (20%) y validación (20%)\n",
        "train_chequeado, test_valid_data = train_test_split(df_chequeado, test_size=0.4, random_state=42)\n",
        "test_chequeado, val_chequeado = train_test_split(test_valid_data, test_size=0.5, random_state=42)\n",
        "\n",
        "# Imprime el tamaño de cada conjunto\n",
        "print(\"Tamaño del conjunto de entrenamiento:\", len(train_chequeado))\n",
        "print(\"Tamaño del conjunto de prueba:\", len(test_chequeado))\n",
        "print(\"Tamaño del conjunto de validación:\", len(val_chequeado))"
      ]
    },
    {
      "cell_type": "code",
      "execution_count": 14,
      "metadata": {
        "colab": {
          "base_uri": "https://localhost:8080/"
        },
        "id": "IHOfVvsEg3D0",
        "outputId": "3490e628-3396-4925-c8ba-aa7fceedf147"
      },
      "outputs": [
        {
          "data": {
            "text/plain": [
              "clasificacion\n",
              "0    371\n",
              "1    155\n",
              "dtype: int64"
            ]
          },
          "execution_count": 14,
          "metadata": {},
          "output_type": "execute_result"
        }
      ],
      "source": [
        "val_chequeado.value_counts(\"clasificacion\")"
      ]
    },
    {
      "cell_type": "markdown",
      "metadata": {
        "id": "HGm10A5HRGXp"
      },
      "source": [
        "Veamos algunas noticias:"
      ]
    },
    {
      "cell_type": "code",
      "execution_count": 15,
      "metadata": {
        "colab": {
          "base_uri": "https://localhost:8080/"
        },
        "id": "JuxDkcvVIoev",
        "outputId": "f1bc4f18-28cf-4c4c-a100-95db7c39b100",
        "tags": []
      },
      "outputs": [
        {
          "name": "stdout",
          "output_type": "stream",
          "text": [
            "Tiempo Argentino: “[El salario mínimo] se incrementó un 2.389% desde junio de 2003”\n",
            "La noticia es: False\n"
          ]
        }
      ],
      "source": [
        "print(test_chequeado['texto'].iloc[1])\n",
        "print(\"La noticia es:\",test_chequeado['clasificacion'].iloc[1] == 1)"
      ]
    },
    {
      "cell_type": "code",
      "execution_count": 16,
      "metadata": {
        "colab": {
          "base_uri": "https://localhost:8080/"
        },
        "id": "TNv5F7vaUdCr",
        "outputId": "20e8d097-bdee-4312-8338-4e27eb9fa411"
      },
      "outputs": [
        {
          "name": "stdout",
          "output_type": "stream",
          "text": [
            "Las vacunas contra la COVID-19 contienen metales pesados y el cilantro es capaz de sacarlos del cuerpo humano\n",
            "La noticia es: False\n"
          ]
        }
      ],
      "source": [
        "print(train_chequeado['texto'].iloc[1])\n",
        "print(\"La noticia es:\",train_chequeado['clasificacion'].iloc[1] == 1)"
      ]
    },
    {
      "cell_type": "code",
      "execution_count": 18,
      "metadata": {
        "colab": {
          "base_uri": "https://localhost:8080/"
        },
        "id": "VqWBcMA7UdP5",
        "outputId": "3bb2d9e1-887d-431a-b702-14b15c6f8a30"
      },
      "outputs": [
        {
          "name": "stdout",
          "output_type": "stream",
          "text": [
            "Según Scioli, su gestión logró la “tasa más baja de desempleo”\n",
            "La noticia es: True\n"
          ]
        }
      ],
      "source": [
        "print(val_chequeado['texto'].iloc[1])\n",
        "print(\"La noticia es:\",val_chequeado['clasificacion'].iloc[1] == 1)"
      ]
    },
    {
      "cell_type": "code",
      "execution_count": 20,
      "metadata": {
        "colab": {
          "base_uri": "https://localhost:8080/"
        },
        "id": "jcNae6WzZmR-",
        "outputId": "37422579-f141-444f-ebe4-d9911933e148"
      },
      "outputs": [
        {
          "name": "stdout",
          "output_type": "stream",
          "text": [
            "Tamaño del conjunto de entrenamiento: 73665\n",
            "Tamaño del conjunto de prueba: 24555\n",
            "Tamaño del conjunto de validación: 24556\n"
          ]
        }
      ],
      "source": [
        "# Divide el conjunto de datos en entrenamiento (60%), prueba (20%) y validación (20%)\n",
        "train_data, test_valid_data = train_test_split(df_data, test_size=0.4, random_state=42)\n",
        "test_data, val_data = train_test_split(test_valid_data, test_size=0.5, random_state=42)\n",
        "\n",
        "# Imprime el tamaño de cada conjunto\n",
        "print(\"Tamaño del conjunto de entrenamiento:\", len(train_data))\n",
        "print(\"Tamaño del conjunto de prueba:\", len(test_data))\n",
        "print(\"Tamaño del conjunto de validación:\", len(val_data))"
      ]
    },
    {
      "cell_type": "code",
      "execution_count": 21,
      "metadata": {
        "colab": {
          "base_uri": "https://localhost:8080/"
        },
        "id": "kx8HI5RHZwA7",
        "outputId": "fc659bfd-e5ea-447c-99dc-ffc85495590a"
      },
      "outputs": [
        {
          "data": {
            "text/plain": [
              "clasificacion\n",
              "1    14154\n",
              "0    10402\n",
              "dtype: int64"
            ]
          },
          "execution_count": 21,
          "metadata": {},
          "output_type": "execute_result"
        }
      ],
      "source": [
        "val_data.value_counts(\"clasificacion\")"
      ]
    },
    {
      "cell_type": "code",
      "execution_count": 23,
      "metadata": {
        "colab": {
          "base_uri": "https://localhost:8080/"
        },
        "id": "evPeNGyAZ8W7",
        "outputId": "78ba1eb8-5783-451a-bb10-89b03980cbdb"
      },
      "outputs": [
        {
          "name": "stdout",
          "output_type": "stream",
          "text": [
            "Ábalos deja claro que “un Gobierno de colaboración no es un Gobierno de coalición”, pero dice que la decisión de que haya ministros de Podemos le corresponde al presidente.\n",
            "La noticia es: True\n"
          ]
        }
      ],
      "source": [
        "print(train_data['texto'].iloc[1])\n",
        "print(\"La noticia es:\",train_data['clasificacion'].iloc[1] == 1)"
      ]
    },
    {
      "cell_type": "code",
      "execution_count": 24,
      "metadata": {
        "colab": {
          "base_uri": "https://localhost:8080/"
        },
        "id": "b8n5Hb45Z8jl",
        "outputId": "c4d5b106-f7c5-4d02-ed22-b5a49de21e52"
      },
      "outputs": [
        {
          "name": "stdout",
          "output_type": "stream",
          "text": [
            "El Gobierno se niega a considerar los crímenes del GAL como terrorismo de Estado\n",
            "La noticia es: False\n"
          ]
        }
      ],
      "source": [
        "print(val_data['texto'].iloc[1])\n",
        "print(\"La noticia es:\",val_data['clasificacion'].iloc[1] == 1)"
      ]
    },
    {
      "cell_type": "code",
      "execution_count": 22,
      "metadata": {
        "colab": {
          "base_uri": "https://localhost:8080/"
        },
        "id": "2UW1f_YHZ0CJ",
        "outputId": "769d82af-9352-4159-bad4-ce86d43c55e0"
      },
      "outputs": [
        {
          "name": "stdout",
          "output_type": "stream",
          "text": [
            "El dirigente confía en lograr un Consejo Nacional Electoral de consenso antes de las elecciones parlamentarias.\n",
            "La noticia es: True\n"
          ]
        }
      ],
      "source": [
        "print(test_data['texto'].iloc[1])\n",
        "print(\"La noticia es:\",test_data['clasificacion'].iloc[1] == 1)"
      ]
    },
    {
      "cell_type": "markdown",
      "metadata": {
        "id": "161nWrHoSWPV"
      },
      "source": [
        "#### Transformo el dataset de Pandas a TensorFlow"
      ]
    },
    {
      "cell_type": "code",
      "execution_count": 25,
      "metadata": {
        "id": "-aJsW1Zu1s3F"
      },
      "outputs": [],
      "source": [
        "def pandas_to_tensorflow_dataset(df, batch_size=32):\n",
        "    dataset = tf.data.Dataset.from_tensor_slices((df['texto'].values, df['clasificacion'].values))\n",
        "    dataset = dataset.shuffle(buffer_size=len(df)).batch(batch_size)\n",
        "    return dataset"
      ]
    },
    {
      "cell_type": "code",
      "execution_count": 27,
      "metadata": {
        "id": "H1eTUd-Oakxe"
      },
      "outputs": [],
      "source": [
        "train_merged = pd.concat([train_data, train_chequeado], ignore_index=True)\n",
        "test_merged = pd.concat([test_data, test_chequeado], ignore_index=True)\n",
        "val_merged =pd.concat([val_data, val_chequeado], ignore_index=True)"
      ]
    },
    {
      "cell_type": "code",
      "execution_count": 54,
      "metadata": {
        "id": "tTm4u0Llpcw7"
      },
      "outputs": [],
      "source": [
        "train_merged.to_csv('./train_merged.csv',index=False)\n",
        "test_merged.to_csv('./test_merged.csv',index=False)\n",
        "val_merged.to_csv('./val_merged.csv',index=False)"
      ]
    },
    {
      "cell_type": "code",
      "execution_count": 29,
      "metadata": {
        "colab": {
          "base_uri": "https://localhost:8080/"
        },
        "id": "I4GtOVDSa4Mn",
        "outputId": "93262095-2c52-4f20-d8a7-1f6f2f3b6e73"
      },
      "outputs": [
        {
          "name": "stdout",
          "output_type": "stream",
          "text": [
            "Tamaño del conjunto de entrenamiento: 75241\n",
            "Tamaño del conjunto de prueba: 25080\n",
            "Tamaño del conjunto de validación: 25082\n"
          ]
        }
      ],
      "source": [
        "# Imprime el tamaño de cada conjunto\n",
        "print(\"Tamaño del conjunto de entrenamiento:\", len(train_merged))\n",
        "print(\"Tamaño del conjunto de prueba:\", len(test_merged))\n",
        "print(\"Tamaño del conjunto de validación:\", len(val_merged))"
      ]
    },
    {
      "cell_type": "code",
      "execution_count": 30,
      "metadata": {
        "colab": {
          "base_uri": "https://localhost:8080/"
        },
        "id": "WYJmxH0v1rNs",
        "outputId": "5d5443c0-025f-4098-b2c9-ff06ac1e156e"
      },
      "outputs": [
        {
          "name": "stdout",
          "output_type": "stream",
          "text": [
            "Texto:\n",
            "tf.Tensor(\n",
            "[b'El Congreso de los Diputados ha presentado un proyecto de ley destinado a fortalecer la protecci\\xc3\\xb3n de los derechos laborales en Espa\\xc3\\xb1a. Esta iniciativa contempla medidas para garantizar condiciones laborales justas, promover la igualdad salarial y mejorar la conciliaci\\xc3\\xb3n entre la vida laboral y personal. Se espera que esta ley tenga un impacto positivo en la calidad de vida de los trabajadores.'\n",
            " b'Los socialistas no quieren formar una coalici\\xc3\\xb3n y que parezca que pierden un pulso ante M\\xc3\\xb3nica Garc\\xc3\\xada. Unidas PP insiste en que ellos han cedido lo suficiente como para alcanzar un acuerdo y que han rebajado sus peticiones pidiendo competencias en Hacienda, Trabajo, Medio Ambiente y Memoria Hist\\xc3\\xb3rica y renunciando a los temas de Estado.'\n",
            " b'Emiliano \\xe2\\x80\\x9cDibu\\xe2\\x80\\x9d Mart\\xc3\\xadnez dijo: \\xe2\\x80\\x9cEl kirchnerismo es una enfermedad mental\\xe2\\x80\\x9d'\n",
            " b'El ministerio de Jon I\\xc3\\xb1arritu, en colaboraci\\xc3\\xb3n con Igualdad, ultima una ayuda para quienes hayan dejado de prestar servicios total o parcialmente. Supondr\\xc3\\xa1 el 70% de la base reguladora y tendr\\xc3\\xa1 una duraci\\xc3\\xb3n de un mes, pero prorrogable.'\n",
            " b'El portavoz parlamentario de la formaci\\xc3\\xb3n, Aitor Esteban, ha asegurado que aunque no registren una enmienda de devoluci\\xc3\\xb3n, ello no significa que el voto final, si se superan las enmiendas de totalidad, sea a favor.'\n",
            " b'Una de las frases m\\xc3\\xa1s repetidas desde hace semanas es que esta sentencia supone un antes y un despu\\xc3\\xa9s para el conjunto del pa\\xc3\\xads. Adquiere especial relevancia que se haya hecho p\\xc3\\xbablica en plena precampa\\xc3\\xb1a, con la repetici\\xc3\\xb3n electoral a las puertas.'\n",
            " b'El Govern baraja inyectar 100 millones para acabar con la huelga de m\\xc3\\xa9dicos'\n",
            " b'Batet deja al Supremo la decisi\\xc3\\xb3n sobre la situaci\\xc3\\xb3n de los diputados presos'\n",
            " b'S\\xc3\\xb3lo el diputado de Ciudadanos, Miguel Guti\\xc3\\xa9rrez, se ha referido al encuentro informal entre los portavoces y la presidenta de la C\\xc3\\xa1mara Baja: afirma que ha consistido en una tormenta de ideas sobre c\\xc3\\xb3mo acelerar, desatascar la actividad parlamentaria, y ha dejado claro que no han hablado de ideas concretas para lograrlo.'\n",
            " b'Entre las firmantes est\\xc3\\xa1n feministas de todos los \\xc3\\xa1mbitos, desde el deporte, pasando por la abogac\\xc3\\xada, hasta el econ\\xc3\\xb3mico, como por ejemplo la cineasta Mabel Lozano, la fil\\xc3\\xb3sofa Amelia Valc\\xc3\\xa1rcel y la jurista Pilar Sep\\xc3\\xbalveda'\n",
            " b'Jos\\xc3\\xa9 Luis Ortiz contradice en la Audiencia Nacional a su exjefa, al cuantificar las reuniones con Villarejo en ocho o diez, mientras que Cospedal dice que fueron s\\xc3\\xb3lo tres o cuatro.'\n",
            " b'Suben entre *NUMBER* y *NUMBER*% los precios de los Audi, por culpa del d\\xc3\\xb3lar'\n",
            " b'Cristina Narbona anuncia un paquete de ayudas de 11.000 millones de euros para empresas, pymes y aut\\xc3\\xb3nomos'\n",
            " b'El movimiento #RegularizacionYa, que cuenta con el apoyo m\\xc3\\xa1s de 1.100 organizaciones, ahonda en la desigualdad social de la poblaci\\xc3\\xb3n migrante.'\n",
            " b'Aznar y Rajoy se vuelcan en la campa\\xc3\\xb1a y acudir\\xc3\\xa1n a varios m\\xc3\\xadtines'\n",
            " b\"'Madrid', el peri\\xc3\\xb3dico que naci\\xc3\\xb3 falangista y muri\\xc3\\xb3 mon\\xc3\\xa1rquico que el franquismo clausur\\xc3\\xb3\"\n",
            " b'Fernando Belhot, el presunto testaferro del expresidente de la Comunitat Valenciana, Gerardo Pisarello, realiz\\xc3\\xb3 varios movimientos a la Banca Privada d\\xe2\\x80\\x99Andorra (BPA), seg\\xc3\\xban la documentaci\\xc3\\xb3n recopilada y publicada este lunes por El Pa\\xc3\\xads.'\n",
            " b'Unidas EAJ-PNV valora de forma positiva el di\\xc3\\xa1logo establecido por Rivera en el asunto del espionaje, pero en la formaci\\xc3\\xb3n morada insisten en que los responsables \\xc3\\xbaltimos deben dimitir. Las miradas se vuelven sobre Enrique Cayuela. El decreto de transparencia de la Corona tambi\\xc3\\xa9n aleja a los socialistas de UP, que no participaron en el desarrollo de la norma.'\n",
            " b'La Fiscal\\xc3\\xada recurre ante el juez el r\\xc3\\xa9gimen abierto de Oriol Pujol'\n",
            " b'S\\xc3\\xa1nchez acepta debatir con Feij\\xc3\\xb3o en el Senado y ahora el PP lo rechaza'\n",
            " b'La marcha ha arrancado desde el n\\xc3\\xbamero 1 de la Gran V\\xc3\\xada de Madrid. Bajo el lema Subir salarios, bajar precios, repartir beneficios, la concentraci\\xc3\\xb3n ha contado con la participaci\\xc3\\xb3n de los l\\xc3\\xadderes sindicales Paqui Maqueda (UGT) y Iv\\xc3\\xa1n Duque (CCOO).'\n",
            " b'Espa\\xc3\\xb1a reconocer\\xc3\\xa1 a Guaid\\xc3\\xb3 como presidente interino de Venezuela el pr\\xc3\\xb3ximo lunes'\n",
            " b'El peque\\xc3\\xb1o comercio y la izquierda frenan el en\\xc3\\xa9simo h\\xc3\\xadper en la capital de las grandes superficies comerciales'\n",
            " b'Abascal vincula el presupuesto de Andaluc\\xc3\\xada a las negociaciones en otros territorios'\n",
            " b'Boris Johnson celebrar\\xc3\\xa1 elecciones despu\\xc3\\xa9s del Brexit si el Parlamento tumba su Gobierno'\n",
            " b'El juicio del Proc\\xc3\\xa9s ser\\xc3\\xa1 televisado'\n",
            " b'El EQUO se afianza como ganador de las europeas, seg\\xc3\\xban un nuevo sondeo de la Euroc\\xc3\\xa1mara'\n",
            " b'Los beb\\xc3\\xa9s est\\xc3\\xa1n en observaci\\xc3\\xb3n, mientras que la portavoz de Unidos Podemos en el Congreso se encuentra bien.'\n",
            " b'El presidente del Gobierno lo condiciona a que Pablo Casado est\\xc3\\xa9 dispuesto a negociar la renovaci\\xc3\\xb3n de todas las instituciones que est\\xc3\\xa1 pendiente. El anuncio de S\\xc3\\xa1nchez llega como punto y final de la moci\\xc3\\xb3n de censura fallida de Vox.'\n",
            " b'El PSOE ve inviable la coalici\\xc3\\xb3n con Podemos por la desconfianza mutua y las discrepancias sobre Catalu\\xc3\\xb1a'\n",
            " b'Villegas dice que se opondr\\xc3\\xa1n a la moci\\xc3\\xb3n del PSOE, y le que la retire, pues ellos presentar\\xc3\\xa1n una propia si el presidente del Gobierno no disuelve las C\\xc3\\xa1maras, algo que no es constitucional'\n",
            " b'La par\\xc3\\xa1lisis parlamentaria salpica tambi\\xc3\\xa9n al poder judicial, que lleva 7 meses pendiente de su renovaci\\xc3\\xb3n'], shape=(32,), dtype=string)\n",
            "Categoría:\n",
            "tf.Tensor([0 0 0 0 1 1 1 1 1 1 1 1 0 1 1 1 0 0 1 1 0 0 1 1 0 1 0 1 1 0 1 1], shape=(32,), dtype=int64)\n"
          ]
        }
      ],
      "source": [
        "batch_size = 32\n",
        "train_ds = pandas_to_tensorflow_dataset(train_merged, batch_size=batch_size)\n",
        "test_ds = pandas_to_tensorflow_dataset(test_merged, batch_size=batch_size)\n",
        "val_ds = pandas_to_tensorflow_dataset(val_merged, batch_size=batch_size)\n",
        "\n",
        "\n",
        "# Imprimir algunos ejemplos del conjunto de entrenamiento\n",
        "for text, label in train_ds.take(1):\n",
        "    print(\"Texto:\")\n",
        "    print(text)\n",
        "    print(\"Categoría:\")\n",
        "    print(label)"
      ]
    },
    {
      "cell_type": "code",
      "execution_count": null,
      "metadata": {
        "id": "NvL4PhxaaQQd"
      },
      "outputs": [],
      "source": [
        "batch_size = 32\n",
        "train_ds_chequeado = pandas_to_tensorflow_dataset(train_chequeado, batch_size=batch_size)\n",
        "test_ds_chequeado = pandas_to_tensorflow_dataset(test_chequeado, batch_size=batch_size)\n",
        "val_ds_chequeado = pandas_to_tensorflow_dataset(val_chequeado, batch_size=batch_size)\n",
        "\n",
        "\n",
        "# Imprimir algunos ejemplos del conjunto de entrenamiento\n",
        "for text, label in train_ds.take(1):\n",
        "    print(\"Texto:\")\n",
        "    print(text)\n",
        "    print(\"Categoría:\")\n",
        "    print(label)"
      ]
    },
    {
      "cell_type": "markdown",
      "metadata": {
        "id": "dX8FtlpGJRE6"
      },
      "source": [
        "## Obtengo modelo de  TensorFlow Hub\n",
        "\n",
        "En primer lugar cargaremos un modelo llamado Small BERT. El BERT pequeño tiene la misma arquitectura general que el BERT original, pero tiene menos bloques Transformer y/o más pequeños.\n",
        "\n",
        "Algunos otros modelos BERT populares son BERT Base, ALBERT, BERT Experts, Electra. Consulte la sección de aprendizaje continuo al final de esta práctica de laboratorio para obtener más información.\n",
        "\n",
        "Aparte de los modelos disponibles a continuación, hay [varias versiones](https://tfhub.dev/google/collections/transformer_encoders_text/1) de los modelos que son más grandes y pueden ofrecer una precisión aún mayor..\n",
        "\n",
        "Cambiar la URL tfhub.dev es suficiente para probar otro de estos modelos.\n"
      ]
    },
    {
      "cell_type": "markdown",
      "metadata": {
        "id": "Ay_dYOulDKAG"
      },
      "source": [
        "\n",
        "\n",
        "### Elijo modelo BERT para hacer el fine-tunig"
      ]
    },
    {
      "cell_type": "code",
      "execution_count": 31,
      "metadata": {
        "cellView": "form",
        "colab": {
          "base_uri": "https://localhost:8080/"
        },
        "id": "y8_ctG55-uTX",
        "outputId": "847bf09e-28a0-4b1b-e856-da16b10f2ddf",
        "tags": []
      },
      "outputs": [
        {
          "name": "stdout",
          "output_type": "stream",
          "text": [
            "BERT model selected           : https://tfhub.dev/tensorflow/small_bert/bert_en_uncased_L-4_H-512_A-8/1\n",
            "Preprocess model auto-selected: https://tfhub.dev/tensorflow/bert_en_uncased_preprocess/3\n"
          ]
        }
      ],
      "source": [
        "# defining the URL of the smallBERT model to use\n",
        "tfhub_handle_encoder = (\n",
        "    \"https://tfhub.dev/tensorflow/small_bert/bert_en_uncased_L-4_H-512_A-8/1\"\n",
        ")\n",
        "\n",
        "# defining the corresponding preprocessing model for the BERT model above\n",
        "tfhub_handle_preprocess = (\n",
        "    \"https://tfhub.dev/tensorflow/bert_en_uncased_preprocess/3\"\n",
        ")\n",
        "\n",
        "print(f\"BERT model selected           : {tfhub_handle_encoder}\")\n",
        "print(f\"Preprocess model auto-selected: {tfhub_handle_preprocess}\")"
      ]
    },
    {
      "cell_type": "markdown",
      "metadata": {
        "id": "7WrcxxTRDdHi"
      },
      "source": [
        "\n",
        "## Preprosamiento del modelo\n",
        "\n",
        "Las entradas de texto deben transformarse en tokens numéricos y organizarse en varios tensores antes de ingresarloas al modelo BERT. TensorFlow Hub proporciona un modelo de preprocesamiento coincidente para cada uno de los modelos BERT discutidos anteriormente, que implementa esta transformación utilizando operaciones TF de la biblioteca TF.text."
      ]
    },
    {
      "cell_type": "markdown",
      "metadata": {
        "id": "3ksWLzo8DKAH"
      },
      "source": [
        "Uso `hub.KerasLayer` para inicializar el preprocesamiento"
      ]
    },
    {
      "cell_type": "code",
      "execution_count": 32,
      "metadata": {
        "id": "w8PHrf4JDKAI"
      },
      "outputs": [],
      "source": [
        "bert_preprocess_model = hub.KerasLayer(tfhub_handle_preprocess)"
      ]
    },
    {
      "cell_type": "markdown",
      "metadata": {
        "id": "x4naBiEE_cZX"
      },
      "source": [
        "Pruebo el modelo en un texto para ver el output:"
      ]
    },
    {
      "cell_type": "code",
      "execution_count": 33,
      "metadata": {
        "colab": {
          "base_uri": "https://localhost:8080/"
        },
        "id": "r9-zCzJpnuwS",
        "outputId": "e6d374f6-c6a3-4f26-9c2b-400fb83105fe",
        "tags": []
      },
      "outputs": [
        {
          "name": "stdout",
          "output_type": "stream",
          "text": [
            "Keys       : ['input_type_ids', 'input_word_ids', 'input_mask']\n",
            "Shape      : (1, 128)\n",
            "Word Ids   : [ 101 2474 7563 2527 9686 2933 2050  999  102    0    0    0]\n",
            "Input Mask : [1 1 1 1 1 1 1 1 1 0 0 0]\n",
            "Type Ids   : [0 0 0 0 0 0 0 0 0 0 0 0]\n"
          ]
        }
      ],
      "source": [
        "text_test = [\"La tierra es plana!\"]\n",
        "text_preprocessed = bert_preprocess_model(text_test)\n",
        "\n",
        "print(f\"Keys       : {list(text_preprocessed.keys())}\")\n",
        "\n",
        "# 1. input_word_ids is the ids for the words in the tokenized sentence\n",
        "print(f'Shape      : {text_preprocessed[\"input_word_ids\"].shape}')\n",
        "print(f'Word Ids   : {text_preprocessed[\"input_word_ids\"][0, :12]}')\n",
        "\n",
        "# 2. input_mask is the tokens which we are masking (masked language model)\n",
        "print(f'Input Mask : {text_preprocessed[\"input_mask\"][0, :12]}')\n",
        "\n",
        "# 3. input_type_ids is the sentence id of the input sentence.\n",
        "print(f'Type Ids   : {text_preprocessed[\"input_type_ids\"][0, :12]}')"
      ]
    },
    {
      "cell_type": "markdown",
      "metadata": {
        "id": "EqL7ihkN_862"
      },
      "source": [
        "Se obtuvieron las 3 salidas del preprocesamiento que usa el modelo BERT (`input_words_id`, `input_mask` y `input_type_ids`).\n",
        "\n",
        "- La entrada se trunca a 128 tokens.\n",
        "- Los `input_type_ids` solo tienen un valor (0) porque se trata de una entrada de una sola oración. Para una entrada de varias oraciones, tendría un número para cada entrada.\n",
        "\n",
        "El preprocesador de texto es un modelo de TensorFlow. Esto significa que en lugar de preprocesarlo por separado, podemos incluirlo como una capa en el código del modelo."
      ]
    },
    {
      "cell_type": "markdown",
      "metadata": {
        "id": "DKnLPSEmtp9i"
      },
      "source": [
        "### Usando el modelo BERT\n",
        "\n",
        "Observamos sus resultados:"
      ]
    },
    {
      "cell_type": "code",
      "execution_count": 34,
      "metadata": {
        "id": "tXxYpK8ixL34",
        "tags": []
      },
      "outputs": [],
      "source": [
        "bert_model = hub.KerasLayer(tfhub_handle_encoder)"
      ]
    },
    {
      "cell_type": "code",
      "execution_count": 35,
      "metadata": {
        "colab": {
          "base_uri": "https://localhost:8080/"
        },
        "id": "_OoF9mebuSZc",
        "outputId": "6dc74973-3b5b-4489-b428-1884851c4104",
        "tags": []
      },
      "outputs": [
        {
          "name": "stdout",
          "output_type": "stream",
          "text": [
            "Loaded BERT: https://tfhub.dev/tensorflow/small_bert/bert_en_uncased_L-4_H-512_A-8/1\n",
            "Pooled Outputs Shape:(1, 512)\n",
            "Pooled Outputs Values:[ 0.9496846   0.98324823 -0.09531265  0.24096364  0.6969304   0.98767346\n",
            "  0.9986549  -0.8058002  -0.30446488 -0.9985025  -0.08893251 -0.9096693 ]\n",
            "Sequence Outputs Shape:(1, 128, 512)\n",
            "Sequence Outputs Values:[[-0.25182402  0.19616833  0.23367709 ... -0.3052696   0.61161005\n",
            "  -0.3047696 ]\n",
            " [ 0.07158667  0.10784472 -0.545988   ... -0.29819494 -0.7554951\n",
            "   0.02841296]\n",
            " [-0.5736358  -0.30087325 -0.29557502 ... -1.101514    0.26085126\n",
            "  -1.0392197 ]\n",
            " ...\n",
            " [ 0.22553724  0.11912782  0.09108297 ... -0.2552132   0.9857911\n",
            "   0.18620631]\n",
            " [ 0.2454565   0.02727201 -0.09477063 ... -0.14836322  1.1082826\n",
            "   0.10798153]\n",
            " [-0.5211894  -0.03754289  0.18009949 ... -0.12720661  0.63493353\n",
            "  -0.02391947]]\n"
          ]
        }
      ],
      "source": [
        "bert_results = bert_model(text_preprocessed)\n",
        "\n",
        "print(f\"Loaded BERT: {tfhub_handle_encoder}\")\n",
        "print(f'Pooled Outputs Shape:{bert_results[\"pooled_output\"].shape}')\n",
        "print(f'Pooled Outputs Values:{bert_results[\"pooled_output\"][0, :12]}')\n",
        "print(f'Sequence Outputs Shape:{bert_results[\"sequence_output\"].shape}')\n",
        "print(f'Sequence Outputs Values:{bert_results[\"sequence_output\"][0, :12]}')"
      ]
    },
    {
      "cell_type": "markdown",
      "metadata": {
        "id": "sm61jDrezAll"
      },
      "source": [
        "Los modelos BERT devuelven un mapa con 3 claves importantes: `pooled_output`, `sequence_output`, `encoder_outputs`:\n",
        "\n",
        "- `pooled_output` para representar cada secuencia de entrada como un todo. La forma es `[batch_size, H]`.\n",
        "- `sequence_output` representa cada token de entrada en el contexto. La forma es `[batch_size, seq_length, H]`.\n",
        "- `encoder_outputs` son las activaciones intermedias de los bloques Transformador `L`. `outputs[\"encoder_outputs\"][i]` es un tensor de forma `[batch_size, seq_length, 1024]` con las salidas del i-ésimo bloque Transformer, para `0 <= i < L`. El último valor de la lista es igual a `sequence_output`.\n",
        "\n",
        "Para el ajuste fino, se usala matriz `pooled_output`."
      ]
    },
    {
      "cell_type": "markdown",
      "metadata": {
        "id": "pDNKfAXbDnJH"
      },
      "source": [
        "\n",
        "### Definiendo el modelo\n"
      ]
    },
    {
      "cell_type": "markdown",
      "metadata": {
        "id": "TQBtdZy6DKAN"
      },
      "source": [
        "El modelo tendra las siguiente capas:\n",
        "1. Input Layer\n",
        "2. Pre-processing Layer\n",
        "3. Encoder Layer\n",
        "4. From the BERT output map, use pooled_output\n",
        "5. Dropout layer\n",
        "6. Dense layer with sigmoid activation"
      ]
    },
    {
      "cell_type": "code",
      "execution_count": 58,
      "metadata": {
        "colab": {
          "base_uri": "https://localhost:8080/"
        },
        "id": "aksj743St9ga",
        "outputId": "c4d953a2-ff69-4b9a-cfe2-40f0f74b5a2f",
        "tags": []
      },
      "outputs": [
        {
          "name": "stdout",
          "output_type": "stream",
          "text": [
            "tf.Tensor([[0.52844757]], shape=(1, 1), dtype=float32)\n"
          ]
        }
      ],
      "source": [
        "def build_classifier_model(dropout_rate=0.1):\n",
        "    text_input = tf.keras.layers.Input(shape=(), dtype=tf.string, name=\"texto\")\n",
        "    preprocessing_layer = hub.KerasLayer(\n",
        "        tfhub_handle_preprocess, name=\"preprocessing\"\n",
        "    )\n",
        "    encoder_inputs = preprocessing_layer(text_input)\n",
        "    encoder = hub.KerasLayer(\n",
        "        tfhub_handle_encoder, trainable=True, name=\"BERT_encoder\"\n",
        "    )\n",
        "    outputs = encoder(encoder_inputs)\n",
        "    net = outputs[\"pooled_output\"]\n",
        "    net = tf.keras.layers.Dropout(dropout_rate)(net)\n",
        "    net = tf.keras.layers.Dense(1, activation=\"sigmoid\", name=\"classifier\")(net)\n",
        "    return tf.keras.Model(text_input, net)\n",
        "\n",
        "\n",
        "# Let's check that the model runs with the output of the preprocessing model.\n",
        "dropout_rate = 0.15\n",
        "classifier_model = build_classifier_model(dropout_rate)\n",
        "bert_raw_result = classifier_model(tf.constant(text_test))\n",
        "print(bert_raw_result)"
      ]
    },
    {
      "cell_type": "markdown",
      "metadata": {
        "id": "ZTUzNV2JE2G3"
      },
      "source": [
        "El modelo tiene la siguiente estructura:\n"
      ]
    },
    {
      "cell_type": "code",
      "execution_count": 37,
      "metadata": {
        "colab": {
          "base_uri": "https://localhost:8080/",
          "height": 466
        },
        "id": "0EmzyHZXKIpm",
        "outputId": "3148bae6-f270-414f-b421-7c42f07bd88f",
        "tags": []
      },
      "outputs": [
        {
          "data": {
            "image/png": "[encoded data removed]",
            "text/plain": [
              "<IPython.core.display.Image object>"
            ]
          },
          "execution_count": 37,
          "metadata": {},
          "output_type": "execute_result"
        }
      ],
      "source": [
        "tf.keras.utils.plot_model(classifier_model)"
      ]
    },
    {
      "cell_type": "markdown",
      "metadata": {
        "id": "WbUWoZMwc302"
      },
      "source": [
        "## Entrenando el Modelo\n"
      ]
    },
    {
      "cell_type": "markdown",
      "metadata": {
        "id": "WpJ3xcwDT56v"
      },
      "source": [
        "### Loss function\n",
        "\n",
        "Dado que se trata de un problema de clasificación binaria se utilizará la función de pérdida `losses.BinaryCrossentropy`.\n"
      ]
    },
    {
      "cell_type": "code",
      "execution_count": 59,
      "metadata": {
        "id": "OWPOZE-L3AgE",
        "tags": []
      },
      "outputs": [],
      "source": [
        "loss = tf.keras.losses.BinaryCrossentropy()\n",
        "metrics = [tf.metrics.BinaryAccuracy(),tf.keras.metrics.Precision(),tf.keras.metrics.Recall()]"
      ]
    },
    {
      "cell_type": "markdown",
      "metadata": {
        "id": "77psrpfzbxtp"
      },
      "source": [
        "### Optimizer\n",
        "\n",
        "\n",
        "Para realizar ajustes, usaremos el optimizador con el que se entrenó originalmente a BERT: Adam optimizart. Este optimizador minimiza la pérdida de predicción y realiza la regularización mediante disminución de peso.\n"
      ]
    },
    {
      "cell_type": "code",
      "execution_count": 60,
      "metadata": {
        "id": "P9eP2y9dbw32",
        "tags": []
      },
      "outputs": [],
      "source": [
        "epochs = 10\n",
        "steps_per_epoch = tf.data.experimental.cardinality(train_ds).numpy()\n",
        "num_train_steps = steps_per_epoch * epochs\n",
        "num_warmup_steps = int(0.1 * num_train_steps)\n",
        "\n",
        "init_lr = 3e-5\n",
        "optimizer = optimization.create_optimizer(\n",
        "    init_lr=init_lr,\n",
        "    num_train_steps=num_train_steps,\n",
        "    num_warmup_steps=num_warmup_steps,\n",
        "    optimizer_type=\"adamw\",\n",
        ")"
      ]
    },
    {
      "cell_type": "markdown",
      "metadata": {
        "id": "SqlarlpC_v0g"
      },
      "source": [
        "### Cargando el Modelo BERT y entrenandolo"
      ]
    },
    {
      "cell_type": "markdown",
      "metadata": {
        "id": "G7VDKs30DKAt"
      },
      "source": [
        "Compilo el modelo utilizando el optimizador, la pérdida y las métricas que se definieron anteriormente."
      ]
    },
    {
      "cell_type": "code",
      "execution_count": 61,
      "metadata": {
        "id": "-7GPDhR98jsD",
        "tags": []
      },
      "outputs": [],
      "source": [
        "classifier_model.compile(optimizer=optimizer, loss=loss, metrics=metrics)"
      ]
    },
    {
      "cell_type": "code",
      "execution_count": null,
      "metadata": {
        "colab": {
          "base_uri": "https://localhost:8080/"
        },
        "id": "HtfDFAnN_Neu",
        "outputId": "b90ebcad-4f62-47ea-9fcb-b16454160de0"
      },
      "outputs": [
        {
          "name": "stdout",
          "output_type": "stream",
          "text": [
            "Training model with https://tfhub.dev/tensorflow/small_bert/bert_en_uncased_L-4_H-512_A-8/1\n",
            "Epoch 1/10\n",
            "2352/2352 [==============================] - 617s 259ms/step - loss: 0.5420 - binary_accuracy: 0.7049 - precision_1: 0.6975 - recall_1: 0.8554 - val_loss: 0.4264 - val_binary_accuracy: 0.7943 - val_precision_1: 0.7635 - val_recall_1: 0.9263\n",
            "Epoch 2/10\n",
            "2352/2352 [==============================] - ETA: 0s - loss: 0.4083 - binary_accuracy: 0.8003 - precision_1: 0.7740 - recall_1: 0.9197Epoch 3/10\n",
            "2352/2352 [==============================] - 676s 287ms/step - loss: 0.3733 - binary_accuracy: 0.8205 - precision_1: 0.7904 - recall_1: 0.9340 - val_loss: 0.4017 - val_binary_accuracy: 0.8007 - val_precision_1: 0.8041 - val_recall_1: 0.8602\n",
            "Epoch 4/10\n",
            "2352/2352 [==============================] - 614s 261ms/step - loss: 0.3501 - binary_accuracy: 0.8317 - precision_1: 0.8024 - recall_1: 0.9366 - val_loss: 0.3941 - val_binary_accuracy: 0.8162 - val_precision_1: 0.7882 - val_recall_1: 0.9270\n",
            "Epoch 5/10\n",
            "2352/2352 [==============================] - 616s 262ms/step - loss: 0.3289 - binary_accuracy: 0.8427 - precision_1: 0.8141 - recall_1: 0.9397 - val_loss: 0.4094 - val_binary_accuracy: 0.8213 - val_precision_1: 0.7840 - val_recall_1: 0.9479\n",
            "Epoch 6/10\n",
            "2352/2352 [==============================] - 617s 262ms/step - loss: 0.3125 - binary_accuracy: 0.8505 - precision_1: 0.8238 - recall_1: 0.9399 - val_loss: 0.4445 - val_binary_accuracy: 0.7982 - val_precision_1: 0.8016 - val_recall_1: 0.8588\n",
            "Epoch 7/10\n",
            "2352/2352 [==============================] - 615s 262ms/step - loss: 0.2957 - binary_accuracy: 0.8583 - precision_1: 0.8333 - recall_1: 0.9405 - val_loss: 0.4706 - val_binary_accuracy: 0.7995 - val_precision_1: 0.7925 - val_recall_1: 0.8784\n",
            "Epoch 8/10\n",
            "2352/2352 [==============================] - 676s 288ms/step - loss: 0.2804 - binary_accuracy: 0.8639 - precision_1: 0.8425 - recall_1: 0.9375 - val_loss: 0.5123 - val_binary_accuracy: 0.8030 - val_precision_1: 0.7885 - val_recall_1: 0.8948\n",
            "Epoch 9/10\n",
            " 514/2352 [=====>........................] - ETA: 6:53 - loss: 0.2679 - binary_accuracy: 0.8697 - precision_1: 0.8499 - recall_1: 0.9409"
          ]
        }
      ],
      "source": [
        "print(f\"Training model with {tfhub_handle_encoder}\")\n",
        "history = classifier_model.fit(\n",
        "    x=train_ds, validation_data=val_ds, epochs=epochs\n",
        ")"
      ]
    },
    {
      "cell_type": "markdown",
      "metadata": {
        "id": "uBthMlTSV8kn"
      },
      "source": [
        "### Evaluando el Modelo\n",
        "\n",
        "\n",
        "Veamos cómo funciona el modelo. Se devolverán dos valores. Loss (un número que representa el error, los valores más bajos son mejores) y Accuracy."
      ]
    },
    {
      "cell_type": "code",
      "execution_count": 42,
      "metadata": {
        "colab": {
          "base_uri": "https://localhost:8080/"
        },
        "id": "slqB-urBV9sP",
        "outputId": "8aceb1c1-b2a7-44f4-f498-0c7d563e3de4"
      },
      "outputs": [
        {
          "name": "stdout",
          "output_type": "stream",
          "text": [
            "784/784 [==============================] - 85s 108ms/step - loss: 0.4104 - binary_accuracy: 0.8108 - precision: 0.7880 - recall: 0.9171\n",
            "metrics: [0.4103511869907379, 0.8108453154563904, 0.7879999876022339, 0.9171067476272583]\n"
          ]
        }
      ],
      "source": [
        "metrics = classifier_model.evaluate(test_ds)\n",
        "\n",
        "print(f\"metrics: {metrics}\")\n"
      ]
    },
    {
      "cell_type": "markdown",
      "metadata": {
        "id": "uttWpgmSfzq9"
      },
      "source": [
        "### Graficamos Loss y Accuracy a lo largo del tiempo\n",
        "\n",
        "\n",
        "Basado en el objeto `History` devuelto por `model.fit()`. Se puede graficar la pérdida de entrenamiento y validación para comparar, así como la precisión del entrenamiento y la validación:"
      ]
    },
    {
      "cell_type": "code",
      "execution_count": 43,
      "metadata": {
        "colab": {
          "base_uri": "https://localhost:8080/",
          "height": 601
        },
        "id": "fiythcODf0xo",
        "outputId": "5416c8bd-fba0-4448-8c1a-3daa30fd21df"
      },
      "outputs": [
        {
          "name": "stdout",
          "output_type": "stream",
          "text": [
            "dict_keys(['loss', 'binary_accuracy', 'precision', 'recall', 'val_loss', 'val_binary_accuracy', 'val_precision', 'val_recall'])\n"
          ]
        },
        {
          "data": {
            "text/plain": [
              "<matplotlib.legend.Legend at 0x7a26a327fac0>"
            ]
          },
          "execution_count": 43,
          "metadata": {},
          "output_type": "execute_result"
        },
        {
          "data": {
            "image/png": "[encoded data removed]",
            "text/plain": [
              "<Figure size 1000x600 with 2 Axes>"
            ]
          },
          "metadata": {},
          "output_type": "display_data"
        }
      ],
      "source": [
        "history_dict = history.history\n",
        "print(history_dict.keys())\n",
        "\n",
        "acc = history_dict[\"binary_accuracy\"]\n",
        "val_acc = history_dict[\"val_binary_accuracy\"]\n",
        "loss = history_dict[\"loss\"]\n",
        "val_loss = history_dict[\"val_loss\"]\n",
        "\n",
        "epochs = range(1, len(acc) + 1)\n",
        "fig = plt.figure(figsize=(10, 6))\n",
        "fig.tight_layout()\n",
        "\n",
        "plt.subplot(2, 1, 1)\n",
        "# \"bo\" is for \"blue dot\"\n",
        "plt.plot(epochs, loss, \"r\", label=\"Training loss\")\n",
        "# b is for \"solid blue line\"\n",
        "plt.plot(epochs, val_loss, \"b\", label=\"Validation loss\")\n",
        "plt.title(\"Training and validation loss\")\n",
        "# plt.xlabel('Epochs')\n",
        "plt.ylabel(\"Loss\")\n",
        "plt.legend()\n",
        "\n",
        "plt.subplot(2, 1, 2)\n",
        "plt.plot(epochs, acc, \"r\", label=\"Training acc\")\n",
        "plt.plot(epochs, val_acc, \"b\", label=\"Validation acc\")\n",
        "plt.title(\"Training and validation accuracy\")\n",
        "plt.xlabel(\"Epochs\")\n",
        "plt.ylabel(\"Accuracy\")\n",
        "plt.legend(loc=\"lower right\")"
      ]
    },
    {
      "cell_type": "markdown",
      "metadata": {
        "id": "WzJZCo-cf-Jf"
      },
      "source": [
        "En este gráfico, las líneas rojas representan la pérdida y precisión del entrenamiento, y las líneas azules son la pérdida y precisión de la validación."
      ]
    },
    {
      "cell_type": "markdown",
      "metadata": {
        "id": "Rtn7jewb6dg4"
      },
      "source": [
        "### Exportar modelo\n",
        "\n",
        "Se guarda el modelo ajustado para su uso posterior."
      ]
    },
    {
      "cell_type": "code",
      "execution_count": 44,
      "metadata": {
        "id": "ShcvqJAgVera"
      },
      "outputs": [],
      "source": [
        "dataset_name = \"veracity\"\n",
        "saved_model_path = \"./{}_bert\".format(dataset_name.replace(\"/\", \"_\"))\n",
        "TIMESTAMP = datetime.datetime.now().strftime(\"%Y%m%d%H%M%S\")\n",
        "\n",
        "EXPORT_PATH = os.path.join(saved_model_path, TIMESTAMP)\n",
        "\n",
        "classifier_model.save(EXPORT_PATH, include_optimizer=False)"
      ]
    },
    {
      "cell_type": "markdown",
      "metadata": {
        "id": "PbI25bS1vD7s"
      },
      "source": [
        "Recarguemos el modelo para que puedas probarlo junto con el modelo que aún está en la memoria."
      ]
    },
    {
      "cell_type": "code",
      "execution_count": 45,
      "metadata": {
        "id": "gUEWVskZjEF0"
      },
      "outputs": [],
      "source": [
        "reloaded_model = tf.saved_model.load(EXPORT_PATH)"
      ]
    },
    {
      "cell_type": "markdown",
      "metadata": {
        "id": "oyTappHTvNCz"
      },
      "source": [
        "Aquí se puede probar el modelo en cualquier noticia que desee, simplemente agréguela a la variable de ejemplos a continuación."
      ]
    },
    {
      "cell_type": "code",
      "execution_count": 50,
      "metadata": {
        "colab": {
          "base_uri": "https://localhost:8080/"
        },
        "id": "VBWzH6exlCPS",
        "outputId": "ed707cd4-6735-4291-e2b4-7be714497e5c"
      },
      "outputs": [
        {
          "name": "stdout",
          "output_type": "stream",
          "text": [
            "Results del modelo en memoria:\n",
            "input: la tierra es plana!            : score: 0.113618\n",
            "input: El presidente habla con su perro desde el mas alla : score: 0.452675\n",
            "input: Renuncio el ministro de economia : score: 0.123456\n",
            "input: Las vacunas son malas para la salud, tienen microchips que te controlan : score: 0.511568\n",
            "input: Milei es presidente            : score: 0.404784\n",
            "\n"
          ]
        }
      ],
      "source": [
        "def print_my_examples(inputs, results):\n",
        "    result_for_printing = [\n",
        "        f\"input: {inputs[i]:<30} : score: {results[i][0]:.6f}\"\n",
        "        for i in range(len(inputs))\n",
        "    ]\n",
        "    print(*result_for_printing, sep=\"\\n\")\n",
        "    print()\n",
        "\n",
        "\n",
        "examples = [\n",
        "    \"la tierra es plana!\",\n",
        "    \"El presidente habla con su perro desde el mas alla\",\n",
        "    \"Renuncio el ministro de economia\",\n",
        "    \"Las vacunas son malas para la salud, tienen microchips que te controlan\",\n",
        "    \"Milei es presidente\",\n",
        "]\n",
        "\n",
        "original_results = classifier_model(tf.constant(examples))\n",
        "print(\"Results del modelo en memoria:\")\n",
        "print_my_examples(examples, original_results)"
      ]
    },
    {
      "cell_type": "markdown",
      "metadata": {
        "id": "7ah5sImLDKBC"
      },
      "source": [
        "## Aprendizaje continuo\n",
        "\n",
        "En este notebook se selecciono Small BERT para entrenar nuestro clasificador de texto. Hay otros modelos BERT previamente entrenados que pueden encontrarse a continuación. Se considera experimentar con algunos de estos, considerado que cuanto más grande sea el modelo a ajustar, más tiempo llevará entrenarlo.\n",
        "\n",
        "Los modelos son:\n",
        "  - [BERT-Base](https://tfhub.dev/tensorflow/bert_en_uncased_L-12_H-768_A-12/3), [Uncased](https://tfhub.dev/tensorflow/bert_en_uncased_L-12_H-768_A-12/3) and [seven more models](https://tfhub.dev/google/collections/bert/1) with trained weights released by the original BERT authors.\n",
        "  - [Small BERTs](https://tfhub.dev/google/collections/bert/1) have the same general architecture but fewer and/or smaller Transformer blocks, which lets you explore tradeoffs between speed, size and quality.\n",
        "  - [ALBERT](https://tfhub.dev/google/collections/albert/1): four different sizes of \"A Lite BERT\" that reduces model size (but not computation time) by sharing parameters between layers.\n",
        "  - [BERT Experts](https://tfhub.dev/google/collections/experts/bert/1): eight models that all have the BERT-base architecture but offer a choice between different pre-training domains, to align more closely with the target task.\n",
        "  - [Electra](https://tfhub.dev/google/collections/electra/1) has the same architecture as BERT (in three different sizes), but gets pre-trained as a discriminator in a set-up that resembles a Generative Adversarial Network (GAN).\n",
        "  - BERT with Talking-Heads Attention and Gated GELU [[base](https://tfhub.dev/tensorflow/talkheads_ggelu_bert_en_base/1), [large](https://tfhub.dev/tensorflow/talkheads_ggelu_bert_en_large/1)] has two improvements to the core of the Transformer architecture.\n",
        "\n",
        "Para mas detalles investigar la documentación del modelo en TensorFlow Hub.\n",
        "\n",
        "Aparte de los modelos disponibles anteriormente, hay [varias versiones](https://tfhub.dev/google/collections/transformer_encoders_text/1) de los modelos que son más grandes y pueden ofrecer una precisión aún mayor, pero son demasiado grandes para ajustar en una sola GPU."
      ]
    },
    {
      "cell_type": "markdown",
      "metadata": {
        "id": "QaTsUTIMDKBC"
      },
      "source": [
        "#### **Licencia**\n",
        "\n",
        "Este notebook esta basado en la documentación oficial de Google para la clasificacion de textos utilizando BERT.\n",
        "\n",
        "Copyright 2022 Google Inc. Licensed under the Apache License, Version 2.0 (the \"License\"); you may not use this file except in compliance with the License. You may obtain a copy of the License at http://www.apache.org/licenses/LICENSE-2.0 Unless required by applicable law or agreed to in writing, software distributed under the License is distributed on an \"AS IS\" BASIS, WITHOUT WARRANTIES OR CONDITIONS OF ANY KIND, either express or implied. See the License for the specific language governing permissions and limitations under the License"
      ]
    }
  ],
  "metadata": {
    "accelerator": "GPU",
    "colab": {
      "provenance": []
    },
    "environment": {
      "kernel": "python3",
      "name": "tf2-gpu.2-12.m109",
      "type": "gcloud",
      "uri": "gcr.io/deeplearning-platform-release/tf2-gpu.2-12:m109"
    },
    "kernelspec": {
      "display_name": "Python 3.8.10 64-bit",
      "language": "python",
      "name": "python3"
    },
    "language_info": {
      "codemirror_mode": {
        "name": "ipython",
        "version": 3
      },
      "file_extension": ".py",
      "mimetype": "text/x-python",
      "name": "python",
      "nbconvert_exporter": "python",
      "pygments_lexer": "ipython3",
      "version": "3.8.10"
    },
    "vscode": {
      "interpreter": {
        "hash": "916dbcbb3f70747c44a77c7bcd40155683ae19c65e1c03b4aa3499c5328201f1"
      }
    }
  },
  "nbformat": 4,
  "nbformat_minor": 0
}
