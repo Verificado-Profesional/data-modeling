{
 "cells": [
  {
   "cell_type": "markdown",
   "metadata": {},
   "source": [
    "## Evaluation"
   ]
  },
  {
   "cell_type": "markdown",
   "metadata": {},
   "source": [
    "El objetivo de este notebook es utilizar diversas métricas para evaluar los modelos entrenados. Las metricas a usar seran: \n",
    "- Accuracy\n",
    "- Loss\n",
    "- Precision\n",
    "- Recall\n",
    "- F1 Score"
   ]
  },
  {
   "cell_type": "markdown",
   "metadata": {},
   "source": [
    " #pip install tensorflow-addons\n",
    "       import tensorflow as tf\n",
    "       import tensorflow_addons as tfa\n",
    "\n",
    "       ....\n",
    "\n",
    "       model.compile(optimizer=tf.keras.optimizers.Adam(learning_rate=0.00001),\n",
    "                     loss=tf.keras.losses.SparseCategoricalCrossentropy(from_logits=True),\n",
    "                     metrics=[tf.keras.metrics.Accuracy(),\n",
    "                              tf.keras.metrics.Precision(),\n",
    "                              tf.keras.metrics.Recall(),\n",
    "                              tfa.metrics.F1Score(num_classes=nb_classes,\n",
    "                                                  average='macro',\n",
    "                                                  threshold=0.5))"
   ]
  },
  {
   "cell_type": "code",
   "execution_count": null,
   "metadata": {},
   "outputs": [],
   "source": [
    "loss, accuracy = classifier_model.evaluate(test_ds)\n",
    "print(f\"Loss: {loss}\")\n",
    "print(f\"Accuracy: {accuracy}\")"
   ]
  }
 ],
 "metadata": {
  "kernelspec": {
   "display_name": "Python 3.12.0 64-bit ('3.12.0')",
   "language": "python",
   "name": "python3"
  },
  "language_info": {
   "name": "python",
   "version": "3.12.0"
  },
  "orig_nbformat": 4,
  "vscode": {
   "interpreter": {
    "hash": "825df0fcbad1e6ed7e11c1d53fafc04f4a658ad54114578619c88a90b04ca641"
   }
  }
 },
 "nbformat": 4,
 "nbformat_minor": 2
}
