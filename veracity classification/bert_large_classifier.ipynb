{
  "cells": [
    {
      "cell_type": "markdown",
      "metadata": {
        "id": "IZ6SNYq_tVVC"
      },
      "source": [
        "# Clasificación de Texto con BERT\n",
        "\n",
        "### Recomendaciones\n",
        "Asegurarse de tener GPU asociada a la instancia del Notebook para que el entrenamiento no demore mucho tiempo.\n"
      ]
    },
    {
      "cell_type": "markdown",
      "metadata": {
        "id": "2PHBpLPuQdmK"
      },
      "source": [
        "## Sobre BERT (Bidirectional Encoder Representations from Transformers)\n",
        "[BERT](https://arxiv.org/abs/1810.04805)  y otras arquiteccturas basadasen Transformers han demostrado ser exitosos en diversidad de tareas de NLP\n",
        "(natural language processing). Calculan representaciones del espacio vectorial del lenguaje natural que son adecuadas para su uso en modelos de deep learning. La familia de modelos BERT utiliza la Transformer encoder architecture para procesar cada token de texto de entrada en el contexto completo de todos los tokens antes y después.\n",
        "\n",
        "Los modelos BERT generalmente se entrenan previamente en un gran corpus de texto y luego se ajustan para tareas específicas(fine-tuning).\n"
      ]
    },
    {
      "cell_type": "markdown",
      "source": [
        "#### Instalaciones Colab"
      ],
      "metadata": {
        "id": "QpQxYc_F_yX4"
      }
    },
    {
      "cell_type": "code",
      "source": [
        "pip install tensorflow-text"
      ],
      "metadata": {
        "id": "X7oHHo7I_uJA"
      },
      "execution_count": null,
      "outputs": []
    },
    {
      "cell_type": "code",
      "source": [
        "pip install tf-models-official"
      ],
      "metadata": {
        "id": "FlSAxncdAAXu"
      },
      "execution_count": null,
      "outputs": []
    },
    {
      "cell_type": "markdown",
      "source": [
        "#### Realizo imports\n",
        "\n"
      ],
      "metadata": {
        "id": "4G9F7I0bALaB"
      }
    },
    {
      "cell_type": "code",
      "execution_count": 3,
      "metadata": {
        "id": "QeYKBOaPDJ_u"
      },
      "outputs": [],
      "source": [
        "import os\n",
        "import warnings\n",
        "\n",
        "warnings.filterwarnings(\"ignore\")\n",
        "os.environ[\"TF_CPP_MIN_LOG_LEVEL\"] = \"2\""
      ]
    },
    {
      "cell_type": "code",
      "execution_count": 4,
      "metadata": {
        "id": "_XgTpm9ZxoN9",
        "tags": []
      },
      "outputs": [],
      "source": [
        "import datetime\n",
        "import shutil\n",
        "\n",
        "import matplotlib.pyplot as plt\n",
        "import tensorflow as tf\n",
        "import tensorflow_hub as hub\n",
        "import tensorflow_text as text\n",
        "import pandas as pd\n",
        "from sklearn.model_selection import train_test_split\n",
        "from google.cloud import aiplatform\n",
        "from official.nlp import optimization  # to create AdamW optmizer\n",
        "import random\n",
        "from sklearn.utils import resample\n",
        "\n",
        "#tf.get_logger().setLevel(\"ERROR\")"
      ]
    },
    {
      "cell_type": "markdown",
      "metadata": {
        "id": "laE9SdFuDJ_0"
      },
      "source": [
        "To check if you have a GPU attached. Run the following."
      ]
    },
    {
      "cell_type": "code",
      "execution_count": 5,
      "metadata": {
        "colab": {
          "base_uri": "https://localhost:8080/"
        },
        "id": "R8znDqN_DJ_1",
        "outputId": "3a489e0b-b4da-49d5-a62c-8c3938de5af0"
      },
      "outputs": [
        {
          "output_type": "stream",
          "name": "stdout",
          "text": [
            "Num GPUs Available:  1\n"
          ]
        }
      ],
      "source": [
        "print(\"Num GPUs Available: \", len(tf.config.list_physical_devices(\"GPU\")))"
      ]
    },
    {
      "cell_type": "markdown",
      "metadata": {
        "id": "q6MugfEgDRpY"
      },
      "source": [
        "### Veracity Classification\n",
        "En este notebook se entrenara un modelo para clasificar noticias en español como *falsas* o *verdaderas*, basadas en su contenido.\n",
        "\n",
        "Utilizaremos un dataset que contiene 60,000 noticias recopiladas en internet.\n"
      ]
    },
    {
      "cell_type": "markdown",
      "metadata": {
        "id": "Vnvd4mrtPHHV"
      },
      "source": [
        "### Cargando el Dataset\n",
        "\n"
      ]
    },
    {
      "cell_type": "code",
      "source": [
        "df = pd.read_csv('data.csv')\n",
        "df.head(10)"
      ],
      "metadata": {
        "colab": {
          "base_uri": "https://localhost:8080/",
          "height": 363
        },
        "id": "Pu3xNUa3K14J",
        "outputId": "577a2237-9413-4fba-8cb3-cffd3b84983d"
      },
      "execution_count": 6,
      "outputs": [
        {
          "output_type": "execute_result",
          "data": {
            "text/plain": [
              "   Categoria                                             Titulo  \\\n",
              "0          1  Moreno intenta apaciguar el flanco sanitario m...   \n",
              "1          1  La Abogacía del Estado se retira como acusació...   \n",
              "2          0  Las promesas incumplidas de Pablo Echenique en...   \n",
              "3          1  Sánchez defiende 'resolver el problema' de la ...   \n",
              "4          1  Ian Gibson cierra la lista electoral de la con...   \n",
              "5          1  ERC y Junts se atascan en la negociación para ...   \n",
              "6          1  El PP se rinde al discurso antiabortista de Vo...   \n",
              "7          1  El PSOE denuncia que el hombre de Mañueco en S...   \n",
              "8          1  Escrivá niega que su reforma de Extranjería ge...   \n",
              "9          1  IU propone una descentralización para empodera...   \n",
              "\n",
              "                                               Texto       Fecha Origen  id  \\\n",
              "0  El presidente abre la puerta a unos comicios e...  19/04/2022   Vigo NaN   \n",
              "1  En un escrito, la abogada del Estado Rosa Marí...  17/09/2021   Vigo NaN   \n",
              "2  Este lunes y martes la Asamblea de Madrid acog...  12/09/2022   Vigo NaN   \n",
              "3  Resulta evidente que la ley ha tenido algunos ...  07/02/2023   Vigo NaN   \n",
              "4  El hispanista, que ya ocupó un puesto simbólic...  12/04/2023   Vigo NaN   \n",
              "5  Empieza una intensa semana para el Ejecutivo c...  19/09/2022   Vigo NaN   \n",
              "6  Núñez Feijóo guarda silencio pero Ayuso y Alme...  13/01/2023   Vigo NaN   \n",
              "7  Los socialistas han remarcado que estos trabaj...  31/03/2023   Vigo NaN   \n",
              "8  El ministro de Inclusión, Seguridad Social y M...  08/08/2022   Vigo NaN   \n",
              "9  Izquierda Unida debate y aprueba este sábado s...  26/11/2022   Vigo NaN   \n",
              "\n",
              "  Topico Fuente  URL  \n",
              "0    NaN    NaN  NaN  \n",
              "1    NaN    NaN  NaN  \n",
              "2    NaN    NaN  NaN  \n",
              "3    NaN    NaN  NaN  \n",
              "4    NaN    NaN  NaN  \n",
              "5    NaN    NaN  NaN  \n",
              "6    NaN    NaN  NaN  \n",
              "7    NaN    NaN  NaN  \n",
              "8    NaN    NaN  NaN  \n",
              "9    NaN    NaN  NaN  "
            ],
            "text/html": [
              "\n",
              "  <div id=\"df-b4df2052-01fc-4a60-884d-9581df750986\" class=\"colab-df-container\">\n",
              "    <div>\n",
              "<style scoped>\n",
              "    .dataframe tbody tr th:only-of-type {\n",
              "        vertical-align: middle;\n",
              "    }\n",
              "\n",
              "    .dataframe tbody tr th {\n",
              "        vertical-align: top;\n",
              "    }\n",
              "\n",
              "    .dataframe thead th {\n",
              "        text-align: right;\n",
              "    }\n",
              "</style>\n",
              "<table border=\"1\" class=\"dataframe\">\n",
              "  <thead>\n",
              "    <tr style=\"text-align: right;\">\n",
              "      <th></th>\n",
              "      <th>Categoria</th>\n",
              "      <th>Titulo</th>\n",
              "      <th>Texto</th>\n",
              "      <th>Fecha</th>\n",
              "      <th>Origen</th>\n",
              "      <th>id</th>\n",
              "      <th>Topico</th>\n",
              "      <th>Fuente</th>\n",
              "      <th>URL</th>\n",
              "    </tr>\n",
              "  </thead>\n",
              "  <tbody>\n",
              "    <tr>\n",
              "      <th>0</th>\n",
              "      <td>1</td>\n",
              "      <td>Moreno intenta apaciguar el flanco sanitario m...</td>\n",
              "      <td>El presidente abre la puerta a unos comicios e...</td>\n",
              "      <td>19/04/2022</td>\n",
              "      <td>Vigo</td>\n",
              "      <td>NaN</td>\n",
              "      <td>NaN</td>\n",
              "      <td>NaN</td>\n",
              "      <td>NaN</td>\n",
              "    </tr>\n",
              "    <tr>\n",
              "      <th>1</th>\n",
              "      <td>1</td>\n",
              "      <td>La Abogacía del Estado se retira como acusació...</td>\n",
              "      <td>En un escrito, la abogada del Estado Rosa Marí...</td>\n",
              "      <td>17/09/2021</td>\n",
              "      <td>Vigo</td>\n",
              "      <td>NaN</td>\n",
              "      <td>NaN</td>\n",
              "      <td>NaN</td>\n",
              "      <td>NaN</td>\n",
              "    </tr>\n",
              "    <tr>\n",
              "      <th>2</th>\n",
              "      <td>0</td>\n",
              "      <td>Las promesas incumplidas de Pablo Echenique en...</td>\n",
              "      <td>Este lunes y martes la Asamblea de Madrid acog...</td>\n",
              "      <td>12/09/2022</td>\n",
              "      <td>Vigo</td>\n",
              "      <td>NaN</td>\n",
              "      <td>NaN</td>\n",
              "      <td>NaN</td>\n",
              "      <td>NaN</td>\n",
              "    </tr>\n",
              "    <tr>\n",
              "      <th>3</th>\n",
              "      <td>1</td>\n",
              "      <td>Sánchez defiende 'resolver el problema' de la ...</td>\n",
              "      <td>Resulta evidente que la ley ha tenido algunos ...</td>\n",
              "      <td>07/02/2023</td>\n",
              "      <td>Vigo</td>\n",
              "      <td>NaN</td>\n",
              "      <td>NaN</td>\n",
              "      <td>NaN</td>\n",
              "      <td>NaN</td>\n",
              "    </tr>\n",
              "    <tr>\n",
              "      <th>4</th>\n",
              "      <td>1</td>\n",
              "      <td>Ian Gibson cierra la lista electoral de la con...</td>\n",
              "      <td>El hispanista, que ya ocupó un puesto simbólic...</td>\n",
              "      <td>12/04/2023</td>\n",
              "      <td>Vigo</td>\n",
              "      <td>NaN</td>\n",
              "      <td>NaN</td>\n",
              "      <td>NaN</td>\n",
              "      <td>NaN</td>\n",
              "    </tr>\n",
              "    <tr>\n",
              "      <th>5</th>\n",
              "      <td>1</td>\n",
              "      <td>ERC y Junts se atascan en la negociación para ...</td>\n",
              "      <td>Empieza una intensa semana para el Ejecutivo c...</td>\n",
              "      <td>19/09/2022</td>\n",
              "      <td>Vigo</td>\n",
              "      <td>NaN</td>\n",
              "      <td>NaN</td>\n",
              "      <td>NaN</td>\n",
              "      <td>NaN</td>\n",
              "    </tr>\n",
              "    <tr>\n",
              "      <th>6</th>\n",
              "      <td>1</td>\n",
              "      <td>El PP se rinde al discurso antiabortista de Vo...</td>\n",
              "      <td>Núñez Feijóo guarda silencio pero Ayuso y Alme...</td>\n",
              "      <td>13/01/2023</td>\n",
              "      <td>Vigo</td>\n",
              "      <td>NaN</td>\n",
              "      <td>NaN</td>\n",
              "      <td>NaN</td>\n",
              "      <td>NaN</td>\n",
              "    </tr>\n",
              "    <tr>\n",
              "      <th>7</th>\n",
              "      <td>1</td>\n",
              "      <td>El PSOE denuncia que el hombre de Mañueco en S...</td>\n",
              "      <td>Los socialistas han remarcado que estos trabaj...</td>\n",
              "      <td>31/03/2023</td>\n",
              "      <td>Vigo</td>\n",
              "      <td>NaN</td>\n",
              "      <td>NaN</td>\n",
              "      <td>NaN</td>\n",
              "      <td>NaN</td>\n",
              "    </tr>\n",
              "    <tr>\n",
              "      <th>8</th>\n",
              "      <td>1</td>\n",
              "      <td>Escrivá niega que su reforma de Extranjería ge...</td>\n",
              "      <td>El ministro de Inclusión, Seguridad Social y M...</td>\n",
              "      <td>08/08/2022</td>\n",
              "      <td>Vigo</td>\n",
              "      <td>NaN</td>\n",
              "      <td>NaN</td>\n",
              "      <td>NaN</td>\n",
              "      <td>NaN</td>\n",
              "    </tr>\n",
              "    <tr>\n",
              "      <th>9</th>\n",
              "      <td>1</td>\n",
              "      <td>IU propone una descentralización para empodera...</td>\n",
              "      <td>Izquierda Unida debate y aprueba este sábado s...</td>\n",
              "      <td>26/11/2022</td>\n",
              "      <td>Vigo</td>\n",
              "      <td>NaN</td>\n",
              "      <td>NaN</td>\n",
              "      <td>NaN</td>\n",
              "      <td>NaN</td>\n",
              "    </tr>\n",
              "  </tbody>\n",
              "</table>\n",
              "</div>\n",
              "    <div class=\"colab-df-buttons\">\n",
              "\n",
              "  <div class=\"colab-df-container\">\n",
              "    <button class=\"colab-df-convert\" onclick=\"convertToInteractive('df-b4df2052-01fc-4a60-884d-9581df750986')\"\n",
              "            title=\"Convert this dataframe to an interactive table.\"\n",
              "            style=\"display:none;\">\n",
              "\n",
              "  <svg xmlns=\"http://www.w3.org/2000/svg\" height=\"24px\" viewBox=\"0 -960 960 960\">\n",
              "    <path d=\"M120-120v-720h720v720H120Zm60-500h600v-160H180v160Zm220 220h160v-160H400v160Zm0 220h160v-160H400v160ZM180-400h160v-160H180v160Zm440 0h160v-160H620v160ZM180-180h160v-160H180v160Zm440 0h160v-160H620v160Z\"/>\n",
              "  </svg>\n",
              "    </button>\n",
              "\n",
              "  <style>\n",
              "    .colab-df-container {\n",
              "      display:flex;\n",
              "      gap: 12px;\n",
              "    }\n",
              "\n",
              "    .colab-df-convert {\n",
              "      background-color: #E8F0FE;\n",
              "      border: none;\n",
              "      border-radius: 50%;\n",
              "      cursor: pointer;\n",
              "      display: none;\n",
              "      fill: #1967D2;\n",
              "      height: 32px;\n",
              "      padding: 0 0 0 0;\n",
              "      width: 32px;\n",
              "    }\n",
              "\n",
              "    .colab-df-convert:hover {\n",
              "      background-color: #E2EBFA;\n",
              "      box-shadow: 0px 1px 2px rgba(60, 64, 67, 0.3), 0px 1px 3px 1px rgba(60, 64, 67, 0.15);\n",
              "      fill: #174EA6;\n",
              "    }\n",
              "\n",
              "    .colab-df-buttons div {\n",
              "      margin-bottom: 4px;\n",
              "    }\n",
              "\n",
              "    [theme=dark] .colab-df-convert {\n",
              "      background-color: #3B4455;\n",
              "      fill: #D2E3FC;\n",
              "    }\n",
              "\n",
              "    [theme=dark] .colab-df-convert:hover {\n",
              "      background-color: #434B5C;\n",
              "      box-shadow: 0px 1px 3px 1px rgba(0, 0, 0, 0.15);\n",
              "      filter: drop-shadow(0px 1px 2px rgba(0, 0, 0, 0.3));\n",
              "      fill: #FFFFFF;\n",
              "    }\n",
              "  </style>\n",
              "\n",
              "    <script>\n",
              "      const buttonEl =\n",
              "        document.querySelector('#df-b4df2052-01fc-4a60-884d-9581df750986 button.colab-df-convert');\n",
              "      buttonEl.style.display =\n",
              "        google.colab.kernel.accessAllowed ? 'block' : 'none';\n",
              "\n",
              "      async function convertToInteractive(key) {\n",
              "        const element = document.querySelector('#df-b4df2052-01fc-4a60-884d-9581df750986');\n",
              "        const dataTable =\n",
              "          await google.colab.kernel.invokeFunction('convertToInteractive',\n",
              "                                                    [key], {});\n",
              "        if (!dataTable) return;\n",
              "\n",
              "        const docLinkHtml = 'Like what you see? Visit the ' +\n",
              "          '<a target=\"_blank\" href=https://colab.research.google.com/notebooks/data_table.ipynb>data table notebook</a>'\n",
              "          + ' to learn more about interactive tables.';\n",
              "        element.innerHTML = '';\n",
              "        dataTable['output_type'] = 'display_data';\n",
              "        await google.colab.output.renderOutput(dataTable, element);\n",
              "        const docLink = document.createElement('div');\n",
              "        docLink.innerHTML = docLinkHtml;\n",
              "        element.appendChild(docLink);\n",
              "      }\n",
              "    </script>\n",
              "  </div>\n",
              "\n",
              "\n",
              "<div id=\"df-280aff20-b774-4416-b0d4-fb3052276519\">\n",
              "  <button class=\"colab-df-quickchart\" onclick=\"quickchart('df-280aff20-b774-4416-b0d4-fb3052276519')\"\n",
              "            title=\"Suggest charts\"\n",
              "            style=\"display:none;\">\n",
              "\n",
              "<svg xmlns=\"http://www.w3.org/2000/svg\" height=\"24px\"viewBox=\"0 0 24 24\"\n",
              "     width=\"24px\">\n",
              "    <g>\n",
              "        <path d=\"M19 3H5c-1.1 0-2 .9-2 2v14c0 1.1.9 2 2 2h14c1.1 0 2-.9 2-2V5c0-1.1-.9-2-2-2zM9 17H7v-7h2v7zm4 0h-2V7h2v10zm4 0h-2v-4h2v4z\"/>\n",
              "    </g>\n",
              "</svg>\n",
              "  </button>\n",
              "\n",
              "<style>\n",
              "  .colab-df-quickchart {\n",
              "      --bg-color: #E8F0FE;\n",
              "      --fill-color: #1967D2;\n",
              "      --hover-bg-color: #E2EBFA;\n",
              "      --hover-fill-color: #174EA6;\n",
              "      --disabled-fill-color: #AAA;\n",
              "      --disabled-bg-color: #DDD;\n",
              "  }\n",
              "\n",
              "  [theme=dark] .colab-df-quickchart {\n",
              "      --bg-color: #3B4455;\n",
              "      --fill-color: #D2E3FC;\n",
              "      --hover-bg-color: #434B5C;\n",
              "      --hover-fill-color: #FFFFFF;\n",
              "      --disabled-bg-color: #3B4455;\n",
              "      --disabled-fill-color: #666;\n",
              "  }\n",
              "\n",
              "  .colab-df-quickchart {\n",
              "    background-color: var(--bg-color);\n",
              "    border: none;\n",
              "    border-radius: 50%;\n",
              "    cursor: pointer;\n",
              "    display: none;\n",
              "    fill: var(--fill-color);\n",
              "    height: 32px;\n",
              "    padding: 0;\n",
              "    width: 32px;\n",
              "  }\n",
              "\n",
              "  .colab-df-quickchart:hover {\n",
              "    background-color: var(--hover-bg-color);\n",
              "    box-shadow: 0 1px 2px rgba(60, 64, 67, 0.3), 0 1px 3px 1px rgba(60, 64, 67, 0.15);\n",
              "    fill: var(--button-hover-fill-color);\n",
              "  }\n",
              "\n",
              "  .colab-df-quickchart-complete:disabled,\n",
              "  .colab-df-quickchart-complete:disabled:hover {\n",
              "    background-color: var(--disabled-bg-color);\n",
              "    fill: var(--disabled-fill-color);\n",
              "    box-shadow: none;\n",
              "  }\n",
              "\n",
              "  .colab-df-spinner {\n",
              "    border: 2px solid var(--fill-color);\n",
              "    border-color: transparent;\n",
              "    border-bottom-color: var(--fill-color);\n",
              "    animation:\n",
              "      spin 1s steps(1) infinite;\n",
              "  }\n",
              "\n",
              "  @keyframes spin {\n",
              "    0% {\n",
              "      border-color: transparent;\n",
              "      border-bottom-color: var(--fill-color);\n",
              "      border-left-color: var(--fill-color);\n",
              "    }\n",
              "    20% {\n",
              "      border-color: transparent;\n",
              "      border-left-color: var(--fill-color);\n",
              "      border-top-color: var(--fill-color);\n",
              "    }\n",
              "    30% {\n",
              "      border-color: transparent;\n",
              "      border-left-color: var(--fill-color);\n",
              "      border-top-color: var(--fill-color);\n",
              "      border-right-color: var(--fill-color);\n",
              "    }\n",
              "    40% {\n",
              "      border-color: transparent;\n",
              "      border-right-color: var(--fill-color);\n",
              "      border-top-color: var(--fill-color);\n",
              "    }\n",
              "    60% {\n",
              "      border-color: transparent;\n",
              "      border-right-color: var(--fill-color);\n",
              "    }\n",
              "    80% {\n",
              "      border-color: transparent;\n",
              "      border-right-color: var(--fill-color);\n",
              "      border-bottom-color: var(--fill-color);\n",
              "    }\n",
              "    90% {\n",
              "      border-color: transparent;\n",
              "      border-bottom-color: var(--fill-color);\n",
              "    }\n",
              "  }\n",
              "</style>\n",
              "\n",
              "  <script>\n",
              "    async function quickchart(key) {\n",
              "      const quickchartButtonEl =\n",
              "        document.querySelector('#' + key + ' button');\n",
              "      quickchartButtonEl.disabled = true;  // To prevent multiple clicks.\n",
              "      quickchartButtonEl.classList.add('colab-df-spinner');\n",
              "      try {\n",
              "        const charts = await google.colab.kernel.invokeFunction(\n",
              "            'suggestCharts', [key], {});\n",
              "      } catch (error) {\n",
              "        console.error('Error during call to suggestCharts:', error);\n",
              "      }\n",
              "      quickchartButtonEl.classList.remove('colab-df-spinner');\n",
              "      quickchartButtonEl.classList.add('colab-df-quickchart-complete');\n",
              "    }\n",
              "    (() => {\n",
              "      let quickchartButtonEl =\n",
              "        document.querySelector('#df-280aff20-b774-4416-b0d4-fb3052276519 button');\n",
              "      quickchartButtonEl.style.display =\n",
              "        google.colab.kernel.accessAllowed ? 'block' : 'none';\n",
              "    })();\n",
              "  </script>\n",
              "</div>\n",
              "\n",
              "    </div>\n",
              "  </div>\n"
            ]
          },
          "metadata": {},
          "execution_count": 6
        }
      ]
    },
    {
      "cell_type": "markdown",
      "source": [
        "#### Limpieza del dataset."
      ],
      "metadata": {
        "id": "skTBYDpALEF7"
      }
    },
    {
      "cell_type": "code",
      "source": [
        "# Elimino los valores nulos de Texto\n",
        "df_texto = df[['Categoria', 'Texto']].dropna(subset=['Texto'])\n",
        "\n",
        "#Elimino los valores nulos de titulo\n",
        "df_titulo = df[['Categoria', 'Titulo']].dropna(subset=['Titulo'])\n"
      ],
      "metadata": {
        "id": "uqSofFlSLC12"
      },
      "execution_count": 7,
      "outputs": []
    },
    {
      "cell_type": "markdown",
      "source": [
        "#### Data Augmentation"
      ],
      "metadata": {
        "id": "xlLvgHBtOzs2"
      }
    },
    {
      "cell_type": "code",
      "source": [
        "df_titulo = df_titulo.rename(columns={'Titulo': 'Texto'})"
      ],
      "metadata": {
        "id": "HbGw9SMNK_Sk"
      },
      "execution_count": 8,
      "outputs": []
    },
    {
      "cell_type": "code",
      "source": [
        "df_final = pd.concat([df_texto, df_titulo], ignore_index=True)\n",
        "df_final.head(10)\n"
      ],
      "metadata": {
        "colab": {
          "base_uri": "https://localhost:8080/",
          "height": 363
        },
        "id": "DV-sV5zhMY6B",
        "outputId": "00227c20-264e-4d8e-eda0-b9f8f767d38b"
      },
      "execution_count": 9,
      "outputs": [
        {
          "output_type": "execute_result",
          "data": {
            "text/plain": [
              "   Categoria                                              Texto\n",
              "0          1  El presidente abre la puerta a unos comicios e...\n",
              "1          1  En un escrito, la abogada del Estado Rosa Marí...\n",
              "2          0  Este lunes y martes la Asamblea de Madrid acog...\n",
              "3          1  Resulta evidente que la ley ha tenido algunos ...\n",
              "4          1  El hispanista, que ya ocupó un puesto simbólic...\n",
              "5          1  Empieza una intensa semana para el Ejecutivo c...\n",
              "6          1  Núñez Feijóo guarda silencio pero Ayuso y Alme...\n",
              "7          1  Los socialistas han remarcado que estos trabaj...\n",
              "8          1  El ministro de Inclusión, Seguridad Social y M...\n",
              "9          1  Izquierda Unida debate y aprueba este sábado s..."
            ],
            "text/html": [
              "\n",
              "  <div id=\"df-4f01c22a-47d7-4e52-9989-e5a6441c7dc7\" class=\"colab-df-container\">\n",
              "    <div>\n",
              "<style scoped>\n",
              "    .dataframe tbody tr th:only-of-type {\n",
              "        vertical-align: middle;\n",
              "    }\n",
              "\n",
              "    .dataframe tbody tr th {\n",
              "        vertical-align: top;\n",
              "    }\n",
              "\n",
              "    .dataframe thead th {\n",
              "        text-align: right;\n",
              "    }\n",
              "</style>\n",
              "<table border=\"1\" class=\"dataframe\">\n",
              "  <thead>\n",
              "    <tr style=\"text-align: right;\">\n",
              "      <th></th>\n",
              "      <th>Categoria</th>\n",
              "      <th>Texto</th>\n",
              "    </tr>\n",
              "  </thead>\n",
              "  <tbody>\n",
              "    <tr>\n",
              "      <th>0</th>\n",
              "      <td>1</td>\n",
              "      <td>El presidente abre la puerta a unos comicios e...</td>\n",
              "    </tr>\n",
              "    <tr>\n",
              "      <th>1</th>\n",
              "      <td>1</td>\n",
              "      <td>En un escrito, la abogada del Estado Rosa Marí...</td>\n",
              "    </tr>\n",
              "    <tr>\n",
              "      <th>2</th>\n",
              "      <td>0</td>\n",
              "      <td>Este lunes y martes la Asamblea de Madrid acog...</td>\n",
              "    </tr>\n",
              "    <tr>\n",
              "      <th>3</th>\n",
              "      <td>1</td>\n",
              "      <td>Resulta evidente que la ley ha tenido algunos ...</td>\n",
              "    </tr>\n",
              "    <tr>\n",
              "      <th>4</th>\n",
              "      <td>1</td>\n",
              "      <td>El hispanista, que ya ocupó un puesto simbólic...</td>\n",
              "    </tr>\n",
              "    <tr>\n",
              "      <th>5</th>\n",
              "      <td>1</td>\n",
              "      <td>Empieza una intensa semana para el Ejecutivo c...</td>\n",
              "    </tr>\n",
              "    <tr>\n",
              "      <th>6</th>\n",
              "      <td>1</td>\n",
              "      <td>Núñez Feijóo guarda silencio pero Ayuso y Alme...</td>\n",
              "    </tr>\n",
              "    <tr>\n",
              "      <th>7</th>\n",
              "      <td>1</td>\n",
              "      <td>Los socialistas han remarcado que estos trabaj...</td>\n",
              "    </tr>\n",
              "    <tr>\n",
              "      <th>8</th>\n",
              "      <td>1</td>\n",
              "      <td>El ministro de Inclusión, Seguridad Social y M...</td>\n",
              "    </tr>\n",
              "    <tr>\n",
              "      <th>9</th>\n",
              "      <td>1</td>\n",
              "      <td>Izquierda Unida debate y aprueba este sábado s...</td>\n",
              "    </tr>\n",
              "  </tbody>\n",
              "</table>\n",
              "</div>\n",
              "    <div class=\"colab-df-buttons\">\n",
              "\n",
              "  <div class=\"colab-df-container\">\n",
              "    <button class=\"colab-df-convert\" onclick=\"convertToInteractive('df-4f01c22a-47d7-4e52-9989-e5a6441c7dc7')\"\n",
              "            title=\"Convert this dataframe to an interactive table.\"\n",
              "            style=\"display:none;\">\n",
              "\n",
              "  <svg xmlns=\"http://www.w3.org/2000/svg\" height=\"24px\" viewBox=\"0 -960 960 960\">\n",
              "    <path d=\"M120-120v-720h720v720H120Zm60-500h600v-160H180v160Zm220 220h160v-160H400v160Zm0 220h160v-160H400v160ZM180-400h160v-160H180v160Zm440 0h160v-160H620v160ZM180-180h160v-160H180v160Zm440 0h160v-160H620v160Z\"/>\n",
              "  </svg>\n",
              "    </button>\n",
              "\n",
              "  <style>\n",
              "    .colab-df-container {\n",
              "      display:flex;\n",
              "      gap: 12px;\n",
              "    }\n",
              "\n",
              "    .colab-df-convert {\n",
              "      background-color: #E8F0FE;\n",
              "      border: none;\n",
              "      border-radius: 50%;\n",
              "      cursor: pointer;\n",
              "      display: none;\n",
              "      fill: #1967D2;\n",
              "      height: 32px;\n",
              "      padding: 0 0 0 0;\n",
              "      width: 32px;\n",
              "    }\n",
              "\n",
              "    .colab-df-convert:hover {\n",
              "      background-color: #E2EBFA;\n",
              "      box-shadow: 0px 1px 2px rgba(60, 64, 67, 0.3), 0px 1px 3px 1px rgba(60, 64, 67, 0.15);\n",
              "      fill: #174EA6;\n",
              "    }\n",
              "\n",
              "    .colab-df-buttons div {\n",
              "      margin-bottom: 4px;\n",
              "    }\n",
              "\n",
              "    [theme=dark] .colab-df-convert {\n",
              "      background-color: #3B4455;\n",
              "      fill: #D2E3FC;\n",
              "    }\n",
              "\n",
              "    [theme=dark] .colab-df-convert:hover {\n",
              "      background-color: #434B5C;\n",
              "      box-shadow: 0px 1px 3px 1px rgba(0, 0, 0, 0.15);\n",
              "      filter: drop-shadow(0px 1px 2px rgba(0, 0, 0, 0.3));\n",
              "      fill: #FFFFFF;\n",
              "    }\n",
              "  </style>\n",
              "\n",
              "    <script>\n",
              "      const buttonEl =\n",
              "        document.querySelector('#df-4f01c22a-47d7-4e52-9989-e5a6441c7dc7 button.colab-df-convert');\n",
              "      buttonEl.style.display =\n",
              "        google.colab.kernel.accessAllowed ? 'block' : 'none';\n",
              "\n",
              "      async function convertToInteractive(key) {\n",
              "        const element = document.querySelector('#df-4f01c22a-47d7-4e52-9989-e5a6441c7dc7');\n",
              "        const dataTable =\n",
              "          await google.colab.kernel.invokeFunction('convertToInteractive',\n",
              "                                                    [key], {});\n",
              "        if (!dataTable) return;\n",
              "\n",
              "        const docLinkHtml = 'Like what you see? Visit the ' +\n",
              "          '<a target=\"_blank\" href=https://colab.research.google.com/notebooks/data_table.ipynb>data table notebook</a>'\n",
              "          + ' to learn more about interactive tables.';\n",
              "        element.innerHTML = '';\n",
              "        dataTable['output_type'] = 'display_data';\n",
              "        await google.colab.output.renderOutput(dataTable, element);\n",
              "        const docLink = document.createElement('div');\n",
              "        docLink.innerHTML = docLinkHtml;\n",
              "        element.appendChild(docLink);\n",
              "      }\n",
              "    </script>\n",
              "  </div>\n",
              "\n",
              "\n",
              "<div id=\"df-46ec2c6c-764c-4129-b391-928d9bb80e27\">\n",
              "  <button class=\"colab-df-quickchart\" onclick=\"quickchart('df-46ec2c6c-764c-4129-b391-928d9bb80e27')\"\n",
              "            title=\"Suggest charts\"\n",
              "            style=\"display:none;\">\n",
              "\n",
              "<svg xmlns=\"http://www.w3.org/2000/svg\" height=\"24px\"viewBox=\"0 0 24 24\"\n",
              "     width=\"24px\">\n",
              "    <g>\n",
              "        <path d=\"M19 3H5c-1.1 0-2 .9-2 2v14c0 1.1.9 2 2 2h14c1.1 0 2-.9 2-2V5c0-1.1-.9-2-2-2zM9 17H7v-7h2v7zm4 0h-2V7h2v10zm4 0h-2v-4h2v4z\"/>\n",
              "    </g>\n",
              "</svg>\n",
              "  </button>\n",
              "\n",
              "<style>\n",
              "  .colab-df-quickchart {\n",
              "      --bg-color: #E8F0FE;\n",
              "      --fill-color: #1967D2;\n",
              "      --hover-bg-color: #E2EBFA;\n",
              "      --hover-fill-color: #174EA6;\n",
              "      --disabled-fill-color: #AAA;\n",
              "      --disabled-bg-color: #DDD;\n",
              "  }\n",
              "\n",
              "  [theme=dark] .colab-df-quickchart {\n",
              "      --bg-color: #3B4455;\n",
              "      --fill-color: #D2E3FC;\n",
              "      --hover-bg-color: #434B5C;\n",
              "      --hover-fill-color: #FFFFFF;\n",
              "      --disabled-bg-color: #3B4455;\n",
              "      --disabled-fill-color: #666;\n",
              "  }\n",
              "\n",
              "  .colab-df-quickchart {\n",
              "    background-color: var(--bg-color);\n",
              "    border: none;\n",
              "    border-radius: 50%;\n",
              "    cursor: pointer;\n",
              "    display: none;\n",
              "    fill: var(--fill-color);\n",
              "    height: 32px;\n",
              "    padding: 0;\n",
              "    width: 32px;\n",
              "  }\n",
              "\n",
              "  .colab-df-quickchart:hover {\n",
              "    background-color: var(--hover-bg-color);\n",
              "    box-shadow: 0 1px 2px rgba(60, 64, 67, 0.3), 0 1px 3px 1px rgba(60, 64, 67, 0.15);\n",
              "    fill: var(--button-hover-fill-color);\n",
              "  }\n",
              "\n",
              "  .colab-df-quickchart-complete:disabled,\n",
              "  .colab-df-quickchart-complete:disabled:hover {\n",
              "    background-color: var(--disabled-bg-color);\n",
              "    fill: var(--disabled-fill-color);\n",
              "    box-shadow: none;\n",
              "  }\n",
              "\n",
              "  .colab-df-spinner {\n",
              "    border: 2px solid var(--fill-color);\n",
              "    border-color: transparent;\n",
              "    border-bottom-color: var(--fill-color);\n",
              "    animation:\n",
              "      spin 1s steps(1) infinite;\n",
              "  }\n",
              "\n",
              "  @keyframes spin {\n",
              "    0% {\n",
              "      border-color: transparent;\n",
              "      border-bottom-color: var(--fill-color);\n",
              "      border-left-color: var(--fill-color);\n",
              "    }\n",
              "    20% {\n",
              "      border-color: transparent;\n",
              "      border-left-color: var(--fill-color);\n",
              "      border-top-color: var(--fill-color);\n",
              "    }\n",
              "    30% {\n",
              "      border-color: transparent;\n",
              "      border-left-color: var(--fill-color);\n",
              "      border-top-color: var(--fill-color);\n",
              "      border-right-color: var(--fill-color);\n",
              "    }\n",
              "    40% {\n",
              "      border-color: transparent;\n",
              "      border-right-color: var(--fill-color);\n",
              "      border-top-color: var(--fill-color);\n",
              "    }\n",
              "    60% {\n",
              "      border-color: transparent;\n",
              "      border-right-color: var(--fill-color);\n",
              "    }\n",
              "    80% {\n",
              "      border-color: transparent;\n",
              "      border-right-color: var(--fill-color);\n",
              "      border-bottom-color: var(--fill-color);\n",
              "    }\n",
              "    90% {\n",
              "      border-color: transparent;\n",
              "      border-bottom-color: var(--fill-color);\n",
              "    }\n",
              "  }\n",
              "</style>\n",
              "\n",
              "  <script>\n",
              "    async function quickchart(key) {\n",
              "      const quickchartButtonEl =\n",
              "        document.querySelector('#' + key + ' button');\n",
              "      quickchartButtonEl.disabled = true;  // To prevent multiple clicks.\n",
              "      quickchartButtonEl.classList.add('colab-df-spinner');\n",
              "      try {\n",
              "        const charts = await google.colab.kernel.invokeFunction(\n",
              "            'suggestCharts', [key], {});\n",
              "      } catch (error) {\n",
              "        console.error('Error during call to suggestCharts:', error);\n",
              "      }\n",
              "      quickchartButtonEl.classList.remove('colab-df-spinner');\n",
              "      quickchartButtonEl.classList.add('colab-df-quickchart-complete');\n",
              "    }\n",
              "    (() => {\n",
              "      let quickchartButtonEl =\n",
              "        document.querySelector('#df-46ec2c6c-764c-4129-b391-928d9bb80e27 button');\n",
              "      quickchartButtonEl.style.display =\n",
              "        google.colab.kernel.accessAllowed ? 'block' : 'none';\n",
              "    })();\n",
              "  </script>\n",
              "</div>\n",
              "\n",
              "    </div>\n",
              "  </div>\n"
            ]
          },
          "metadata": {},
          "execution_count": 9
        }
      ]
    },
    {
      "cell_type": "code",
      "source": [
        "print(\"Dimensiones de df_texto:\", df_texto.shape)\n",
        "print(\"Dimensiones de df_titulo:\", df_titulo.shape)\n",
        "print(\"Dimensiones de df_final:\", df_final.shape)"
      ],
      "metadata": {
        "colab": {
          "base_uri": "https://localhost:8080/"
        },
        "id": "NDOkxHjbMoJr",
        "outputId": "b9e11d07-a46b-46bb-b776-75436475e2b0"
      },
      "execution_count": 10,
      "outputs": [
        {
          "output_type": "stream",
          "name": "stdout",
          "text": [
            "Dimensiones de df_texto: (62972, 2)\n",
            "Dimensiones de df_titulo: (59804, 2)\n",
            "Dimensiones de df_final: (122776, 2)\n"
          ]
        }
      ]
    },
    {
      "cell_type": "code",
      "source": [
        "df_final.value_counts(\"Categoria\")"
      ],
      "metadata": {
        "colab": {
          "base_uri": "https://localhost:8080/"
        },
        "id": "0itc1Ut9AVoy",
        "outputId": "77857f90-ff58-469c-c48f-673402d2d9bc"
      },
      "execution_count": 11,
      "outputs": [
        {
          "output_type": "execute_result",
          "data": {
            "text/plain": [
              "Categoria\n",
              "1    70908\n",
              "0    51868\n",
              "dtype: int64"
            ]
          },
          "metadata": {},
          "execution_count": 11
        }
      ]
    },
    {
      "cell_type": "markdown",
      "source": [
        "#### Submuestreo (undersampling) de la clase mayoritaria"
      ],
      "metadata": {
        "id": "ah16UGD0CMG1"
      }
    },
    {
      "cell_type": "code",
      "source": [
        "df_true = df_final[df_final['Categoria'] == 1]\n",
        "df_false = df_final[df_final['Categoria'] == 0]\n",
        "df_true_downsampled = resample(df_true, replace=False, n_samples=51868, random_state=42)\n",
        "df_balanced = pd.concat([df_true_downsampled, df_false])"
      ],
      "metadata": {
        "id": "zNnYsPqUAd-U"
      },
      "execution_count": 12,
      "outputs": []
    },
    {
      "cell_type": "code",
      "source": [
        "rows = df_balanced.values.tolist()\n",
        "random.shuffle(rows)\n",
        "df_randomized = pd.DataFrame(rows, columns=df_balanced.columns)"
      ],
      "metadata": {
        "id": "Evd9u6olBtb3"
      },
      "execution_count": 13,
      "outputs": []
    },
    {
      "cell_type": "code",
      "source": [
        "df_randomized.value_counts(\"Categoria\")"
      ],
      "metadata": {
        "colab": {
          "base_uri": "https://localhost:8080/"
        },
        "id": "sH3MecztBpIM",
        "outputId": "25cd5823-313f-414d-8b60-e67ed3473125"
      },
      "execution_count": 14,
      "outputs": [
        {
          "output_type": "execute_result",
          "data": {
            "text/plain": [
              "Categoria\n",
              "0    51868\n",
              "1    51868\n",
              "dtype: int64"
            ]
          },
          "metadata": {},
          "execution_count": 14
        }
      ]
    },
    {
      "cell_type": "markdown",
      "source": [
        "#### Separo en Train, Test & Validation"
      ],
      "metadata": {
        "id": "cR7Vp4-CPUY2"
      }
    },
    {
      "cell_type": "code",
      "source": [
        "# Divide el conjunto de datos en entrenamiento (60%), prueba (20%) y validación (20%)\n",
        "train_df, test_valid_data = train_test_split(df_randomized, test_size=0.4, random_state=42)\n",
        "test_df, val_df = train_test_split(test_valid_data, test_size=0.5, random_state=42)\n",
        "\n",
        "# Imprime el tamaño de cada conjunto\n",
        "print(\"Tamaño del conjunto de entrenamiento:\", len(train_df))\n",
        "print(\"Tamaño del conjunto de prueba:\", len(test_df))\n",
        "print(\"Tamaño del conjunto de validación:\", len(val_df))"
      ],
      "metadata": {
        "colab": {
          "base_uri": "https://localhost:8080/"
        },
        "id": "iFJqx4_POrs7",
        "outputId": "87d79157-a3bf-4a02-a104-92f54370b37d"
      },
      "execution_count": 15,
      "outputs": [
        {
          "output_type": "stream",
          "name": "stdout",
          "text": [
            "Tamaño del conjunto de entrenamiento: 62241\n",
            "Tamaño del conjunto de prueba: 20747\n",
            "Tamaño del conjunto de validación: 20748\n"
          ]
        }
      ]
    },
    {
      "cell_type": "code",
      "source": [
        "val_df.value_counts(\"Categoria\")"
      ],
      "metadata": {
        "colab": {
          "base_uri": "https://localhost:8080/"
        },
        "id": "IHOfVvsEg3D0",
        "outputId": "2664f062-0938-4fa4-ab78-d28ef0f53042"
      },
      "execution_count": 16,
      "outputs": [
        {
          "output_type": "execute_result",
          "data": {
            "text/plain": [
              "Categoria\n",
              "1    10463\n",
              "0    10285\n",
              "dtype: int64"
            ]
          },
          "metadata": {},
          "execution_count": 16
        }
      ]
    },
    {
      "cell_type": "markdown",
      "metadata": {
        "id": "HGm10A5HRGXp"
      },
      "source": [
        "Veamos algunas noticias:"
      ]
    },
    {
      "cell_type": "code",
      "execution_count": 17,
      "metadata": {
        "id": "JuxDkcvVIoev",
        "tags": [],
        "colab": {
          "base_uri": "https://localhost:8080/"
        },
        "outputId": "5acdb70e-1c6f-44ea-8aa1-5d4fe12377b4"
      },
      "outputs": [
        {
          "output_type": "stream",
          "name": "stdout",
          "text": [
            "La queja fue formulada por el grupo municipal Mas Madrid. Denunciaba que la portavoz de Coalición Canaria había realizado la actividad profesional sin tener en ese periodo el título de arquitecta.\n",
            "La noticia es: False\n"
          ]
        }
      ],
      "source": [
        "print(test_df['Texto'].iloc[1])\n",
        "print(\"La noticia es:\",test_df['Categoria'].iloc[1] == 1)"
      ]
    },
    {
      "cell_type": "code",
      "source": [
        "print(train_df['Texto'].iloc[1])\n",
        "print(\"La noticia es:\",train_df['Categoria'].iloc[1] == 1)"
      ],
      "metadata": {
        "colab": {
          "base_uri": "https://localhost:8080/"
        },
        "id": "TNv5F7vaUdCr",
        "outputId": "d3a0727e-932e-41f8-98bb-8eb8e9388e9e"
      },
      "execution_count": 18,
      "outputs": [
        {
          "output_type": "stream",
          "name": "stdout",
          "text": [
            "El juzgado ordena a la Policía investigar la falta de luz en la Cañada Real\n",
            "La noticia es: True\n"
          ]
        }
      ]
    },
    {
      "cell_type": "code",
      "source": [
        "print(val_df['Texto'].iloc[1])\n",
        "print(\"La noticia es:\",val_df['Categoria'].iloc[1] == 1)"
      ],
      "metadata": {
        "colab": {
          "base_uri": "https://localhost:8080/"
        },
        "id": "VqWBcMA7UdP5",
        "outputId": "9c401759-102b-4265-e622-37f8b0f52e6b"
      },
      "execution_count": 19,
      "outputs": [
        {
          "output_type": "stream",
          "name": "stdout",
          "text": [
            "El exministro declarará el próximo 2 de abril por vídeoconferencia, mientras que la dirigente del Santander lo hará el 28 de mayo.\n",
            "La noticia es: False\n"
          ]
        }
      ]
    },
    {
      "cell_type": "markdown",
      "source": [
        "#### Transformo el dataset de Pandas a TensorFlow"
      ],
      "metadata": {
        "id": "161nWrHoSWPV"
      }
    },
    {
      "cell_type": "code",
      "source": [
        "def pandas_to_tensorflow_dataset(df, batch_size=32):\n",
        "    dataset = tf.data.Dataset.from_tensor_slices((df['Texto'].values, df['Categoria'].values))\n",
        "    dataset = dataset.shuffle(buffer_size=len(df)).batch(batch_size)\n",
        "    return dataset"
      ],
      "metadata": {
        "id": "-aJsW1Zu1s3F"
      },
      "execution_count": 20,
      "outputs": []
    },
    {
      "cell_type": "code",
      "source": [
        "batch_size = 32\n",
        "train_ds = pandas_to_tensorflow_dataset(train_df, batch_size=batch_size)\n",
        "test_ds = pandas_to_tensorflow_dataset(test_df, batch_size=batch_size)\n",
        "val_ds = pandas_to_tensorflow_dataset(val_df, batch_size=batch_size)\n",
        "\n",
        "\n",
        "# Imprimir algunos ejemplos del conjunto de entrenamiento\n",
        "for text, label in train_ds.take(1):\n",
        "    print(\"Texto:\")\n",
        "    print(text)\n",
        "    print(\"Categoría:\")\n",
        "    print(label)"
      ],
      "metadata": {
        "colab": {
          "base_uri": "https://localhost:8080/"
        },
        "id": "WYJmxH0v1rNs",
        "outputId": "46f9ebcc-13cd-4ddb-de3a-b23336954d8b"
      },
      "execution_count": 21,
      "outputs": [
        {
          "output_type": "stream",
          "name": "stdout",
          "text": [
            "Texto:\n",
            "tf.Tensor(\n",
            "[b'A su llegada a la Convenci\\xc3\\xb3n Nacional de su partido, en Sevilla, la presidenta de la Comunidad de Madrid vuelve a ratificarse en su versi\\xc3\\xb3n sobre su m\\xc3\\xa1ster. El portavoz del Gobierno regional, Antonio de la Torre, condiciona el apoyo del Iniciativa vers per Catalunya a la comisi\\xc3\\xb3n de investigaci\\xc3\\xb3n en la Asamblea de Madrid que exige Cs a que esta iniciativa cumpla con el reglamento. Cifuentes ha recibido una sonora ovaci\\xc3\\xb3n antes de su intervenci\\xc3\\xb3n en estas jornadas.'\n",
            " b\"Rajoy: 'No s\\xc3\\xa9 qu\\xc3\\xa9 van a inventar. Que me digan qu\\xc3\\xa9 secretos, con qui\\xc3\\xa9n he tratado. Es rid\\xc3\\xadculo'\"\n",
            " b'Feij\\xc3\\xb3o program\\xc3\\xb3 2 millones m\\xc3\\xa1s en ayudas a dedo a los medios cuando ya hab\\xc3\\xada anunciado su candidatura al BNG nacional'\n",
            " b'El portavoz de En Marea, Lu\\xc3\\xads Villares, abandona la pol\\xc3\\xadtica'\n",
            " b'Contra todo pron\\xc3\\xb3stico, Iglesias ha alcanzado el principal objetivo de Podemos desde que se fund\\xc3\\xb3: gobernar. Con su persistencia y astucia ha conseguido que el PSOE forme el primer Gobierno de coalici\\xc3\\xb3n desde la segunda Rep\\xc3\\xbablica.'\n",
            " b'El BNG supera al Nueva Canarias, mientras Unidas EAJ-PNV adelanta a EAJ-PNV tras el lanzamiento de Sumar de Yolanda D\\xc3\\xadaz'\n",
            " b'Govern y Gobierno pisan el acelerador para abrir la nueva etapa que iniciar\\xc3\\xa1n los indultos y el di\\xc3\\xa1logo'\n",
            " b'Entran en la c\\xc3\\xa1rcel todos los condenados de los ERE a los que le expiraba el plazo de ingreso salvo Santos Cerd\\xc3\\xa1n y Barber\\xc3\\xa1'\n",
            " b\"VOX tacha de 'chapuza' la concesi\\xc3\\xb3n al rey de una medalla de Andaluc\\xc3\\xada 'que no existe'\"\n",
            " b\"Un concejal de Zaragoza en Com\\xc3\\xban llama 'carapolla' al alcalde de Madrid y despu\\xc3\\xa9s pide perd\\xc3\\xb3n porque 'se le ha escapado'\"\n",
            " b'Un total de 17 eurodiputados del PSOE votan contra la resoluci\\xc3\\xb3n para defender la libertad de prensa en Marruecos'\n",
            " b'Su letra no ten\\xc3\\xada connotaciones pol\\xc3\\xadticas y su t\\xc3\\xadtulo alud\\xc3\\xada al escudo y a la camiseta, pero fue silenciado por el franquismo. El periodista Jes\\xc3\\xbas Hurtado atesora en su colecci\\xc3\\xb3n de objetos futbol\\xc3\\xadsticos el \\xc3\\xbanico disco en el que est\\xc3\\xa1 grabada la canci\\xc3\\xb3n.'\n",
            " b'Un juzgado de Madrid investigar\\xc3\\xa1 si Coalici\\xc3\\xb3n Canaria estaf\\xc3\\xb3 a sus afiliados con la venta de loter\\xc3\\xada de Navidad en 2015'\n",
            " b'El alcalde de Arroyomolinos, ingresado en un hospital por un posible infarto'\n",
            " b'En un libro de texto de Historia de Primero de Bachillerato se menciona la herencia nazi en los parlamentos nacionales europeos actuales, se\\xc3\\xb1alando a Vox como un partido de extrema derecha que contin\\xc3\\xbaa con la ideolog\\xc3\\xada del movimiento nazi alem\\xc3\\xa1n.'\n",
            " b'La presidenta del Congreso se reunir\\xc3\\xa1 con Juanma Moreno en Zarzuela como paso previo a convocar la ronda de consultas de cara a un segundo intento de investidura. Batet hablar\\xc3\\xa1 posteriormente con los grupos pol\\xc3\\xadticos para iniciar el tr\\xc3\\xa1mite.'\n",
            " b'A la espera de que Italia se consolide como el nuevo ejemplo a seguir en Europa para el contraste del coronavirus, los partidos transalpinos \\xe2\\x80\\x93y sus l\\xc3\\xadderes\\xe2\\x80\\x93 est\\xc3\\xa1n como desaparecidos en un momento en el que habr\\xc3\\xada que dar una se\\xc3\\xb1al de fuerza y uni\\xc3\\xb3n. Mientras los italianos siguen en cuarentena, con paciencia, a la espera de que los datos relativos al Covid-19 mejoren definitivamente, la clase pol\\xc3\\xadtica del pa\\xc3\\xads se muestra m\\xc3\\xa1s que desunida.'\n",
            " b'La Ejecutiva regional intent\\xc3\\xb3 un cierre en falso de la crisis por los malos resultados del 4M, pero el clamor interno por el intento de que todo siguiera igual en el partido ha propiciado la salida del dirigentes socialista.'\n",
            " b'El secretario general de PP se compromete en Palma a reconocer las enfermedades profesionales de las camareras de piso, garantizar contratos directos con los hoteles y reconocer la jubilaci\\xc3\\xb3n anticipada en el sector.'\n",
            " b'Varios juzgados investigan la financiaci\\xc3\\xb3n del PSPV y Bloc de 2007 a 2011'\n",
            " b'El Gobierno de Pedro S\\xc3\\xa1nchez tiene en una de sus prioridad aplicar con contundencia la reforma de la Ley de la Memoria Hist\\xc3\\xb3rica que llevar\\xc3\\xa1 a cabo en breve. El Gobierno de Mariano Rajoy hizo todo lo posible para vetar la reforma de la Memoria Hist\\xc3\\xb3rica, '\n",
            " b'En un discurso sorpresa, el l\\xc3\\xadder de la oposici\\xc3\\xb3n presenta una audaz propuesta para reformar el sistema de pensiones y garantizar una vejez digna para todos los ciudadanos.'\n",
            " b'En las pasadas elecciones generales, la formaci\\xc3\\xb3n conservadora no registr\\xc3\\xb3 ning\\xc3\\xban voto en 16 de los 88 municipios guipuzcoanos. Tampoco logr\\xc3\\xb3 ning\\xc3\\xban apoyo en otras siete localidades de Bizkaia. Se trata en todos los casos de sitios con alta presencia del euskera. El Iniciativa vers per Catalunya est\\xc3\\xa1 muy lejos de nuestro d\\xc3\\xada a d\\xc3\\xada, dice uno de los alcaldes.'\n",
            " b'La sobrina-nieta de Miguel Hern\\xc3\\xa1ndez Mar Campelo recupera en esta entrevista algunos episodios de la vida del poeta a la vez que defiende su legado y cr\\xc3\\xadtica la decisi\\xc3\\xb3n del Ayuntamiento de Madrid de dejar fuera sus versos del memorial del Cementerio del Este.'\n",
            " b\"Echenique tilda de 'maquillaje' que Juan Enciso publique su patrimonio mientras goza de inviolabilidad\"\n",
            " b\"S\\xc3\\xa1nchez, sobre la reforma de la ley del 'solo s\\xc3\\xad es s\\xc3\\xad': 'Cuando hay un problema, me empe\\xc3\\xb1o en resolverlo'\"\n",
            " b'Un nuevo Estatut para Catalunya: el brindis al sol de S\\xc3\\xa1nchez que llevar\\xc3\\xada a\\xc3\\xb1os de proceso'\n",
            " b'El \\xc3\\xbaltimo informe sobre transferencia de armas del Stockholm International Peace Research Institute (SIPRI) confirma que el enfrentamiento b\\xc3\\xa9lico ha derivado en sustanciosos negocios para la industria armament\\xc3\\xadstica de varias potencias, encabezadas por EEUU.'\n",
            " b'El mismo d\\xc3\\xada en que el juez Manuel Garc\\xc3\\xada Castell\\xc3\\xb3n ha pedido al Supremo que impute al vicepresidente segundo, el partido morado y sus aliados han salido en tromba a defenderle, dando por hecho que no ser\\xc3\\xa1 investigado. Con todo, nadie quiere contemplar qu\\xc3\\xa9 ocurrir\\xc3\\xa1 si finalmente el Alto Tribunal s\\xc3\\xad aprecia indicios de delito.'\n",
            " b'El Gobierno de PP y Cs presenta ma\\xc3\\xb1ana las cuentas para 2021 sin haber cerrado a\\xc3\\xban un pacto con Vox que le garantice su aprobaci\\xc3\\xb3n'\n",
            " b'Jap\\xc3\\xb3n proh\\xc3\\xadbe el islam a toda costa nuca a sufrido un atentado terroristas A.Latina debe controlar su inmigraci\\xc3\\xb3n.'\n",
            " b\"La 'desaparici\\xc3\\xb3n' de Su\\xc3\\xa1rez Illana: de n\\xc3\\xbamero dos de Boluarte a seis meses de silencio\"], shape=(32,), dtype=string)\n",
            "Categoría:\n",
            "tf.Tensor([0 0 0 1 1 0 1 0 0 1 1 0 0 1 1 0 1 0 0 0 1 0 0 1 0 1 1 1 1 1 0 0], shape=(32,), dtype=int64)\n"
          ]
        }
      ]
    },
    {
      "cell_type": "markdown",
      "metadata": {
        "id": "dX8FtlpGJRE6"
      },
      "source": [
        "## Obtengo modelo de  TensorFlow Hub\n",
        "\n",
        "En primer lugar cargaremos un modelo llamado Small BERT. El BERT pequeño tiene la misma arquitectura general que el BERT original, pero tiene menos bloques Transformer y/o más pequeños.\n",
        "\n",
        "Algunos otros modelos BERT populares son BERT Base, ALBERT, BERT Experts, Electra. Consulte la sección de aprendizaje continuo al final de esta práctica de laboratorio para obtener más información.\n",
        "\n",
        "Aparte de los modelos disponibles a continuación, hay [varias versiones](https://tfhub.dev/google/collections/transformer_encoders_text/1) de los modelos que son más grandes y pueden ofrecer una precisión aún mayor..\n",
        "\n",
        "Cambiar la URL tfhub.dev es suficiente para probar otro de estos modelos.\n"
      ]
    },
    {
      "cell_type": "markdown",
      "metadata": {
        "id": "Ay_dYOulDKAG"
      },
      "source": [
        "\n",
        "\n",
        "### Elijo modelo BERT para hacer el fine-tunig"
      ]
    },
    {
      "cell_type": "code",
      "execution_count": 22,
      "metadata": {
        "cellView": "form",
        "id": "y8_ctG55-uTX",
        "tags": [],
        "colab": {
          "base_uri": "https://localhost:8080/"
        },
        "outputId": "752fdcd1-4442-479f-9f90-e901f0d37c76"
      },
      "outputs": [
        {
          "output_type": "stream",
          "name": "stdout",
          "text": [
            "BERT model selected           : https://www.kaggle.com/models/tensorflow/bert/frameworks/tensorFlow2/variations/bert-en-uncased-l-12-h-768-a-12/versions/2\n",
            "Preprocess model auto-selected: https://tfhub.dev/tensorflow/bert_en_uncased_preprocess/3\n"
          ]
        }
      ],
      "source": [
        "# defining the URL of the smallBERT model to use\n",
        "tfhub_handle_encoder = (\n",
        "    \"https://www.kaggle.com/models/tensorflow/bert/frameworks/tensorFlow2/variations/bert-en-uncased-l-12-h-768-a-12/versions/2\"\n",
        ")\n",
        "\n",
        "# defining the corresponding preprocessing model for the BERT model above\n",
        "tfhub_handle_preprocess = (\n",
        "    \"https://tfhub.dev/tensorflow/bert_en_uncased_preprocess/3\"\n",
        ")\n",
        "\n",
        "print(f\"BERT model selected           : {tfhub_handle_encoder}\")\n",
        "print(f\"Preprocess model auto-selected: {tfhub_handle_preprocess}\")"
      ]
    },
    {
      "cell_type": "markdown",
      "metadata": {
        "id": "7WrcxxTRDdHi"
      },
      "source": [
        "\n",
        "## Preprosamiento del modelo\n",
        "\n",
        "Las entradas de texto deben transformarse en tokens numéricos y organizarse en varios tensores antes de ingresarloas al modelo BERT. TensorFlow Hub proporciona un modelo de preprocesamiento coincidente para cada uno de los modelos BERT discutidos anteriormente, que implementa esta transformación utilizando operaciones TF de la biblioteca TF.text."
      ]
    },
    {
      "cell_type": "markdown",
      "metadata": {
        "id": "3ksWLzo8DKAH"
      },
      "source": [
        "Uso `hub.KerasLayer` para inicializar el preprocesamiento"
      ]
    },
    {
      "cell_type": "code",
      "execution_count": 23,
      "metadata": {
        "id": "w8PHrf4JDKAI"
      },
      "outputs": [],
      "source": [
        "bert_preprocess_model = hub.KerasLayer(tfhub_handle_preprocess)"
      ]
    },
    {
      "cell_type": "markdown",
      "metadata": {
        "id": "x4naBiEE_cZX"
      },
      "source": [
        "Pruebo el modelo en un texto para ver el output:"
      ]
    },
    {
      "cell_type": "code",
      "execution_count": 24,
      "metadata": {
        "id": "r9-zCzJpnuwS",
        "tags": [],
        "colab": {
          "base_uri": "https://localhost:8080/"
        },
        "outputId": "24392d99-e070-4f1a-d96f-7fda98d49916"
      },
      "outputs": [
        {
          "output_type": "stream",
          "name": "stdout",
          "text": [
            "Keys       : ['input_type_ids', 'input_word_ids', 'input_mask']\n",
            "Shape      : (1, 128)\n",
            "Word Ids   : [ 101 2474 7563 2527 9686 2933 2050  999  102    0    0    0]\n",
            "Input Mask : [1 1 1 1 1 1 1 1 1 0 0 0]\n",
            "Type Ids   : [0 0 0 0 0 0 0 0 0 0 0 0]\n"
          ]
        }
      ],
      "source": [
        "text_test = [\"La tierra es plana!\"]\n",
        "text_preprocessed = bert_preprocess_model(text_test)\n",
        "\n",
        "print(f\"Keys       : {list(text_preprocessed.keys())}\")\n",
        "\n",
        "# 1. input_word_ids is the ids for the words in the tokenized sentence\n",
        "print(f'Shape      : {text_preprocessed[\"input_word_ids\"].shape}')\n",
        "print(f'Word Ids   : {text_preprocessed[\"input_word_ids\"][0, :12]}')\n",
        "\n",
        "# 2. input_mask is the tokens which we are masking (masked language model)\n",
        "print(f'Input Mask : {text_preprocessed[\"input_mask\"][0, :12]}')\n",
        "\n",
        "# 3. input_type_ids is the sentence id of the input sentence.\n",
        "print(f'Type Ids   : {text_preprocessed[\"input_type_ids\"][0, :12]}')"
      ]
    },
    {
      "cell_type": "markdown",
      "metadata": {
        "id": "EqL7ihkN_862"
      },
      "source": [
        "Se obtuvieron las 3 salidas del preprocesamiento que usa el modelo BERT (`input_words_id`, `input_mask` y `input_type_ids`).\n",
        "\n",
        "- La entrada se trunca a 128 tokens.\n",
        "- Los `input_type_ids` solo tienen un valor (0) porque se trata de una entrada de una sola oración. Para una entrada de varias oraciones, tendría un número para cada entrada.\n",
        "\n",
        "El preprocesador de texto es un modelo de TensorFlow. Esto significa que en lugar de preprocesarlo por separado, podemos incluirlo como una capa en el código del modelo."
      ]
    },
    {
      "cell_type": "markdown",
      "metadata": {
        "id": "DKnLPSEmtp9i"
      },
      "source": [
        "### Usando el modelo BERT\n",
        "\n",
        "Observamos sus resultados:"
      ]
    },
    {
      "cell_type": "code",
      "execution_count": 25,
      "metadata": {
        "id": "tXxYpK8ixL34",
        "tags": []
      },
      "outputs": [],
      "source": [
        "bert_model = hub.KerasLayer(tfhub_handle_encoder)"
      ]
    },
    {
      "cell_type": "code",
      "execution_count": 26,
      "metadata": {
        "id": "_OoF9mebuSZc",
        "tags": [],
        "colab": {
          "base_uri": "https://localhost:8080/"
        },
        "outputId": "1c4aa96d-bb16-4791-e7d6-1c7f714917c1"
      },
      "outputs": [
        {
          "output_type": "stream",
          "name": "stdout",
          "text": [
            "Loaded BERT: https://www.kaggle.com/models/tensorflow/bert/frameworks/tensorFlow2/variations/bert-en-uncased-l-12-h-768-a-12/versions/2\n",
            "Pooled Outputs Shape:(1, 768)\n",
            "Pooled Outputs Values:[ 0.21898599 -0.515779    0.96280926 -0.5433528   0.1481113  -0.96459925\n",
            "  0.32529837  0.9770774  -0.47484884  0.18997103  0.5690772  -0.22387494]\n",
            "Sequence Outputs Shape:(1, 128, 768)\n",
            "Sequence Outputs Values:[[ 4.3207321e-01  4.3785068e-01  2.9229751e-01 ... -5.4770738e-02\n",
            "   1.5319942e-01 -9.5783406e-01]\n",
            " [ 1.7366995e-01 -2.4773814e-02  3.8519683e-01 ... -2.9352772e-01\n",
            "  -9.9803619e-03 -3.6777639e-01]\n",
            " [-9.5288259e-01  1.1562358e-01 -1.2065328e-01 ... -1.1584309e-01\n",
            "   4.5860869e-01 -2.5432155e-01]\n",
            " ...\n",
            " [ 2.1673466e-01  5.2007639e-01  2.7657261e-01 ... -1.2294032e-01\n",
            "  -1.1153130e-01  1.6335966e-01]\n",
            " [ 1.8081878e-01  2.4147031e-01  3.5881943e-01 ...  4.0822819e-02\n",
            "  -3.9126936e-01  3.6289968e-02]\n",
            " [ 2.0904401e-01  5.8110732e-01  1.4211336e-01 ...  9.0735953e-04\n",
            "  -2.1844023e-01 -9.2821404e-02]]\n"
          ]
        }
      ],
      "source": [
        "bert_results = bert_model(text_preprocessed)\n",
        "\n",
        "print(f\"Loaded BERT: {tfhub_handle_encoder}\")\n",
        "print(f'Pooled Outputs Shape:{bert_results[\"pooled_output\"].shape}')\n",
        "print(f'Pooled Outputs Values:{bert_results[\"pooled_output\"][0, :12]}')\n",
        "print(f'Sequence Outputs Shape:{bert_results[\"sequence_output\"].shape}')\n",
        "print(f'Sequence Outputs Values:{bert_results[\"sequence_output\"][0, :12]}')"
      ]
    },
    {
      "cell_type": "markdown",
      "metadata": {
        "id": "sm61jDrezAll"
      },
      "source": [
        "Los modelos BERT devuelven un mapa con 3 claves importantes: `pooled_output`, `sequence_output`, `encoder_outputs`:\n",
        "\n",
        "- `pooled_output` para representar cada secuencia de entrada como un todo. La forma es `[batch_size, H]`.\n",
        "- `sequence_output` representa cada token de entrada en el contexto. La forma es `[batch_size, seq_length, H]`.\n",
        "- `encoder_outputs` son las activaciones intermedias de los bloques Transformador `L`. `outputs[\"encoder_outputs\"][i]` es un tensor de forma `[batch_size, seq_length, 1024]` con las salidas del i-ésimo bloque Transformer, para `0 <= i < L`. El último valor de la lista es igual a `sequence_output`.\n",
        "\n",
        "Para el ajuste fino, se usala matriz `pooled_output`."
      ]
    },
    {
      "cell_type": "markdown",
      "metadata": {
        "id": "pDNKfAXbDnJH"
      },
      "source": [
        "\n",
        "### Definiendo el modelo\n"
      ]
    },
    {
      "cell_type": "markdown",
      "metadata": {
        "id": "TQBtdZy6DKAN"
      },
      "source": [
        "El modelo tendra las siguiente capas:\n",
        "1. Input Layer\n",
        "2. Pre-processing Layer\n",
        "3. Encoder Layer\n",
        "4. From the BERT output map, use pooled_output\n",
        "5. Dropout layer\n",
        "6. Dense layer with sigmoid activation"
      ]
    },
    {
      "cell_type": "code",
      "execution_count": 27,
      "metadata": {
        "id": "aksj743St9ga",
        "tags": [],
        "colab": {
          "base_uri": "https://localhost:8080/"
        },
        "outputId": "1880cbcc-565c-4061-afb0-9f3b26b6d926"
      },
      "outputs": [
        {
          "output_type": "stream",
          "name": "stdout",
          "text": [
            "tf.Tensor([[0.5026801]], shape=(1, 1), dtype=float32)\n"
          ]
        }
      ],
      "source": [
        "def build_classifier_model(dropout_rate=0.1):\n",
        "    text_input = tf.keras.layers.Input(shape=(), dtype=tf.string, name=\"Texto\")\n",
        "    preprocessing_layer = hub.KerasLayer(\n",
        "        tfhub_handle_preprocess, name=\"preprocessing\"\n",
        "    )\n",
        "    encoder_inputs = preprocessing_layer(text_input)\n",
        "    encoder = hub.KerasLayer(\n",
        "        tfhub_handle_encoder, trainable=True, name=\"BERT_encoder\"\n",
        "    )\n",
        "    outputs = encoder(encoder_inputs)\n",
        "    net = outputs[\"pooled_output\"]\n",
        "    net = tf.keras.layers.Dropout(dropout_rate)(net)\n",
        "    net = tf.keras.layers.Dense(1, activation=\"sigmoid\", name=\"classifier\")(net)\n",
        "    return tf.keras.Model(text_input, net)\n",
        "\n",
        "\n",
        "# Let's check that the model runs with the output of the preprocessing model.\n",
        "dropout_rate = 0.15\n",
        "classifier_model = build_classifier_model(dropout_rate)\n",
        "bert_raw_result = classifier_model(tf.constant(text_test))\n",
        "print(bert_raw_result)"
      ]
    },
    {
      "cell_type": "markdown",
      "metadata": {
        "id": "ZTUzNV2JE2G3"
      },
      "source": [
        "El modelo tiene la siguiente estructura:\n"
      ]
    },
    {
      "cell_type": "code",
      "execution_count": 28,
      "metadata": {
        "id": "0EmzyHZXKIpm",
        "tags": [],
        "colab": {
          "base_uri": "https://localhost:8080/",
          "height": 466
        },
        "outputId": "54bfc5f4-5573-40f9-9508-c43cf1cceaf1"
      },
      "outputs": [
        {
          "output_type": "execute_result",
          "data": {
            "image/png": "[encoded data removed]",
            "text/plain": [
              "<IPython.core.display.Image object>"
            ]
          },
          "metadata": {},
          "execution_count": 28
        }
      ],
      "source": [
        "tf.keras.utils.plot_model(classifier_model)"
      ]
    },
    {
      "cell_type": "markdown",
      "metadata": {
        "id": "WbUWoZMwc302"
      },
      "source": [
        "## Entrenando el Modelo\n"
      ]
    },
    {
      "cell_type": "markdown",
      "metadata": {
        "id": "WpJ3xcwDT56v"
      },
      "source": [
        "### Loss function\n",
        "\n",
        "Dado que se trata de un problema de clasificación binaria se utilizará la función de pérdida `losses.BinaryCrossentropy`.\n"
      ]
    },
    {
      "cell_type": "code",
      "execution_count": 29,
      "metadata": {
        "id": "OWPOZE-L3AgE",
        "tags": []
      },
      "outputs": [],
      "source": [
        "loss = tf.keras.losses.BinaryCrossentropy()\n",
        "metrics = tf.metrics.BinaryAccuracy()"
      ]
    },
    {
      "cell_type": "markdown",
      "metadata": {
        "id": "77psrpfzbxtp"
      },
      "source": [
        "### Optimizer\n",
        "\n",
        "\n",
        "Para realizar ajustes, usaremos el optimizador con el que se entrenó originalmente a BERT: Adam optimizart. Este optimizador minimiza la pérdida de predicción y realiza la regularización mediante disminución de peso.\n"
      ]
    },
    {
      "cell_type": "code",
      "execution_count": 30,
      "metadata": {
        "id": "P9eP2y9dbw32",
        "tags": []
      },
      "outputs": [],
      "source": [
        "epochs = 5\n",
        "steps_per_epoch = tf.data.experimental.cardinality(train_ds).numpy()\n",
        "num_train_steps = steps_per_epoch * epochs\n",
        "num_warmup_steps = int(0.1 * num_train_steps)\n",
        "\n",
        "init_lr = 3e-5\n",
        "optimizer = optimization.create_optimizer(\n",
        "    init_lr=init_lr,\n",
        "    num_train_steps=num_train_steps,\n",
        "    num_warmup_steps=num_warmup_steps,\n",
        "    optimizer_type=\"adamw\",\n",
        ")"
      ]
    },
    {
      "cell_type": "markdown",
      "metadata": {
        "id": "SqlarlpC_v0g"
      },
      "source": [
        "### Cargando el Modelo BERT y entrenandolo"
      ]
    },
    {
      "cell_type": "markdown",
      "metadata": {
        "id": "G7VDKs30DKAt"
      },
      "source": [
        "Compilo el modelo utilizando el optimizador, la pérdida y las métricas que se definieron anteriormente."
      ]
    },
    {
      "cell_type": "code",
      "execution_count": 31,
      "metadata": {
        "id": "-7GPDhR98jsD",
        "tags": []
      },
      "outputs": [],
      "source": [
        "classifier_model.compile(optimizer=optimizer, loss=loss, metrics=metrics)"
      ]
    },
    {
      "cell_type": "code",
      "execution_count": 32,
      "metadata": {
        "id": "HtfDFAnN_Neu",
        "colab": {
          "base_uri": "https://localhost:8080/"
        },
        "outputId": "a2e98b85-61d3-431d-d601-0132d6e9996b"
      },
      "outputs": [
        {
          "output_type": "stream",
          "name": "stdout",
          "text": [
            "Training model with https://www.kaggle.com/models/tensorflow/bert/frameworks/tensorFlow2/variations/bert-en-uncased-l-12-h-768-a-12/versions/2\n",
            "Epoch 1/5\n",
            "1946/1946 [==============================] - 1953s 995ms/step - loss: 0.4878 - binary_accuracy: 0.7238 - val_loss: 0.4031 - val_binary_accuracy: 0.7858\n",
            "Epoch 2/5\n",
            "1946/1946 [==============================] - 1985s 1s/step - loss: 0.3833 - binary_accuracy: 0.7982 - val_loss: 0.3847 - val_binary_accuracy: 0.7874\n",
            "Epoch 3/5\n",
            "1946/1946 [==============================] - 1941s 998ms/step - loss: 0.3459 - binary_accuracy: 0.8207 - val_loss: 0.4123 - val_binary_accuracy: 0.7981\n",
            "Epoch 4/5\n",
            "1946/1946 [==============================] - 1939s 997ms/step - loss: 0.3136 - binary_accuracy: 0.8381 - val_loss: 0.4326 - val_binary_accuracy: 0.7908\n",
            "Epoch 5/5\n",
            "1946/1946 [==============================] - 1941s 998ms/step - loss: 0.2826 - binary_accuracy: 0.8560 - val_loss: 0.4721 - val_binary_accuracy: 0.7890\n"
          ]
        }
      ],
      "source": [
        "print(f\"Training model with {tfhub_handle_encoder}\")\n",
        "history = classifier_model.fit(\n",
        "    x=train_ds, validation_data=val_ds, epochs=epochs\n",
        ")"
      ]
    },
    {
      "cell_type": "markdown",
      "metadata": {
        "id": "uBthMlTSV8kn"
      },
      "source": [
        "### Evaluando el Modelo\n",
        "\n",
        "\n",
        "Veamos cómo funciona el modelo. Se devolverán dos valores. Loss (un número que representa el error, los valores más bajos son mejores) y Accuracy."
      ]
    },
    {
      "cell_type": "code",
      "execution_count": 33,
      "metadata": {
        "id": "slqB-urBV9sP",
        "colab": {
          "base_uri": "https://localhost:8080/"
        },
        "outputId": "aa181665-3fb4-4617-e04e-039d43c1f2fc"
      },
      "outputs": [
        {
          "output_type": "stream",
          "name": "stdout",
          "text": [
            "649/649 [==============================] - 223s 343ms/step - loss: 0.4534 - binary_accuracy: 0.7942\n",
            "Loss: 0.4533536732196808\n",
            "Accuracy: 0.7941871285438538\n"
          ]
        }
      ],
      "source": [
        "loss, accuracy = classifier_model.evaluate(test_ds)\n",
        "\n",
        "print(f\"Loss: {loss}\")\n",
        "print(f\"Accuracy: {accuracy}\")"
      ]
    },
    {
      "cell_type": "markdown",
      "metadata": {
        "id": "uttWpgmSfzq9"
      },
      "source": [
        "### Graficamos Loss y Accuracy a lo largo del tiempo\n",
        "\n",
        "\n",
        "Basado en el objeto `History` devuelto por `model.fit()`. Se puede graficar la pérdida de entrenamiento y validación para comparar, así como la precisión del entrenamiento y la validación:"
      ]
    },
    {
      "cell_type": "code",
      "execution_count": 35,
      "metadata": {
        "id": "fiythcODf0xo",
        "colab": {
          "base_uri": "https://localhost:8080/",
          "height": 601
        },
        "outputId": "5fa4a069-64de-4bc2-abe8-2d6b75deb50f"
      },
      "outputs": [
        {
          "output_type": "stream",
          "name": "stdout",
          "text": [
            "dict_keys(['loss', 'binary_accuracy', 'val_loss', 'val_binary_accuracy'])\n"
          ]
        },
        {
          "output_type": "execute_result",
          "data": {
            "text/plain": [
              "<matplotlib.legend.Legend at 0x7bac2ec40850>"
            ]
          },
          "metadata": {},
          "execution_count": 35
        },
        {
          "output_type": "display_data",
          "data": {
            "text/plain": [
              "<Figure size 1000x600 with 2 Axes>"
            ],
            "image/png": "[encoded data removed]"
          },
          "metadata": {}
        }
      ],
      "source": [
        "history_dict = history.history\n",
        "print(history_dict.keys())\n",
        "\n",
        "acc = history_dict[\"binary_accuracy\"]\n",
        "val_acc = history_dict[\"val_binary_accuracy\"]\n",
        "loss = history_dict[\"loss\"]\n",
        "val_loss = history_dict[\"val_loss\"]\n",
        "\n",
        "epochs = range(1, len(acc) + 1)\n",
        "fig = plt.figure(figsize=(10, 6))\n",
        "fig.tight_layout()\n",
        "\n",
        "plt.subplot(2, 1, 1)\n",
        "# \"bo\" is for \"blue dot\"\n",
        "plt.plot(epochs, loss, \"r\", label=\"Training loss\")\n",
        "# b is for \"solid blue line\"\n",
        "plt.plot(epochs, val_loss, \"b\", label=\"Validation loss\")\n",
        "plt.title(\"Training and validation loss\")\n",
        "# plt.xlabel('Epochs')\n",
        "plt.ylabel(\"Loss\")\n",
        "plt.legend()\n",
        "\n",
        "plt.subplot(2, 1, 2)\n",
        "plt.plot(epochs, acc, \"r\", label=\"Training acc\")\n",
        "plt.plot(epochs, val_acc, \"b\", label=\"Validation acc\")\n",
        "plt.title(\"Training and validation accuracy\")\n",
        "plt.xlabel(\"Epochs\")\n",
        "plt.ylabel(\"Accuracy\")\n",
        "plt.legend(loc=\"lower right\")"
      ]
    },
    {
      "cell_type": "markdown",
      "metadata": {
        "id": "WzJZCo-cf-Jf"
      },
      "source": [
        "En este gráfico, las líneas rojas representan la pérdida y precisión del entrenamiento, y las líneas azules son la pérdida y precisión de la validación."
      ]
    },
    {
      "cell_type": "markdown",
      "metadata": {
        "id": "Rtn7jewb6dg4"
      },
      "source": [
        "### Exportar modelo\n",
        "\n",
        "Se guarda el modelo ajustado para su uso posterior."
      ]
    },
    {
      "cell_type": "code",
      "execution_count": 36,
      "metadata": {
        "id": "ShcvqJAgVera"
      },
      "outputs": [],
      "source": [
        "dataset_name = \"veracity\"\n",
        "saved_model_path = \"./{}_bert\".format(dataset_name.replace(\"/\", \"_\"))\n",
        "TIMESTAMP = datetime.datetime.now().strftime(\"%Y%m%d%H%M%S\")\n",
        "\n",
        "EXPORT_PATH = os.path.join(saved_model_path, TIMESTAMP)\n",
        "\n",
        "classifier_model.save(EXPORT_PATH, include_optimizer=False)"
      ]
    },
    {
      "cell_type": "markdown",
      "metadata": {
        "id": "PbI25bS1vD7s"
      },
      "source": [
        "Recarguemos el modelo para que puedas probarlo junto con el modelo que aún está en la memoria."
      ]
    },
    {
      "cell_type": "code",
      "execution_count": 37,
      "metadata": {
        "id": "gUEWVskZjEF0"
      },
      "outputs": [],
      "source": [
        "reloaded_model = tf.saved_model.load(EXPORT_PATH)"
      ]
    },
    {
      "cell_type": "markdown",
      "metadata": {
        "id": "oyTappHTvNCz"
      },
      "source": [
        "Aquí se puede probar el modelo en cualquier noticia que desee, simplemente agréguela a la variable de ejemplos a continuación."
      ]
    },
    {
      "cell_type": "code",
      "execution_count": 38,
      "metadata": {
        "id": "VBWzH6exlCPS",
        "colab": {
          "base_uri": "https://localhost:8080/"
        },
        "outputId": "e6fd07e4-b589-4345-c3eb-aab04b0386b6"
      },
      "outputs": [
        {
          "output_type": "stream",
          "name": "stdout",
          "text": [
            "Results del modelo en memoria:\n",
            "input: la tierra es plana!            : score: 0.577570\n",
            "input: El presidente habla con su perro desde el mas alla : score: 0.394385\n",
            "input: Renuncio el ministro de economia : score: 0.002502\n",
            "input: Las vacunas son malas para la salud, tienen microchips que te controlan : score: 0.837542\n",
            "input: El PSOE se la robo toda        : score: 0.985545\n",
            "\n"
          ]
        }
      ],
      "source": [
        "def print_my_examples(inputs, results):\n",
        "    result_for_printing = [\n",
        "        f\"input: {inputs[i]:<30} : score: {results[i][0]:.6f}\"\n",
        "        for i in range(len(inputs))\n",
        "    ]\n",
        "    print(*result_for_printing, sep=\"\\n\")\n",
        "    print()\n",
        "\n",
        "\n",
        "examples = [\n",
        "    \"la tierra es plana!\",\n",
        "    \"El presidente habla con su perro desde el mas alla\",\n",
        "    \"Renuncio el ministro de economia\",\n",
        "    \"Las vacunas son malas para la salud, tienen microchips que te controlan\",\n",
        "    \"El PSOE se la robo toda\",\n",
        "]\n",
        "\n",
        "original_results = classifier_model(tf.constant(examples))\n",
        "print(\"Results del modelo en memoria:\")\n",
        "print_my_examples(examples, original_results)"
      ]
    },
    {
      "cell_type": "markdown",
      "metadata": {
        "id": "7ah5sImLDKBC"
      },
      "source": [
        "## Aprendizaje continuo\n",
        "\n",
        "En este notebook se selecciono Small BERT para entrenar nuestro clasificador de texto. Hay otros modelos BERT previamente entrenados que pueden encontrarse a continuación. Se considera experimentar con algunos de estos, considerado que cuanto más grande sea el modelo a ajustar, más tiempo llevará entrenarlo.\n",
        "\n",
        "Los modelos son:\n",
        "  - [BERT-Base](https://tfhub.dev/tensorflow/bert_en_uncased_L-12_H-768_A-12/3), [Uncased](https://tfhub.dev/tensorflow/bert_en_uncased_L-12_H-768_A-12/3) and [seven more models](https://tfhub.dev/google/collections/bert/1) with trained weights released by the original BERT authors.\n",
        "  - [Small BERTs](https://tfhub.dev/google/collections/bert/1) have the same general architecture but fewer and/or smaller Transformer blocks, which lets you explore tradeoffs between speed, size and quality.\n",
        "  - [ALBERT](https://tfhub.dev/google/collections/albert/1): four different sizes of \"A Lite BERT\" that reduces model size (but not computation time) by sharing parameters between layers.\n",
        "  - [BERT Experts](https://tfhub.dev/google/collections/experts/bert/1): eight models that all have the BERT-base architecture but offer a choice between different pre-training domains, to align more closely with the target task.\n",
        "  - [Electra](https://tfhub.dev/google/collections/electra/1) has the same architecture as BERT (in three different sizes), but gets pre-trained as a discriminator in a set-up that resembles a Generative Adversarial Network (GAN).\n",
        "  - BERT with Talking-Heads Attention and Gated GELU [[base](https://tfhub.dev/tensorflow/talkheads_ggelu_bert_en_base/1), [large](https://tfhub.dev/tensorflow/talkheads_ggelu_bert_en_large/1)] has two improvements to the core of the Transformer architecture.\n",
        "\n",
        "Para mas detalles investigar la documentación del modelo en TensorFlow Hub.\n",
        "\n",
        "Aparte de los modelos disponibles anteriormente, hay [varias versiones](https://tfhub.dev/google/collections/transformer_encoders_text/1) de los modelos que son más grandes y pueden ofrecer una precisión aún mayor, pero son demasiado grandes para ajustar en una sola GPU."
      ]
    },
    {
      "cell_type": "markdown",
      "metadata": {
        "id": "QaTsUTIMDKBC"
      },
      "source": [
        "#### **Licencia**\n",
        "\n",
        "Este notebook esta basado en la documentación oficial de Google para la clasificacion de textos utilizando BERT.\n",
        "\n",
        "Copyright 2022 Google Inc. Licensed under the Apache License, Version 2.0 (the \"License\"); you may not use this file except in compliance with the License. You may obtain a copy of the License at http://www.apache.org/licenses/LICENSE-2.0 Unless required by applicable law or agreed to in writing, software distributed under the License is distributed on an \"AS IS\" BASIS, WITHOUT WARRANTIES OR CONDITIONS OF ANY KIND, either express or implied. See the License for the specific language governing permissions and limitations under the License"
      ]
    }
  ],
  "metadata": {
    "accelerator": "GPU",
    "colab": {
      "provenance": []
    },
    "environment": {
      "kernel": "python3",
      "name": "tf2-gpu.2-12.m109",
      "type": "gcloud",
      "uri": "gcr.io/deeplearning-platform-release/tf2-gpu.2-12:m109"
    },
    "kernelspec": {
      "display_name": "Python 3.8.10 64-bit",
      "language": "python",
      "name": "python3"
    },
    "language_info": {
      "codemirror_mode": {
        "name": "ipython",
        "version": 3
      },
      "file_extension": ".py",
      "mimetype": "text/x-python",
      "name": "python",
      "nbconvert_exporter": "python",
      "pygments_lexer": "ipython3",
      "version": "3.8.10"
    },
    "vscode": {
      "interpreter": {
        "hash": "916dbcbb3f70747c44a77c7bcd40155683ae19c65e1c03b4aa3499c5328201f1"
      }
    }
  },
  "nbformat": 4,
  "nbformat_minor": 0
}