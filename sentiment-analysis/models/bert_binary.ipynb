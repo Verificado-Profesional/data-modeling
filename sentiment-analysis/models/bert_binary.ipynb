{
  "nbformat": 4,
  "nbformat_minor": 0,
  "metadata": {
    "colab": {
      "provenance": [],
      "gpuType": "T4"
    },
    "kernelspec": {
      "name": "python3",
      "display_name": "Python 3"
    },
    "language_info": {
      "name": "python"
    },
    "accelerator": "GPU"
  },
  "cells": [
    {
      "cell_type": "markdown",
      "source": [
        "### Importo Librerias"
      ],
      "metadata": {
        "id": "6KHu5j3ymR69"
      }
    },
    {
      "cell_type": "code",
      "execution_count": 1,
      "metadata": {
        "id": "BMgDAfMckUT9"
      },
      "outputs": [],
      "source": [
        "import os\n",
        "import torch\n",
        "from torch import nn\n",
        "from torch.utils.data import DataLoader, Dataset\n",
        "from transformers import BertTokenizer, BertModel, AdamW, get_linear_schedule_with_warmup\n",
        "from sklearn.model_selection import train_test_split\n",
        "from sklearn.metrics import accuracy_score, classification_report\n",
        "import pandas as pd"
      ]
    },
    {
      "cell_type": "markdown",
      "source": [
        "### Cargo el Dataset"
      ],
      "metadata": {
        "id": "qwQPVJxCmX5L"
      }
    },
    {
      "cell_type": "code",
      "source": [
        "def load_data(df):\n",
        "    texts = list(df['texto'].str.lower())\n",
        "    labels = df['sentimiento'].tolist()\n",
        "    return texts, labels"
      ],
      "metadata": {
        "id": "v0FBP6P-ldVw"
      },
      "execution_count": 14,
      "outputs": []
    },
    {
      "cell_type": "code",
      "source": [
        "data_file = \"./data.csv\"\n",
        "data = pd.read_csv(data_file)\n"
      ],
      "metadata": {
        "id": "1tH9KqpaG8pY"
      },
      "execution_count": 40,
      "outputs": []
    },
    {
      "cell_type": "code",
      "source": [
        "data = data.dropna(subset=['texto'])"
      ],
      "metadata": {
        "id": "gfGdOO63QufY"
      },
      "execution_count": 41,
      "outputs": []
    },
    {
      "cell_type": "code",
      "source": [
        "data['sentimiento'] = data['sentimiento'].replace('Indefinido', 'Neutral')"
      ],
      "metadata": {
        "id": "6FpZt_BaQ5Y4"
      },
      "execution_count": 42,
      "outputs": []
    },
    {
      "cell_type": "code",
      "source": [
        "tf_count = data.value_counts(\"sentimiento\")\n",
        "tf_count"
      ],
      "metadata": {
        "colab": {
          "base_uri": "https://localhost:8080/"
        },
        "id": "1kQOW51fQ7kA",
        "outputId": "274075ce-7e5d-4016-f5e7-81ebf2a6dd46"
      },
      "execution_count": 43,
      "outputs": [
        {
          "output_type": "execute_result",
          "data": {
            "text/plain": [
              "sentimiento\n",
              "Negativo    5798\n",
              "Positivo    5680\n",
              "Neutral     5591\n",
              "Name: count, dtype: int64"
            ]
          },
          "metadata": {},
          "execution_count": 43
        }
      ]
    },
    {
      "cell_type": "code",
      "source": [
        "data = data[data['sentimiento'] != \"Neutral\"]"
      ],
      "metadata": {
        "id": "mAcnE3HRRt5a"
      },
      "execution_count": 44,
      "outputs": []
    },
    {
      "cell_type": "code",
      "source": [
        "data['sentimiento'] = data['sentimiento'].replace({'Positivo':1, 'Negativo':0})"
      ],
      "metadata": {
        "id": "3_H_0nDQTPgz"
      },
      "execution_count": 47,
      "outputs": []
    },
    {
      "cell_type": "code",
      "source": [
        "tf_count = data.value_counts(\"sentimiento\")\n",
        "tf_count"
      ],
      "metadata": {
        "colab": {
          "base_uri": "https://localhost:8080/"
        },
        "id": "EaageTGXTcZf",
        "outputId": "5856fc46-b964-4ce9-ada7-927ee68d98d9"
      },
      "execution_count": 48,
      "outputs": [
        {
          "output_type": "execute_result",
          "data": {
            "text/plain": [
              "sentimiento\n",
              "0    5798\n",
              "1    5680\n",
              "Name: count, dtype: int64"
            ]
          },
          "metadata": {},
          "execution_count": 48
        }
      ]
    },
    {
      "cell_type": "code",
      "source": [
        "texts, labels = load_data(data)"
      ],
      "metadata": {
        "id": "vBmFr98tQ4Ag"
      },
      "execution_count": 49,
      "outputs": []
    },
    {
      "cell_type": "code",
      "source": [
        "class TextClassificationDataset(Dataset):\n",
        "  def __init__(self, texts, labels, tokenizer, max_length):\n",
        "          self.texts = texts\n",
        "          self.labels = labels\n",
        "          self.tokenizer = tokenizer\n",
        "          self.max_length = max_length\n",
        "  def __len__(self):\n",
        "      return len(self.texts)\n",
        "  def __getitem__(self, idx):\n",
        "      text = self.texts[idx]\n",
        "      label = self.labels[idx]\n",
        "      encoding = self.tokenizer(text, return_tensors='pt', max_length=self.max_length, padding='max_length', truncation=True)\n",
        "      return {'input_ids': encoding['input_ids'].flatten(), 'attention_mask': encoding['attention_mask'].flatten(), 'label': torch.tensor(label)}\n"
      ],
      "metadata": {
        "id": "PoTZh88WmJeK"
      },
      "execution_count": 50,
      "outputs": []
    },
    {
      "cell_type": "markdown",
      "source": [
        "### Defino Modelo"
      ],
      "metadata": {
        "id": "j9QnvYfbnDip"
      }
    },
    {
      "cell_type": "code",
      "source": [
        "class BERTClassifier(nn.Module):\n",
        "    def __init__(self, bert_model_name, num_classes):\n",
        "        super(BERTClassifier, self).__init__()\n",
        "        self.bert = BertModel.from_pretrained(bert_model_name)\n",
        "        self.dropout = nn.Dropout(0.1)\n",
        "        self.fc = nn.Linear(self.bert.config.hidden_size, num_classes)\n",
        "\n",
        "    def forward(self, input_ids, attention_mask):\n",
        "            outputs = self.bert(input_ids=input_ids, attention_mask=attention_mask)\n",
        "            pooled_output = outputs.pooler_output\n",
        "            x = self.dropout(pooled_output)\n",
        "            logits = self.fc(x)\n",
        "            return logits"
      ],
      "metadata": {
        "id": "O7XY8T2cmP1m"
      },
      "execution_count": 4,
      "outputs": []
    },
    {
      "cell_type": "code",
      "source": [
        "def train(model, data_loader, optimizer, scheduler, device):\n",
        "    model.train()\n",
        "    for batch in data_loader:\n",
        "        optimizer.zero_grad()\n",
        "        input_ids = batch['input_ids'].to(device)\n",
        "        attention_mask = batch['attention_mask'].to(device)\n",
        "        labels = batch['label'].to(device)\n",
        "        outputs = model(input_ids=input_ids, attention_mask=attention_mask)\n",
        "        loss = nn.CrossEntropyLoss()(outputs, labels)\n",
        "        loss.backward()\n",
        "        optimizer.step()\n",
        "        scheduler.step()"
      ],
      "metadata": {
        "id": "eD_39siinW3R"
      },
      "execution_count": 5,
      "outputs": []
    },
    {
      "cell_type": "code",
      "source": [
        "def evaluate(model, data_loader, device):\n",
        "    model.eval()\n",
        "    predictions = []\n",
        "    actual_labels = []\n",
        "    with torch.no_grad():\n",
        "        for batch in data_loader:\n",
        "            input_ids = batch['input_ids'].to(device)\n",
        "            attention_mask = batch['attention_mask'].to(device)\n",
        "            labels = batch['label'].to(device)\n",
        "            outputs = model(input_ids=input_ids, attention_mask=attention_mask)\n",
        "            _, preds = torch.max(outputs, dim=1)\n",
        "            predictions.extend(preds.cpu().tolist())\n",
        "            actual_labels.extend(labels.cpu().tolist())\n",
        "    return accuracy_score(actual_labels, predictions), classification_report(actual_labels, predictions,digits=4)\n"
      ],
      "metadata": {
        "id": "QnQjZboanafX"
      },
      "execution_count": 6,
      "outputs": []
    },
    {
      "cell_type": "code",
      "source": [
        "def predict_sentiment(text, model, tokenizer, device, max_length=128):\n",
        "    model.eval()\n",
        "    encoding = tokenizer(text, return_tensors='pt', max_length=max_length, padding='max_length', truncation=True)\n",
        "    input_ids = encoding['input_ids'].to(device)\n",
        "    attention_mask = encoding['attention_mask'].to(device)\n",
        "\n",
        "    with torch.no_grad():\n",
        "        outputs = model(input_ids=input_ids, attention_mask=attention_mask)\n",
        "        print(outputs)\n",
        "        _, preds = torch.max(outputs, dim=1)\n",
        "        print(torch.max(outputs, dim=1))\n",
        "        return \"Positive\" if preds.item() == 1 else \"Negative\""
      ],
      "metadata": {
        "id": "O3dnEk7DnbvO"
      },
      "execution_count": 67,
      "outputs": []
    },
    {
      "cell_type": "markdown",
      "source": [
        "### Parametros\n"
      ],
      "metadata": {
        "id": "Jf3bHe14nxbt"
      }
    },
    {
      "cell_type": "code",
      "source": [
        "# Set up parameters\n",
        "bert_model_name = 'dccuchile/bert-base-spanish-wwm-uncased'\n",
        "num_classes = 2\n",
        "max_length = 128\n",
        "batch_size = 16\n",
        "num_epochs = 10\n",
        "learning_rate = 3e-5"
      ],
      "metadata": {
        "id": "V0P5D59mnsA_"
      },
      "execution_count": 75,
      "outputs": []
    },
    {
      "cell_type": "markdown",
      "source": [
        "### Divido los Dataset en Train, Valid y Test"
      ],
      "metadata": {
        "id": "PTMkLRdepTXa"
      }
    },
    {
      "cell_type": "code",
      "source": [
        "train_texts, test_val_texts, train_labels, test_val_labels = train_test_split(texts, labels, test_size=0.4, random_state=42)\n",
        "test_texts, val_texts, test_labels, val_labels = train_test_split(test_val_texts, test_val_labels, test_size=0.5, random_state=42)\n",
        "\n",
        "# Imprime el tamaño de cada conjunto\n",
        "print(\"Tamaño del conjunto de entrenamiento:\", len(train_texts), len(train_labels) )\n",
        "print(\"Tamaño del conjunto de prueba:\", len(test_texts), len(test_labels))\n",
        "print(\"Tamaño del conjunto de validación:\", len(val_texts), len(val_labels))"
      ],
      "metadata": {
        "colab": {
          "base_uri": "https://localhost:8080/"
        },
        "id": "PpM0xST7n5t6",
        "outputId": "bf717917-7255-4993-d250-2c0e9a446aac"
      },
      "execution_count": 71,
      "outputs": [
        {
          "output_type": "stream",
          "name": "stdout",
          "text": [
            "Tamaño del conjunto de entrenamiento: 6886 6886\n",
            "Tamaño del conjunto de prueba: 2296 2296\n",
            "Tamaño del conjunto de validación: 2296 2296\n"
          ]
        }
      ]
    },
    {
      "cell_type": "markdown",
      "source": [
        "### Tokenizer"
      ],
      "metadata": {
        "id": "8DbzoX7zqOPv"
      }
    },
    {
      "cell_type": "code",
      "source": [
        "tokenizer = BertTokenizer.from_pretrained(bert_model_name)"
      ],
      "metadata": {
        "id": "wbfyyW04pCrY"
      },
      "execution_count": 59,
      "outputs": []
    },
    {
      "cell_type": "code",
      "source": [
        "train_dataset = TextClassificationDataset(train_texts, train_labels, tokenizer, max_length)\n",
        "val_dataset = TextClassificationDataset(val_texts, val_labels, tokenizer, max_length)\n",
        "test_dataset = TextClassificationDataset(test_texts, test_labels, tokenizer, max_length)\n",
        "\n",
        "train_dataloader = DataLoader(train_dataset, batch_size=batch_size, shuffle=True)\n",
        "val_dataloader = DataLoader(val_dataset, batch_size=batch_size)\n",
        "test_dataloader = DataLoader(test_dataset, batch_size=batch_size)"
      ],
      "metadata": {
        "id": "B3JU49G9qKf1"
      },
      "execution_count": 72,
      "outputs": []
    },
    {
      "cell_type": "markdown",
      "source": [
        "### Cargo Modelo"
      ],
      "metadata": {
        "id": "uU6qWY1uqWZ1"
      }
    },
    {
      "cell_type": "code",
      "source": [
        "print(torch.cuda.is_available())"
      ],
      "metadata": {
        "colab": {
          "base_uri": "https://localhost:8080/"
        },
        "id": "eCkD1b1X_Uhf",
        "outputId": "6d52de3a-5877-4b08-8c09-0a895d899e39"
      },
      "execution_count": 23,
      "outputs": [
        {
          "output_type": "stream",
          "name": "stdout",
          "text": [
            "True\n"
          ]
        }
      ]
    },
    {
      "cell_type": "code",
      "source": [
        "device = torch.device(\"cuda\" if torch.cuda.is_available() else \"cpu\")\n",
        "model = BERTClassifier(bert_model_name, num_classes).to(device)"
      ],
      "metadata": {
        "colab": {
          "base_uri": "https://localhost:8080/"
        },
        "id": "fpqv0bUkpyCf",
        "outputId": "43d92f24-615d-407d-e1bc-43de649d4c65"
      },
      "execution_count": 73,
      "outputs": [
        {
          "output_type": "stream",
          "name": "stderr",
          "text": [
            "Some weights of BertModel were not initialized from the model checkpoint at dccuchile/bert-base-spanish-wwm-uncased and are newly initialized: ['bert.pooler.dense.bias', 'bert.pooler.dense.weight']\n",
            "You should probably TRAIN this model on a down-stream task to be able to use it for predictions and inference.\n"
          ]
        }
      ]
    },
    {
      "cell_type": "code",
      "source": [
        "optimizer = AdamW(model.parameters(), lr=learning_rate)\n",
        "total_steps = len(train_dataloader) * num_epochs\n",
        "scheduler = get_linear_schedule_with_warmup(optimizer, num_warmup_steps=0, num_training_steps=total_steps)"
      ],
      "metadata": {
        "colab": {
          "base_uri": "https://localhost:8080/"
        },
        "id": "5dCD33ywp3Jf",
        "outputId": "3d682147-1670-4eed-f444-a967f94c8ed8"
      },
      "execution_count": 74,
      "outputs": [
        {
          "output_type": "stream",
          "name": "stderr",
          "text": [
            "/usr/local/lib/python3.10/dist-packages/transformers/optimization.py:429: FutureWarning: This implementation of AdamW is deprecated and will be removed in a future version. Use the PyTorch implementation torch.optim.AdamW instead, or set `no_deprecation_warning=True` to disable this warning\n",
            "  warnings.warn(\n"
          ]
        }
      ]
    },
    {
      "cell_type": "markdown",
      "source": [
        "### Entreno Modelo"
      ],
      "metadata": {
        "id": "dVef1q9_qgVv"
      }
    },
    {
      "cell_type": "code",
      "source": [
        "for epoch in range(num_epochs):\n",
        "        print(f\"Epoch {epoch + 1}/{num_epochs}\")\n",
        "        train(model, train_dataloader, optimizer, scheduler, device)\n",
        "        accuracy, report = evaluate(model, val_dataloader, device)\n",
        "        print(f\"Validation Accuracy: {accuracy:.4f}\")\n",
        "        print(report)"
      ],
      "metadata": {
        "colab": {
          "base_uri": "https://localhost:8080/"
        },
        "id": "KAjuxA-sp_Un",
        "outputId": "b55687b2-6428-4e91-e4e1-56a05b7d8a7a"
      },
      "execution_count": 76,
      "outputs": [
        {
          "output_type": "stream",
          "name": "stdout",
          "text": [
            "Epoch 1/20\n",
            "Validation Accuracy: 0.8645\n",
            "              precision    recall  f1-score   support\n",
            "\n",
            "           0     0.8832    0.8318    0.8567      1118\n",
            "           1     0.8488    0.8956    0.8715      1178\n",
            "\n",
            "    accuracy                         0.8645      2296\n",
            "   macro avg     0.8660    0.8637    0.8641      2296\n",
            "weighted avg     0.8655    0.8645    0.8643      2296\n",
            "\n",
            "Epoch 2/20\n",
            "Validation Accuracy: 0.8659\n",
            "              precision    recall  f1-score   support\n",
            "\n",
            "           0     0.8450    0.8873    0.8656      1118\n",
            "           1     0.8877    0.8455    0.8661      1178\n",
            "\n",
            "    accuracy                         0.8659      2296\n",
            "   macro avg     0.8663    0.8664    0.8659      2296\n",
            "weighted avg     0.8669    0.8659    0.8659      2296\n",
            "\n",
            "Epoch 3/20\n",
            "Validation Accuracy: 0.8576\n",
            "              precision    recall  f1-score   support\n",
            "\n",
            "           0     0.8728    0.8283    0.8499      1118\n",
            "           1     0.8445    0.8854    0.8645      1178\n",
            "\n",
            "    accuracy                         0.8576      2296\n",
            "   macro avg     0.8586    0.8568    0.8572      2296\n",
            "weighted avg     0.8583    0.8576    0.8574      2296\n",
            "\n",
            "Epoch 4/20\n",
            "Validation Accuracy: 0.8685\n",
            "              precision    recall  f1-score   support\n",
            "\n",
            "           0     0.8806    0.8444    0.8621      1118\n",
            "           1     0.8578    0.8913    0.8743      1178\n",
            "\n",
            "    accuracy                         0.8685      2296\n",
            "   macro avg     0.8692    0.8679    0.8682      2296\n",
            "weighted avg     0.8689    0.8685    0.8683      2296\n",
            "\n",
            "Epoch 5/20\n",
            "Validation Accuracy: 0.8449\n",
            "              precision    recall  f1-score   support\n",
            "\n",
            "           0     0.8780    0.7916    0.8325      1118\n",
            "           1     0.8191    0.8956    0.8556      1178\n",
            "\n",
            "    accuracy                         0.8449      2296\n",
            "   macro avg     0.8485    0.8436    0.8441      2296\n",
            "weighted avg     0.8478    0.8449    0.8444      2296\n",
            "\n",
            "Epoch 6/20\n",
            "Validation Accuracy: 0.8598\n",
            "              precision    recall  f1-score   support\n",
            "\n",
            "           0     0.8528    0.8605    0.8566      1118\n",
            "           1     0.8664    0.8591    0.8627      1178\n",
            "\n",
            "    accuracy                         0.8598      2296\n",
            "   macro avg     0.8596    0.8598    0.8597      2296\n",
            "weighted avg     0.8598    0.8598    0.8598      2296\n",
            "\n",
            "Epoch 7/20\n",
            "Validation Accuracy: 0.8554\n",
            "              precision    recall  f1-score   support\n",
            "\n",
            "           0     0.8750    0.8202    0.8467      1118\n",
            "           1     0.8389    0.8888    0.8631      1178\n",
            "\n",
            "    accuracy                         0.8554      2296\n",
            "   macro avg     0.8570    0.8545    0.8549      2296\n",
            "weighted avg     0.8565    0.8554    0.8552      2296\n",
            "\n",
            "Epoch 8/20\n",
            "Validation Accuracy: 0.8602\n",
            "              precision    recall  f1-score   support\n",
            "\n",
            "           0     0.8735    0.8336    0.8531      1118\n",
            "           1     0.8487    0.8854    0.8666      1178\n",
            "\n",
            "    accuracy                         0.8602      2296\n",
            "   macro avg     0.8611    0.8595    0.8599      2296\n",
            "weighted avg     0.8607    0.8602    0.8600      2296\n",
            "\n",
            "Epoch 9/20\n",
            "Validation Accuracy: 0.8637\n",
            "              precision    recall  f1-score   support\n",
            "\n",
            "           0     0.8683    0.8488    0.8584      1118\n",
            "           1     0.8595    0.8778    0.8685      1178\n",
            "\n",
            "    accuracy                         0.8637      2296\n",
            "   macro avg     0.8639    0.8633    0.8635      2296\n",
            "weighted avg     0.8638    0.8637    0.8636      2296\n",
            "\n",
            "Epoch 10/20\n",
            "Validation Accuracy: 0.8641\n",
            "              precision    recall  f1-score   support\n",
            "\n",
            "           0     0.8718    0.8453    0.8583      1118\n",
            "           1     0.8573    0.8820    0.8695      1178\n",
            "\n",
            "    accuracy                         0.8641      2296\n",
            "   macro avg     0.8645    0.8636    0.8639      2296\n",
            "weighted avg     0.8643    0.8641    0.8640      2296\n",
            "\n",
            "Epoch 11/20\n",
            "Validation Accuracy: 0.8641\n",
            "              precision    recall  f1-score   support\n",
            "\n",
            "           0     0.8718    0.8453    0.8583      1118\n",
            "           1     0.8573    0.8820    0.8695      1178\n",
            "\n",
            "    accuracy                         0.8641      2296\n",
            "   macro avg     0.8645    0.8636    0.8639      2296\n",
            "weighted avg     0.8643    0.8641    0.8640      2296\n",
            "\n",
            "Epoch 12/20\n",
            "Validation Accuracy: 0.8641\n",
            "              precision    recall  f1-score   support\n",
            "\n",
            "           0     0.8718    0.8453    0.8583      1118\n",
            "           1     0.8573    0.8820    0.8695      1178\n",
            "\n",
            "    accuracy                         0.8641      2296\n",
            "   macro avg     0.8645    0.8636    0.8639      2296\n",
            "weighted avg     0.8643    0.8641    0.8640      2296\n",
            "\n",
            "Epoch 13/20\n",
            "Validation Accuracy: 0.8641\n",
            "              precision    recall  f1-score   support\n",
            "\n",
            "           0     0.8718    0.8453    0.8583      1118\n",
            "           1     0.8573    0.8820    0.8695      1178\n",
            "\n",
            "    accuracy                         0.8641      2296\n",
            "   macro avg     0.8645    0.8636    0.8639      2296\n",
            "weighted avg     0.8643    0.8641    0.8640      2296\n",
            "\n",
            "Epoch 14/20\n",
            "Validation Accuracy: 0.8641\n",
            "              precision    recall  f1-score   support\n",
            "\n",
            "           0     0.8718    0.8453    0.8583      1118\n",
            "           1     0.8573    0.8820    0.8695      1178\n",
            "\n",
            "    accuracy                         0.8641      2296\n",
            "   macro avg     0.8645    0.8636    0.8639      2296\n",
            "weighted avg     0.8643    0.8641    0.8640      2296\n",
            "\n",
            "Epoch 15/20\n",
            "Validation Accuracy: 0.8641\n",
            "              precision    recall  f1-score   support\n",
            "\n",
            "           0     0.8718    0.8453    0.8583      1118\n",
            "           1     0.8573    0.8820    0.8695      1178\n",
            "\n",
            "    accuracy                         0.8641      2296\n",
            "   macro avg     0.8645    0.8636    0.8639      2296\n",
            "weighted avg     0.8643    0.8641    0.8640      2296\n",
            "\n",
            "Epoch 16/20\n",
            "Validation Accuracy: 0.8641\n",
            "              precision    recall  f1-score   support\n",
            "\n",
            "           0     0.8718    0.8453    0.8583      1118\n",
            "           1     0.8573    0.8820    0.8695      1178\n",
            "\n",
            "    accuracy                         0.8641      2296\n",
            "   macro avg     0.8645    0.8636    0.8639      2296\n",
            "weighted avg     0.8643    0.8641    0.8640      2296\n",
            "\n",
            "Epoch 17/20\n",
            "Validation Accuracy: 0.8641\n",
            "              precision    recall  f1-score   support\n",
            "\n",
            "           0     0.8718    0.8453    0.8583      1118\n",
            "           1     0.8573    0.8820    0.8695      1178\n",
            "\n",
            "    accuracy                         0.8641      2296\n",
            "   macro avg     0.8645    0.8636    0.8639      2296\n",
            "weighted avg     0.8643    0.8641    0.8640      2296\n",
            "\n",
            "Epoch 18/20\n",
            "Validation Accuracy: 0.8641\n",
            "              precision    recall  f1-score   support\n",
            "\n",
            "           0     0.8718    0.8453    0.8583      1118\n",
            "           1     0.8573    0.8820    0.8695      1178\n",
            "\n",
            "    accuracy                         0.8641      2296\n",
            "   macro avg     0.8645    0.8636    0.8639      2296\n",
            "weighted avg     0.8643    0.8641    0.8640      2296\n",
            "\n",
            "Epoch 19/20\n",
            "Validation Accuracy: 0.8641\n",
            "              precision    recall  f1-score   support\n",
            "\n",
            "           0     0.8718    0.8453    0.8583      1118\n",
            "           1     0.8573    0.8820    0.8695      1178\n",
            "\n",
            "    accuracy                         0.8641      2296\n",
            "   macro avg     0.8645    0.8636    0.8639      2296\n",
            "weighted avg     0.8643    0.8641    0.8640      2296\n",
            "\n",
            "Epoch 20/20\n",
            "Validation Accuracy: 0.8641\n",
            "              precision    recall  f1-score   support\n",
            "\n",
            "           0     0.8718    0.8453    0.8583      1118\n",
            "           1     0.8573    0.8820    0.8695      1178\n",
            "\n",
            "    accuracy                         0.8641      2296\n",
            "   macro avg     0.8645    0.8636    0.8639      2296\n",
            "weighted avg     0.8643    0.8641    0.8640      2296\n",
            "\n"
          ]
        }
      ]
    },
    {
      "cell_type": "markdown",
      "source": [
        "### Guardo el Modelo"
      ],
      "metadata": {
        "id": "HjmYcYgUA985"
      }
    },
    {
      "cell_type": "code",
      "source": [
        "torch.save(model.state_dict(), \"bert_classifier.pth\")\n"
      ],
      "metadata": {
        "id": "an0IfBQEuNsn"
      },
      "execution_count": 69,
      "outputs": []
    },
    {
      "cell_type": "markdown",
      "source": [
        "### Evaluo el modelo"
      ],
      "metadata": {
        "id": "e0rdTPO6BAJP"
      }
    },
    {
      "cell_type": "code",
      "source": [
        "accuracy, report = evaluate(model, test_dataloader, device)\n"
      ],
      "metadata": {
        "id": "068gCUb3AOsC"
      },
      "execution_count": 77,
      "outputs": []
    },
    {
      "cell_type": "code",
      "source": [
        "print(f\"Test Accuracy: {accuracy:.4f}\")\n",
        "print(report)"
      ],
      "metadata": {
        "id": "9GLPKbGCBq4R",
        "colab": {
          "base_uri": "https://localhost:8080/"
        },
        "outputId": "295639eb-d126-4f25-c0d2-76c3216e1bd8"
      },
      "execution_count": 78,
      "outputs": [
        {
          "output_type": "stream",
          "name": "stdout",
          "text": [
            "Test Accuracy: 0.8550\n",
            "              precision    recall  f1-score   support\n",
            "\n",
            "           0     0.8675    0.8461    0.8567      1176\n",
            "           1     0.8425    0.8643    0.8532      1120\n",
            "\n",
            "    accuracy                         0.8550      2296\n",
            "   macro avg     0.8550    0.8552    0.8549      2296\n",
            "weighted avg     0.8553    0.8550    0.8550      2296\n",
            "\n"
          ]
        }
      ]
    },
    {
      "cell_type": "code",
      "source": [
        "test_text = \"El presidente es un ladron.\"\n",
        "sentiment = predict_sentiment(test_text, model, tokenizer, device)\n",
        "print(test_text)\n",
        "print(f\"Predicted veracity: {sentiment}\")"
      ],
      "metadata": {
        "colab": {
          "base_uri": "https://localhost:8080/"
        },
        "id": "deoQQYzXuP2_",
        "outputId": "02c29cac-bbde-4f02-a310-9b96280bb062"
      },
      "execution_count": 79,
      "outputs": [
        {
          "output_type": "stream",
          "name": "stdout",
          "text": [
            "tensor([[ 4.6180, -5.3795]], device='cuda:0')\n",
            "torch.return_types.max(\n",
            "values=tensor([4.6180], device='cuda:0'),\n",
            "indices=tensor([0], device='cuda:0'))\n",
            "El presidente es un ladron.\n",
            "Predicted veracity: Negative\n"
          ]
        }
      ]
    }
  ]
}